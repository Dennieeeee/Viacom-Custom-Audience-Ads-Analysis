{
  "nbformat": 4,
  "nbformat_minor": 0,
  "metadata": {
    "kernelspec": {
      "display_name": "Python 3",
      "language": "python",
      "name": "python3"
    },
    "language_info": {
      "codemirror_mode": {
        "name": "ipython",
        "version": 3
      },
      "file_extension": ".py",
      "mimetype": "text/x-python",
      "name": "python",
      "nbconvert_exporter": "python",
      "pygments_lexer": "ipython3",
      "version": "3.7.4"
    },
    "colab": {
      "name": "Data Cleaning and EDA.ipynb",
      "provenance": [],
      "include_colab_link": true
    }
  },
  "cells": [
    {
      "cell_type": "markdown",
      "metadata": {
        "id": "view-in-github",
        "colab_type": "text"
      },
      "source": [
        "<a href=\"https://colab.research.google.com/github/Dennieeeee/Viacom-Custom-Audience-Ads-Analysis/blob/main/Data_Cleaning_and_EDA.ipynb\" target=\"_parent\"><img src=\"https://colab.research.google.com/assets/colab-badge.svg\" alt=\"Open In Colab\"/></a>"
      ]
    },
    {
      "cell_type": "code",
      "metadata": {
        "id": "edpS1YQMs4Gq",
        "outputId": "0cec21fc-61ea-4a8c-f635-cbcef0bdec5b"
      },
      "source": [
        "import pandas as pd\n",
        "import numpy as np\n",
        "import matplotlib.pyplot as plt\n",
        "import seaborn as sns\n",
        "%matplotlib inline"
      ],
      "execution_count": null,
      "outputs": [
        {
          "output_type": "stream",
          "text": [
            "/opt/anaconda3/lib/python3.7/site-packages/statsmodels/tools/_testing.py:19: FutureWarning: pandas.util.testing is deprecated. Use the functions in the public API at pandas.testing instead.\n",
            "  import pandas.util.testing as tm\n"
          ],
          "name": "stderr"
        }
      ]
    },
    {
      "cell_type": "code",
      "metadata": {
        "id": "mSNKEJras4Gr",
        "outputId": "36031018-c4c6-48ed-e9c5-b4d9de1bf35b"
      },
      "source": [
        "df=pd.read_csv('custom_audience_ads.csv')"
      ],
      "execution_count": null,
      "outputs": [
        {
          "output_type": "stream",
          "text": [
            "/opt/anaconda3/lib/python3.7/site-packages/IPython/core/interactiveshell.py:3058: DtypeWarning: Columns (7) have mixed types.Specify dtype option on import or set low_memory=False.\n",
            "  interactivity=interactivity, compiler=compiler, result=result)\n"
          ],
          "name": "stderr"
        }
      ]
    },
    {
      "cell_type": "code",
      "metadata": {
        "id": "1GhDttE7s4Gr",
        "outputId": "6a8cb1f1-aa7a-4dd7-9db0-792ec33c5012"
      },
      "source": [
        "df.shape"
      ],
      "execution_count": null,
      "outputs": [
        {
          "output_type": "execute_result",
          "data": {
            "text/plain": [
              "(885931, 21)"
            ]
          },
          "metadata": {
            "tags": []
          },
          "execution_count": 3
        }
      ]
    },
    {
      "cell_type": "code",
      "metadata": {
        "id": "lKuFLt0Ms4Gr",
        "outputId": "0a3ec0b9-4f1b-49e0-85c1-10e6ae174de1"
      },
      "source": [
        "df.head(3)"
      ],
      "execution_count": null,
      "outputs": [
        {
          "output_type": "execute_result",
          "data": {
            "text/html": [
              "<div>\n",
              "<style scoped>\n",
              "    .dataframe tbody tr th:only-of-type {\n",
              "        vertical-align: middle;\n",
              "    }\n",
              "\n",
              "    .dataframe tbody tr th {\n",
              "        vertical-align: top;\n",
              "    }\n",
              "\n",
              "    .dataframe thead th {\n",
              "        text-align: right;\n",
              "    }\n",
              "</style>\n",
              "<table border=\"1\" class=\"dataframe\">\n",
              "  <thead>\n",
              "    <tr style=\"text-align: right;\">\n",
              "      <th></th>\n",
              "      <th>account_id</th>\n",
              "      <th>approximate_count</th>\n",
              "      <th>custom_audience_id</th>\n",
              "      <th>name</th>\n",
              "      <th>retention_days</th>\n",
              "      <th>time_created</th>\n",
              "      <th>customer_file_source</th>\n",
              "      <th>description</th>\n",
              "      <th>is_value_based</th>\n",
              "      <th>data_source_type</th>\n",
              "      <th>...</th>\n",
              "      <th>data_source_creation_params</th>\n",
              "      <th>ad_id</th>\n",
              "      <th>clicks</th>\n",
              "      <th>cpc</th>\n",
              "      <th>impressions</th>\n",
              "      <th>cpm</th>\n",
              "      <th>ctr</th>\n",
              "      <th>comments</th>\n",
              "      <th>video_views</th>\n",
              "      <th>post_reactions</th>\n",
              "    </tr>\n",
              "  </thead>\n",
              "  <tbody>\n",
              "    <tr>\n",
              "      <th>0</th>\n",
              "      <td>104657973074389</td>\n",
              "      <td>1000</td>\n",
              "      <td>6084391234802</td>\n",
              "      <td>Thermador: Retargeting Users who watched Amand...</td>\n",
              "      <td>365</td>\n",
              "      <td>2017-12-08 19:29:08</td>\n",
              "      <td>NOT_APPLICABLE</td>\n",
              "      <td>NaN</td>\n",
              "      <td>False</td>\n",
              "      <td>EVENT_BASED</td>\n",
              "      <td>...</td>\n",
              "      <td>{\"prefill\":\"true\"}</td>\n",
              "      <td>0</td>\n",
              "      <td>NaN</td>\n",
              "      <td>NaN</td>\n",
              "      <td>NaN</td>\n",
              "      <td>NaN</td>\n",
              "      <td>NaN</td>\n",
              "      <td>NaN</td>\n",
              "      <td>NaN</td>\n",
              "      <td>NaN</td>\n",
              "    </tr>\n",
              "    <tr>\n",
              "      <th>1</th>\n",
              "      <td>104657973074389</td>\n",
              "      <td>1000</td>\n",
              "      <td>6083309678802</td>\n",
              "      <td>Remarketing Macys Spring Fashion</td>\n",
              "      <td>365</td>\n",
              "      <td>2017-11-18 20:36:49</td>\n",
              "      <td>NOT_APPLICABLE</td>\n",
              "      <td>NaN</td>\n",
              "      <td>False</td>\n",
              "      <td>EVENT_BASED</td>\n",
              "      <td>...</td>\n",
              "      <td>{\"prefill\":\"true\"}</td>\n",
              "      <td>0</td>\n",
              "      <td>NaN</td>\n",
              "      <td>NaN</td>\n",
              "      <td>NaN</td>\n",
              "      <td>NaN</td>\n",
              "      <td>NaN</td>\n",
              "      <td>NaN</td>\n",
              "      <td>NaN</td>\n",
              "      <td>NaN</td>\n",
              "    </tr>\n",
              "    <tr>\n",
              "      <th>2</th>\n",
              "      <td>104657973074389</td>\n",
              "      <td>15000</td>\n",
              "      <td>6083223001402</td>\n",
              "      <td>People who watched at least 3 second of Panten...</td>\n",
              "      <td>365</td>\n",
              "      <td>2017-11-17 17:01:42</td>\n",
              "      <td>NOT_APPLICABLE</td>\n",
              "      <td>NaN</td>\n",
              "      <td>False</td>\n",
              "      <td>EVENT_BASED</td>\n",
              "      <td>...</td>\n",
              "      <td>{\"prefill\":\"true\"}</td>\n",
              "      <td>23842681867540388</td>\n",
              "      <td>2.0</td>\n",
              "      <td>0.145</td>\n",
              "      <td>104.0</td>\n",
              "      <td>2.788462</td>\n",
              "      <td>0.0192</td>\n",
              "      <td>0.0</td>\n",
              "      <td>23.0</td>\n",
              "      <td>0.0</td>\n",
              "    </tr>\n",
              "  </tbody>\n",
              "</table>\n",
              "<p>3 rows × 21 columns</p>\n",
              "</div>"
            ],
            "text/plain": [
              "        account_id  approximate_count  custom_audience_id  \\\n",
              "0  104657973074389               1000       6084391234802   \n",
              "1  104657973074389               1000       6083309678802   \n",
              "2  104657973074389              15000       6083223001402   \n",
              "\n",
              "                                                name  retention_days  \\\n",
              "0  Thermador: Retargeting Users who watched Amand...             365   \n",
              "1                   Remarketing Macys Spring Fashion             365   \n",
              "2  People who watched at least 3 second of Panten...             365   \n",
              "\n",
              "          time_created customer_file_source description  is_value_based  \\\n",
              "0  2017-12-08 19:29:08       NOT_APPLICABLE         NaN           False   \n",
              "1  2017-11-18 20:36:49       NOT_APPLICABLE         NaN           False   \n",
              "2  2017-11-17 17:01:42       NOT_APPLICABLE         NaN           False   \n",
              "\n",
              "  data_source_type  ... data_source_creation_params              ad_id  \\\n",
              "0      EVENT_BASED  ...          {\"prefill\":\"true\"}                  0   \n",
              "1      EVENT_BASED  ...          {\"prefill\":\"true\"}                  0   \n",
              "2      EVENT_BASED  ...          {\"prefill\":\"true\"}  23842681867540388   \n",
              "\n",
              "   clicks    cpc  impressions       cpm     ctr  comments  video_views  \\\n",
              "0     NaN    NaN          NaN       NaN     NaN       NaN          NaN   \n",
              "1     NaN    NaN          NaN       NaN     NaN       NaN          NaN   \n",
              "2     2.0  0.145        104.0  2.788462  0.0192       0.0         23.0   \n",
              "\n",
              "   post_reactions  \n",
              "0             NaN  \n",
              "1             NaN  \n",
              "2             0.0  \n",
              "\n",
              "[3 rows x 21 columns]"
            ]
          },
          "metadata": {
            "tags": []
          },
          "execution_count": 4
        }
      ]
    },
    {
      "cell_type": "code",
      "metadata": {
        "id": "O6x634o2s4Gr"
      },
      "source": [
        "df2=pd.read_csv('lookalike_data.csv')"
      ],
      "execution_count": null,
      "outputs": []
    },
    {
      "cell_type": "code",
      "metadata": {
        "id": "GepWfg_ws4Gr",
        "outputId": "34326b8a-4d8b-4f8a-bd28-0a0d17c65a3f"
      },
      "source": [
        "df2.shape"
      ],
      "execution_count": null,
      "outputs": [
        {
          "output_type": "execute_result",
          "data": {
            "text/plain": [
              "(1078, 5)"
            ]
          },
          "metadata": {
            "tags": []
          },
          "execution_count": 6
        }
      ]
    },
    {
      "cell_type": "code",
      "metadata": {
        "id": "HLgXEDyNs4Gr",
        "outputId": "82c8a7c6-8ef9-48da-e853-0e0f53c12add"
      },
      "source": [
        "df2.head(3)"
      ],
      "execution_count": null,
      "outputs": [
        {
          "output_type": "execute_result",
          "data": {
            "text/html": [
              "<div>\n",
              "<style scoped>\n",
              "    .dataframe tbody tr th:only-of-type {\n",
              "        vertical-align: middle;\n",
              "    }\n",
              "\n",
              "    .dataframe tbody tr th {\n",
              "        vertical-align: top;\n",
              "    }\n",
              "\n",
              "    .dataframe thead th {\n",
              "        text-align: right;\n",
              "    }\n",
              "</style>\n",
              "<table border=\"1\" class=\"dataframe\">\n",
              "  <thead>\n",
              "    <tr style=\"text-align: right;\">\n",
              "      <th></th>\n",
              "      <th>country</th>\n",
              "      <th>ratio</th>\n",
              "      <th>origin_id</th>\n",
              "      <th>origin_name</th>\n",
              "      <th>origin_type</th>\n",
              "    </tr>\n",
              "  </thead>\n",
              "  <tbody>\n",
              "    <tr>\n",
              "      <th>0</th>\n",
              "      <td>US</td>\n",
              "      <td>0.08</td>\n",
              "      <td>6071223636402</td>\n",
              "      <td>Everyone Who Engaged With MTV Page</td>\n",
              "      <td>custom_audience</td>\n",
              "    </tr>\n",
              "    <tr>\n",
              "      <th>1</th>\n",
              "      <td>US</td>\n",
              "      <td>0.08</td>\n",
              "      <td>6071223547802</td>\n",
              "      <td>Everyone Who Engaged With Teyana Taylor Page</td>\n",
              "      <td>custom_audience</td>\n",
              "    </tr>\n",
              "    <tr>\n",
              "      <th>2</th>\n",
              "      <td>US</td>\n",
              "      <td>0.08</td>\n",
              "      <td>6071223510402</td>\n",
              "      <td>Everyone who engaged with Diamond White Page</td>\n",
              "      <td>custom_audience</td>\n",
              "    </tr>\n",
              "  </tbody>\n",
              "</table>\n",
              "</div>"
            ],
            "text/plain": [
              "  country  ratio      origin_id                                   origin_name  \\\n",
              "0      US   0.08  6071223636402            Everyone Who Engaged With MTV Page   \n",
              "1      US   0.08  6071223547802  Everyone Who Engaged With Teyana Taylor Page   \n",
              "2      US   0.08  6071223510402  Everyone who engaged with Diamond White Page   \n",
              "\n",
              "       origin_type  \n",
              "0  custom_audience  \n",
              "1  custom_audience  \n",
              "2  custom_audience  "
            ]
          },
          "metadata": {
            "tags": []
          },
          "execution_count": 7
        }
      ]
    },
    {
      "cell_type": "markdown",
      "metadata": {
        "id": "k9oslmPrs4Gr"
      },
      "source": [
        "# Data Preparation"
      ]
    },
    {
      "cell_type": "markdown",
      "metadata": {
        "id": "kCie6oJss4Gr"
      },
      "source": [
        "## Part I: custom audience ads"
      ]
    },
    {
      "cell_type": "code",
      "metadata": {
        "id": "CnjNru5-s4Gr",
        "outputId": "2cf398fc-fc38-4a94-aeda-84919b4a3456"
      },
      "source": [
        "df.isnull().sum()"
      ],
      "execution_count": null,
      "outputs": [
        {
          "output_type": "execute_result",
          "data": {
            "text/plain": [
              "account_id                          0\n",
              "approximate_count                   0\n",
              "custom_audience_id                  0\n",
              "name                                0\n",
              "retention_days                      0\n",
              "time_created                        0\n",
              "customer_file_source                0\n",
              "description                    865134\n",
              "is_value_based                      0\n",
              "data_source_type                    0\n",
              "data_source_sub_type                0\n",
              "data_source_creation_params         0\n",
              "ad_id                               0\n",
              "clicks                         107451\n",
              "cpc                            172522\n",
              "impressions                    107451\n",
              "cpm                            107463\n",
              "ctr                            107463\n",
              "comments                       112061\n",
              "video_views                    112061\n",
              "post_reactions                 112061\n",
              "dtype: int64"
            ]
          },
          "metadata": {
            "tags": []
          },
          "execution_count": 8
        }
      ]
    },
    {
      "cell_type": "code",
      "metadata": {
        "id": "qIyHaliFs4Gr",
        "outputId": "aa478d8b-5f98-4b05-d140-78a693e6c675"
      },
      "source": [
        "df.info()"
      ],
      "execution_count": null,
      "outputs": [
        {
          "output_type": "stream",
          "text": [
            "<class 'pandas.core.frame.DataFrame'>\n",
            "RangeIndex: 885931 entries, 0 to 885930\n",
            "Data columns (total 21 columns):\n",
            " #   Column                       Non-Null Count   Dtype  \n",
            "---  ------                       --------------   -----  \n",
            " 0   account_id                   885931 non-null  int64  \n",
            " 1   approximate_count            885931 non-null  int64  \n",
            " 2   custom_audience_id           885931 non-null  int64  \n",
            " 3   name                         885931 non-null  object \n",
            " 4   retention_days               885931 non-null  int64  \n",
            " 5   time_created                 885931 non-null  object \n",
            " 6   customer_file_source         885931 non-null  object \n",
            " 7   description                  20797 non-null   object \n",
            " 8   is_value_based               885931 non-null  bool   \n",
            " 9   data_source_type             885931 non-null  object \n",
            " 10  data_source_sub_type         885931 non-null  object \n",
            " 11  data_source_creation_params  885931 non-null  object \n",
            " 12  ad_id                        885931 non-null  int64  \n",
            " 13  clicks                       778480 non-null  float64\n",
            " 14  cpc                          713409 non-null  float64\n",
            " 15  impressions                  778480 non-null  float64\n",
            " 16  cpm                          778468 non-null  float64\n",
            " 17  ctr                          778468 non-null  float64\n",
            " 18  comments                     773870 non-null  float64\n",
            " 19  video_views                  773870 non-null  float64\n",
            " 20  post_reactions               773870 non-null  float64\n",
            "dtypes: bool(1), float64(8), int64(5), object(7)\n",
            "memory usage: 136.0+ MB\n"
          ],
          "name": "stdout"
        }
      ]
    },
    {
      "cell_type": "code",
      "metadata": {
        "id": "-gfhodwcs4Gs"
      },
      "source": [
        "df['time_created']=pd.to_datetime(df['time_created'])"
      ],
      "execution_count": null,
      "outputs": []
    },
    {
      "cell_type": "code",
      "metadata": {
        "id": "_1XIPwQcs4Gs",
        "outputId": "460e7635-4c3c-4d3f-942c-af34c3307113"
      },
      "source": [
        "print('Entrees duplicates: {}'.format(df.duplicated().sum()))\n",
        "df.drop_duplicates(inplace = True)"
      ],
      "execution_count": null,
      "outputs": [
        {
          "output_type": "stream",
          "text": [
            "Entrees duplicates: 0\n"
          ],
          "name": "stdout"
        }
      ]
    },
    {
      "cell_type": "code",
      "metadata": {
        "id": "jgBDXm6ls4Gs"
      },
      "source": [
        "df.dropna(subset=['cpc'],inplace=True)"
      ],
      "execution_count": null,
      "outputs": []
    },
    {
      "cell_type": "code",
      "metadata": {
        "id": "Yjc7c1p9s4Gs",
        "outputId": "3204b94e-7ea9-4ae1-9b2a-1765ad88141c"
      },
      "source": [
        "df[df['comments'].isnull()].head()"
      ],
      "execution_count": null,
      "outputs": [
        {
          "output_type": "execute_result",
          "data": {
            "text/html": [
              "<div>\n",
              "<style scoped>\n",
              "    .dataframe tbody tr th:only-of-type {\n",
              "        vertical-align: middle;\n",
              "    }\n",
              "\n",
              "    .dataframe tbody tr th {\n",
              "        vertical-align: top;\n",
              "    }\n",
              "\n",
              "    .dataframe thead th {\n",
              "        text-align: right;\n",
              "    }\n",
              "</style>\n",
              "<table border=\"1\" class=\"dataframe\">\n",
              "  <thead>\n",
              "    <tr style=\"text-align: right;\">\n",
              "      <th></th>\n",
              "      <th>account_id</th>\n",
              "      <th>approximate_count</th>\n",
              "      <th>custom_audience_id</th>\n",
              "      <th>name</th>\n",
              "      <th>retention_days</th>\n",
              "      <th>time_created</th>\n",
              "      <th>customer_file_source</th>\n",
              "      <th>description</th>\n",
              "      <th>is_value_based</th>\n",
              "      <th>data_source_type</th>\n",
              "      <th>...</th>\n",
              "      <th>data_source_creation_params</th>\n",
              "      <th>ad_id</th>\n",
              "      <th>clicks</th>\n",
              "      <th>cpc</th>\n",
              "      <th>impressions</th>\n",
              "      <th>cpm</th>\n",
              "      <th>ctr</th>\n",
              "      <th>comments</th>\n",
              "      <th>video_views</th>\n",
              "      <th>post_reactions</th>\n",
              "    </tr>\n",
              "  </thead>\n",
              "  <tbody>\n",
              "    <tr>\n",
              "      <th>303</th>\n",
              "      <td>104657973074389</td>\n",
              "      <td>1000</td>\n",
              "      <td>6070841938002</td>\n",
              "      <td>Viacom MTV #HereToListen : People who have wat...</td>\n",
              "      <td>365</td>\n",
              "      <td>2017-05-03 14:17:41</td>\n",
              "      <td>NOT_APPLICABLE</td>\n",
              "      <td>NaN</td>\n",
              "      <td>False</td>\n",
              "      <td>EVENT_BASED</td>\n",
              "      <td>...</td>\n",
              "      <td>{\"prefill\":\"true\"}</td>\n",
              "      <td>23842658769320407</td>\n",
              "      <td>1035.0</td>\n",
              "      <td>2.415459</td>\n",
              "      <td>512500.0</td>\n",
              "      <td>4.878049</td>\n",
              "      <td>0.0020</td>\n",
              "      <td>NaN</td>\n",
              "      <td>NaN</td>\n",
              "      <td>NaN</td>\n",
              "    </tr>\n",
              "    <tr>\n",
              "      <th>32469</th>\n",
              "      <td>10153363056646318</td>\n",
              "      <td>3100</td>\n",
              "      <td>6036110083646</td>\n",
              "      <td>video viewers</td>\n",
              "      <td>30</td>\n",
              "      <td>2016-03-08 22:28:51</td>\n",
              "      <td>NOT_APPLICABLE</td>\n",
              "      <td>NaN</td>\n",
              "      <td>False</td>\n",
              "      <td>EVENT_BASED</td>\n",
              "      <td>...</td>\n",
              "      <td>{\"prefill\":\"true\"}</td>\n",
              "      <td>6036179896246</td>\n",
              "      <td>7306.0</td>\n",
              "      <td>0.301489</td>\n",
              "      <td>536282.0</td>\n",
              "      <td>4.107317</td>\n",
              "      <td>0.0136</td>\n",
              "      <td>NaN</td>\n",
              "      <td>NaN</td>\n",
              "      <td>NaN</td>\n",
              "    </tr>\n",
              "    <tr>\n",
              "      <th>647603</th>\n",
              "      <td>985438574834214</td>\n",
              "      <td>1000</td>\n",
              "      <td>6086471864214</td>\n",
              "      <td>Everyone who engaged with BET Facebook Page</td>\n",
              "      <td>365</td>\n",
              "      <td>2018-03-26 20:17:38</td>\n",
              "      <td>NOT_APPLICABLE</td>\n",
              "      <td>NaN</td>\n",
              "      <td>False</td>\n",
              "      <td>EVENT_BASED</td>\n",
              "      <td>...</td>\n",
              "      <td>{\"prefill\":\"true\"}</td>\n",
              "      <td>23842887693810392</td>\n",
              "      <td>90.0</td>\n",
              "      <td>4.633444</td>\n",
              "      <td>192546.0</td>\n",
              "      <td>2.165768</td>\n",
              "      <td>0.0005</td>\n",
              "      <td>NaN</td>\n",
              "      <td>NaN</td>\n",
              "      <td>NaN</td>\n",
              "    </tr>\n",
              "    <tr>\n",
              "      <th>647604</th>\n",
              "      <td>985438574834214</td>\n",
              "      <td>1000</td>\n",
              "      <td>6086471864214</td>\n",
              "      <td>Everyone who engaged with BET Facebook Page</td>\n",
              "      <td>365</td>\n",
              "      <td>2018-03-26 20:17:38</td>\n",
              "      <td>NOT_APPLICABLE</td>\n",
              "      <td>NaN</td>\n",
              "      <td>False</td>\n",
              "      <td>EVENT_BASED</td>\n",
              "      <td>...</td>\n",
              "      <td>{\"prefill\":\"true\"}</td>\n",
              "      <td>23842884700310392</td>\n",
              "      <td>976.0</td>\n",
              "      <td>0.188801</td>\n",
              "      <td>132678.0</td>\n",
              "      <td>1.388851</td>\n",
              "      <td>0.0074</td>\n",
              "      <td>NaN</td>\n",
              "      <td>NaN</td>\n",
              "      <td>NaN</td>\n",
              "    </tr>\n",
              "    <tr>\n",
              "      <th>647605</th>\n",
              "      <td>985438574834214</td>\n",
              "      <td>1000</td>\n",
              "      <td>6086471864214</td>\n",
              "      <td>Everyone who engaged with BET Facebook Page</td>\n",
              "      <td>365</td>\n",
              "      <td>2018-03-26 20:17:38</td>\n",
              "      <td>NOT_APPLICABLE</td>\n",
              "      <td>NaN</td>\n",
              "      <td>False</td>\n",
              "      <td>EVENT_BASED</td>\n",
              "      <td>...</td>\n",
              "      <td>{\"prefill\":\"true\"}</td>\n",
              "      <td>23842884690730392</td>\n",
              "      <td>2093.0</td>\n",
              "      <td>0.036240</td>\n",
              "      <td>25025.0</td>\n",
              "      <td>3.030969</td>\n",
              "      <td>0.0836</td>\n",
              "      <td>NaN</td>\n",
              "      <td>NaN</td>\n",
              "      <td>NaN</td>\n",
              "    </tr>\n",
              "  </tbody>\n",
              "</table>\n",
              "<p>5 rows × 21 columns</p>\n",
              "</div>"
            ],
            "text/plain": [
              "               account_id  approximate_count  custom_audience_id  \\\n",
              "303       104657973074389               1000       6070841938002   \n",
              "32469   10153363056646318               3100       6036110083646   \n",
              "647603    985438574834214               1000       6086471864214   \n",
              "647604    985438574834214               1000       6086471864214   \n",
              "647605    985438574834214               1000       6086471864214   \n",
              "\n",
              "                                                     name  retention_days  \\\n",
              "303     Viacom MTV #HereToListen : People who have wat...             365   \n",
              "32469                                       video viewers              30   \n",
              "647603        Everyone who engaged with BET Facebook Page             365   \n",
              "647604        Everyone who engaged with BET Facebook Page             365   \n",
              "647605        Everyone who engaged with BET Facebook Page             365   \n",
              "\n",
              "              time_created customer_file_source description  is_value_based  \\\n",
              "303    2017-05-03 14:17:41       NOT_APPLICABLE         NaN           False   \n",
              "32469  2016-03-08 22:28:51       NOT_APPLICABLE         NaN           False   \n",
              "647603 2018-03-26 20:17:38       NOT_APPLICABLE         NaN           False   \n",
              "647604 2018-03-26 20:17:38       NOT_APPLICABLE         NaN           False   \n",
              "647605 2018-03-26 20:17:38       NOT_APPLICABLE         NaN           False   \n",
              "\n",
              "       data_source_type  ... data_source_creation_params              ad_id  \\\n",
              "303         EVENT_BASED  ...          {\"prefill\":\"true\"}  23842658769320407   \n",
              "32469       EVENT_BASED  ...          {\"prefill\":\"true\"}      6036179896246   \n",
              "647603      EVENT_BASED  ...          {\"prefill\":\"true\"}  23842887693810392   \n",
              "647604      EVENT_BASED  ...          {\"prefill\":\"true\"}  23842884700310392   \n",
              "647605      EVENT_BASED  ...          {\"prefill\":\"true\"}  23842884690730392   \n",
              "\n",
              "        clicks       cpc  impressions       cpm     ctr  comments  \\\n",
              "303     1035.0  2.415459     512500.0  4.878049  0.0020       NaN   \n",
              "32469   7306.0  0.301489     536282.0  4.107317  0.0136       NaN   \n",
              "647603    90.0  4.633444     192546.0  2.165768  0.0005       NaN   \n",
              "647604   976.0  0.188801     132678.0  1.388851  0.0074       NaN   \n",
              "647605  2093.0  0.036240      25025.0  3.030969  0.0836       NaN   \n",
              "\n",
              "        video_views  post_reactions  \n",
              "303             NaN             NaN  \n",
              "32469           NaN             NaN  \n",
              "647603          NaN             NaN  \n",
              "647604          NaN             NaN  \n",
              "647605          NaN             NaN  \n",
              "\n",
              "[5 rows x 21 columns]"
            ]
          },
          "metadata": {
            "tags": []
          },
          "execution_count": 13
        }
      ]
    },
    {
      "cell_type": "code",
      "metadata": {
        "id": "tnxZWAsxs4Gs"
      },
      "source": [
        "df['year'] = df['time_created'].dt.year\n",
        "df['month'] = df['time_created'].dt.month\n",
        "df['weekday'] = df['time_created'].dt.day_name()"
      ],
      "execution_count": null,
      "outputs": []
    },
    {
      "cell_type": "code",
      "metadata": {
        "id": "6o3_psIss4Gs",
        "outputId": "b7ddfba1-b1ea-4195-b75a-3a9bb8c29e80"
      },
      "source": [
        "df.head(1)"
      ],
      "execution_count": null,
      "outputs": [
        {
          "output_type": "execute_result",
          "data": {
            "text/html": [
              "<div>\n",
              "<style scoped>\n",
              "    .dataframe tbody tr th:only-of-type {\n",
              "        vertical-align: middle;\n",
              "    }\n",
              "\n",
              "    .dataframe tbody tr th {\n",
              "        vertical-align: top;\n",
              "    }\n",
              "\n",
              "    .dataframe thead th {\n",
              "        text-align: right;\n",
              "    }\n",
              "</style>\n",
              "<table border=\"1\" class=\"dataframe\">\n",
              "  <thead>\n",
              "    <tr style=\"text-align: right;\">\n",
              "      <th></th>\n",
              "      <th>account_id</th>\n",
              "      <th>approximate_count</th>\n",
              "      <th>custom_audience_id</th>\n",
              "      <th>name</th>\n",
              "      <th>retention_days</th>\n",
              "      <th>time_created</th>\n",
              "      <th>customer_file_source</th>\n",
              "      <th>description</th>\n",
              "      <th>is_value_based</th>\n",
              "      <th>data_source_type</th>\n",
              "      <th>...</th>\n",
              "      <th>cpc</th>\n",
              "      <th>impressions</th>\n",
              "      <th>cpm</th>\n",
              "      <th>ctr</th>\n",
              "      <th>comments</th>\n",
              "      <th>video_views</th>\n",
              "      <th>post_reactions</th>\n",
              "      <th>year</th>\n",
              "      <th>month</th>\n",
              "      <th>weekday</th>\n",
              "    </tr>\n",
              "  </thead>\n",
              "  <tbody>\n",
              "    <tr>\n",
              "      <th>2</th>\n",
              "      <td>104657973074389</td>\n",
              "      <td>15000</td>\n",
              "      <td>6083223001402</td>\n",
              "      <td>People who watched at least 3 second of Panten...</td>\n",
              "      <td>365</td>\n",
              "      <td>2017-11-17 17:01:42</td>\n",
              "      <td>NOT_APPLICABLE</td>\n",
              "      <td>NaN</td>\n",
              "      <td>False</td>\n",
              "      <td>EVENT_BASED</td>\n",
              "      <td>...</td>\n",
              "      <td>0.145</td>\n",
              "      <td>104.0</td>\n",
              "      <td>2.788462</td>\n",
              "      <td>0.0192</td>\n",
              "      <td>0.0</td>\n",
              "      <td>23.0</td>\n",
              "      <td>0.0</td>\n",
              "      <td>2017</td>\n",
              "      <td>11</td>\n",
              "      <td>Friday</td>\n",
              "    </tr>\n",
              "  </tbody>\n",
              "</table>\n",
              "<p>1 rows × 24 columns</p>\n",
              "</div>"
            ],
            "text/plain": [
              "        account_id  approximate_count  custom_audience_id  \\\n",
              "2  104657973074389              15000       6083223001402   \n",
              "\n",
              "                                                name  retention_days  \\\n",
              "2  People who watched at least 3 second of Panten...             365   \n",
              "\n",
              "         time_created customer_file_source description  is_value_based  \\\n",
              "2 2017-11-17 17:01:42       NOT_APPLICABLE         NaN           False   \n",
              "\n",
              "  data_source_type  ...    cpc impressions       cpm     ctr  comments  \\\n",
              "2      EVENT_BASED  ...  0.145       104.0  2.788462  0.0192       0.0   \n",
              "\n",
              "   video_views  post_reactions  year  month  weekday  \n",
              "2         23.0             0.0  2017     11   Friday  \n",
              "\n",
              "[1 rows x 24 columns]"
            ]
          },
          "metadata": {
            "tags": []
          },
          "execution_count": 15
        }
      ]
    },
    {
      "cell_type": "code",
      "metadata": {
        "id": "U2y60HIVs4Gs",
        "outputId": "e96f8624-b25f-4b2c-8cbe-2a90ac279106"
      },
      "source": [
        "df.isnull().sum()"
      ],
      "execution_count": null,
      "outputs": [
        {
          "output_type": "execute_result",
          "data": {
            "text/plain": [
              "account_id                          0\n",
              "approximate_count                   0\n",
              "custom_audience_id                  0\n",
              "name                                0\n",
              "retention_days                      0\n",
              "time_created                        0\n",
              "customer_file_source                0\n",
              "description                    700874\n",
              "is_value_based                      0\n",
              "data_source_type                    0\n",
              "data_source_sub_type                0\n",
              "data_source_creation_params         0\n",
              "ad_id                               0\n",
              "clicks                              0\n",
              "cpc                                 0\n",
              "impressions                         0\n",
              "cpm                                 0\n",
              "ctr                                 0\n",
              "comments                         4031\n",
              "video_views                      4031\n",
              "post_reactions                   4031\n",
              "year                                0\n",
              "month                               0\n",
              "weekday                             0\n",
              "dtype: int64"
            ]
          },
          "metadata": {
            "tags": []
          },
          "execution_count": 16
        }
      ]
    },
    {
      "cell_type": "markdown",
      "metadata": {
        "id": "HqDKRQUys4Gs"
      },
      "source": [
        "### Visualize and Remove Outliers"
      ]
    },
    {
      "cell_type": "code",
      "metadata": {
        "id": "EPXc93FLs4Gs",
        "outputId": "fca672c0-5b91-4ed1-8a67-3dfeedbb1b1b"
      },
      "source": [
        "df.describe()"
      ],
      "execution_count": null,
      "outputs": [
        {
          "output_type": "execute_result",
          "data": {
            "text/html": [
              "<div>\n",
              "<style scoped>\n",
              "    .dataframe tbody tr th:only-of-type {\n",
              "        vertical-align: middle;\n",
              "    }\n",
              "\n",
              "    .dataframe tbody tr th {\n",
              "        vertical-align: top;\n",
              "    }\n",
              "\n",
              "    .dataframe thead th {\n",
              "        text-align: right;\n",
              "    }\n",
              "</style>\n",
              "<table border=\"1\" class=\"dataframe\">\n",
              "  <thead>\n",
              "    <tr style=\"text-align: right;\">\n",
              "      <th></th>\n",
              "      <th>account_id</th>\n",
              "      <th>approximate_count</th>\n",
              "      <th>custom_audience_id</th>\n",
              "      <th>retention_days</th>\n",
              "      <th>ad_id</th>\n",
              "      <th>clicks</th>\n",
              "      <th>cpc</th>\n",
              "      <th>impressions</th>\n",
              "      <th>cpm</th>\n",
              "      <th>ctr</th>\n",
              "      <th>comments</th>\n",
              "      <th>video_views</th>\n",
              "      <th>post_reactions</th>\n",
              "      <th>year</th>\n",
              "      <th>month</th>\n",
              "    </tr>\n",
              "  </thead>\n",
              "  <tbody>\n",
              "    <tr>\n",
              "      <th>count</th>\n",
              "      <td>7.134090e+05</td>\n",
              "      <td>7.134090e+05</td>\n",
              "      <td>7.134090e+05</td>\n",
              "      <td>713409.000000</td>\n",
              "      <td>7.134090e+05</td>\n",
              "      <td>713409.000000</td>\n",
              "      <td>713409.000000</td>\n",
              "      <td>7.134090e+05</td>\n",
              "      <td>713409.000000</td>\n",
              "      <td>713409.000000</td>\n",
              "      <td>709378.000000</td>\n",
              "      <td>7.093780e+05</td>\n",
              "      <td>709378.000000</td>\n",
              "      <td>713409.000000</td>\n",
              "      <td>713409.000000</td>\n",
              "    </tr>\n",
              "    <tr>\n",
              "      <th>mean</th>\n",
              "      <td>9.570835e+14</td>\n",
              "      <td>1.498587e+06</td>\n",
              "      <td>3.885430e+15</td>\n",
              "      <td>114.615629</td>\n",
              "      <td>4.122573e+15</td>\n",
              "      <td>1550.061698</td>\n",
              "      <td>0.385486</td>\n",
              "      <td>3.808773e+04</td>\n",
              "      <td>2.775445</td>\n",
              "      <td>0.039354</td>\n",
              "      <td>12.593342</td>\n",
              "      <td>1.044550e+04</td>\n",
              "      <td>194.518313</td>\n",
              "      <td>2016.250978</td>\n",
              "      <td>6.023018</td>\n",
              "    </tr>\n",
              "    <tr>\n",
              "      <th>std</th>\n",
              "      <td>1.079689e+15</td>\n",
              "      <td>9.558812e+06</td>\n",
              "      <td>8.799141e+15</td>\n",
              "      <td>119.219099</td>\n",
              "      <td>9.010088e+15</td>\n",
              "      <td>5676.899898</td>\n",
              "      <td>2.147910</td>\n",
              "      <td>1.121785e+05</td>\n",
              "      <td>4.646533</td>\n",
              "      <td>0.035685</td>\n",
              "      <td>48.611974</td>\n",
              "      <td>3.298173e+04</td>\n",
              "      <td>1259.287687</td>\n",
              "      <td>1.253136</td>\n",
              "      <td>3.797104</td>\n",
              "    </tr>\n",
              "    <tr>\n",
              "      <th>min</th>\n",
              "      <td>1.046580e+14</td>\n",
              "      <td>-1.000000e+00</td>\n",
              "      <td>6.009738e+12</td>\n",
              "      <td>0.000000</td>\n",
              "      <td>6.009741e+12</td>\n",
              "      <td>1.000000</td>\n",
              "      <td>0.000000</td>\n",
              "      <td>1.000000e+00</td>\n",
              "      <td>0.000000</td>\n",
              "      <td>0.000000</td>\n",
              "      <td>0.000000</td>\n",
              "      <td>0.000000e+00</td>\n",
              "      <td>0.000000</td>\n",
              "      <td>2013.000000</td>\n",
              "      <td>1.000000</td>\n",
              "    </tr>\n",
              "    <tr>\n",
              "      <th>25%</th>\n",
              "      <td>8.311810e+14</td>\n",
              "      <td>1.000000e+03</td>\n",
              "      <td>6.036235e+12</td>\n",
              "      <td>0.000000</td>\n",
              "      <td>6.046792e+12</td>\n",
              "      <td>21.000000</td>\n",
              "      <td>0.018103</td>\n",
              "      <td>1.268000e+03</td>\n",
              "      <td>0.818414</td>\n",
              "      <td>0.015500</td>\n",
              "      <td>0.000000</td>\n",
              "      <td>1.840000e+02</td>\n",
              "      <td>2.000000</td>\n",
              "      <td>2016.000000</td>\n",
              "      <td>3.000000</td>\n",
              "    </tr>\n",
              "    <tr>\n",
              "      <th>50%</th>\n",
              "      <td>8.311810e+14</td>\n",
              "      <td>2.200000e+03</td>\n",
              "      <td>6.041897e+12</td>\n",
              "      <td>180.000000</td>\n",
              "      <td>6.076797e+12</td>\n",
              "      <td>152.000000</td>\n",
              "      <td>0.045758</td>\n",
              "      <td>6.139000e+03</td>\n",
              "      <td>1.483438</td>\n",
              "      <td>0.032100</td>\n",
              "      <td>1.000000</td>\n",
              "      <td>1.345000e+03</td>\n",
              "      <td>17.000000</td>\n",
              "      <td>2016.000000</td>\n",
              "      <td>4.000000</td>\n",
              "    </tr>\n",
              "    <tr>\n",
              "      <th>75%</th>\n",
              "      <td>8.311810e+14</td>\n",
              "      <td>1.200000e+05</td>\n",
              "      <td>6.052340e+12</td>\n",
              "      <td>180.000000</td>\n",
              "      <td>6.079050e+12</td>\n",
              "      <td>1004.000000</td>\n",
              "      <td>0.155413</td>\n",
              "      <td>2.973000e+04</td>\n",
              "      <td>2.877714</td>\n",
              "      <td>0.054700</td>\n",
              "      <td>6.000000</td>\n",
              "      <td>7.624000e+03</td>\n",
              "      <td>87.000000</td>\n",
              "      <td>2016.000000</td>\n",
              "      <td>10.000000</td>\n",
              "    </tr>\n",
              "    <tr>\n",
              "      <th>max</th>\n",
              "      <td>1.015561e+16</td>\n",
              "      <td>1.820000e+08</td>\n",
              "      <td>2.384532e+16</td>\n",
              "      <td>365.000000</td>\n",
              "      <td>2.384532e+16</td>\n",
              "      <td>482490.000000</td>\n",
              "      <td>259.610000</td>\n",
              "      <td>6.038300e+06</td>\n",
              "      <td>184.639556</td>\n",
              "      <td>2.000000</td>\n",
              "      <td>7995.000000</td>\n",
              "      <td>2.231807e+06</td>\n",
              "      <td>289191.000000</td>\n",
              "      <td>2020.000000</td>\n",
              "      <td>12.000000</td>\n",
              "    </tr>\n",
              "  </tbody>\n",
              "</table>\n",
              "</div>"
            ],
            "text/plain": [
              "         account_id  approximate_count  custom_audience_id  retention_days  \\\n",
              "count  7.134090e+05       7.134090e+05        7.134090e+05   713409.000000   \n",
              "mean   9.570835e+14       1.498587e+06        3.885430e+15      114.615629   \n",
              "std    1.079689e+15       9.558812e+06        8.799141e+15      119.219099   \n",
              "min    1.046580e+14      -1.000000e+00        6.009738e+12        0.000000   \n",
              "25%    8.311810e+14       1.000000e+03        6.036235e+12        0.000000   \n",
              "50%    8.311810e+14       2.200000e+03        6.041897e+12      180.000000   \n",
              "75%    8.311810e+14       1.200000e+05        6.052340e+12      180.000000   \n",
              "max    1.015561e+16       1.820000e+08        2.384532e+16      365.000000   \n",
              "\n",
              "              ad_id         clicks            cpc   impressions  \\\n",
              "count  7.134090e+05  713409.000000  713409.000000  7.134090e+05   \n",
              "mean   4.122573e+15    1550.061698       0.385486  3.808773e+04   \n",
              "std    9.010088e+15    5676.899898       2.147910  1.121785e+05   \n",
              "min    6.009741e+12       1.000000       0.000000  1.000000e+00   \n",
              "25%    6.046792e+12      21.000000       0.018103  1.268000e+03   \n",
              "50%    6.076797e+12     152.000000       0.045758  6.139000e+03   \n",
              "75%    6.079050e+12    1004.000000       0.155413  2.973000e+04   \n",
              "max    2.384532e+16  482490.000000     259.610000  6.038300e+06   \n",
              "\n",
              "                 cpm            ctr       comments   video_views  \\\n",
              "count  713409.000000  713409.000000  709378.000000  7.093780e+05   \n",
              "mean        2.775445       0.039354      12.593342  1.044550e+04   \n",
              "std         4.646533       0.035685      48.611974  3.298173e+04   \n",
              "min         0.000000       0.000000       0.000000  0.000000e+00   \n",
              "25%         0.818414       0.015500       0.000000  1.840000e+02   \n",
              "50%         1.483438       0.032100       1.000000  1.345000e+03   \n",
              "75%         2.877714       0.054700       6.000000  7.624000e+03   \n",
              "max       184.639556       2.000000    7995.000000  2.231807e+06   \n",
              "\n",
              "       post_reactions           year          month  \n",
              "count   709378.000000  713409.000000  713409.000000  \n",
              "mean       194.518313    2016.250978       6.023018  \n",
              "std       1259.287687       1.253136       3.797104  \n",
              "min          0.000000    2013.000000       1.000000  \n",
              "25%          2.000000    2016.000000       3.000000  \n",
              "50%         17.000000    2016.000000       4.000000  \n",
              "75%         87.000000    2016.000000      10.000000  \n",
              "max     289191.000000    2020.000000      12.000000  "
            ]
          },
          "metadata": {
            "tags": []
          },
          "execution_count": 17
        }
      ]
    },
    {
      "cell_type": "code",
      "metadata": {
        "id": "URVdgYb0s4Gs"
      },
      "source": [
        "#Trim outliers custom_audience_ads dataset:\n",
        "starting_percentile = df['ctr'].quantile(.02)\n",
        "ending_percentile = df['ctr'].quantile(.98)\n",
        "outliers_df = df.loc[((df['ctr'] <= starting_percentile) | (df['ctr'] >= ending_percentile))]\n",
        "df_trimmed = df.loc[((df['ctr'] > starting_percentile) & (df['ctr'] < ending_percentile))]"
      ],
      "execution_count": null,
      "outputs": []
    },
    {
      "cell_type": "code",
      "metadata": {
        "id": "B1DI6Bfms4Gs",
        "outputId": "b8ceb336-cde4-458e-b01a-08d6b7077d3e"
      },
      "source": [
        "df.shape"
      ],
      "execution_count": null,
      "outputs": [
        {
          "output_type": "execute_result",
          "data": {
            "text/plain": [
              "(713409, 24)"
            ]
          },
          "metadata": {
            "tags": []
          },
          "execution_count": 19
        }
      ]
    },
    {
      "cell_type": "code",
      "metadata": {
        "id": "16nAW5K6s4Gs",
        "outputId": "bdcb84fa-f01b-4df4-bd19-5edbd311d036"
      },
      "source": [
        "df_trimmed.shape"
      ],
      "execution_count": null,
      "outputs": [
        {
          "output_type": "execute_result",
          "data": {
            "text/plain": [
              "(683314, 24)"
            ]
          },
          "metadata": {
            "tags": []
          },
          "execution_count": 20
        }
      ]
    },
    {
      "cell_type": "code",
      "metadata": {
        "id": "fR84HrGOs4Gs",
        "outputId": "20681e18-e953-44c4-ed58-dcbb18663b3c"
      },
      "source": [
        "df2.head()"
      ],
      "execution_count": null,
      "outputs": [
        {
          "output_type": "execute_result",
          "data": {
            "text/html": [
              "<div>\n",
              "<style scoped>\n",
              "    .dataframe tbody tr th:only-of-type {\n",
              "        vertical-align: middle;\n",
              "    }\n",
              "\n",
              "    .dataframe tbody tr th {\n",
              "        vertical-align: top;\n",
              "    }\n",
              "\n",
              "    .dataframe thead th {\n",
              "        text-align: right;\n",
              "    }\n",
              "</style>\n",
              "<table border=\"1\" class=\"dataframe\">\n",
              "  <thead>\n",
              "    <tr style=\"text-align: right;\">\n",
              "      <th></th>\n",
              "      <th>country</th>\n",
              "      <th>ratio</th>\n",
              "      <th>origin_id</th>\n",
              "      <th>origin_name</th>\n",
              "      <th>origin_type</th>\n",
              "    </tr>\n",
              "  </thead>\n",
              "  <tbody>\n",
              "    <tr>\n",
              "      <th>0</th>\n",
              "      <td>US</td>\n",
              "      <td>0.08</td>\n",
              "      <td>6071223636402</td>\n",
              "      <td>Everyone Who Engaged With MTV Page</td>\n",
              "      <td>custom_audience</td>\n",
              "    </tr>\n",
              "    <tr>\n",
              "      <th>1</th>\n",
              "      <td>US</td>\n",
              "      <td>0.08</td>\n",
              "      <td>6071223547802</td>\n",
              "      <td>Everyone Who Engaged With Teyana Taylor Page</td>\n",
              "      <td>custom_audience</td>\n",
              "    </tr>\n",
              "    <tr>\n",
              "      <th>2</th>\n",
              "      <td>US</td>\n",
              "      <td>0.08</td>\n",
              "      <td>6071223510402</td>\n",
              "      <td>Everyone who engaged with Diamond White Page</td>\n",
              "      <td>custom_audience</td>\n",
              "    </tr>\n",
              "    <tr>\n",
              "      <th>3</th>\n",
              "      <td>US</td>\n",
              "      <td>0.08</td>\n",
              "      <td>6070776679602</td>\n",
              "      <td>Macys #SpringSummerFashion : People who have w...</td>\n",
              "      <td>custom_audience</td>\n",
              "    </tr>\n",
              "    <tr>\n",
              "      <th>4</th>\n",
              "      <td>US</td>\n",
              "      <td>0.08</td>\n",
              "      <td>6070776595802</td>\n",
              "      <td>Macys #SpringSummerFashion : People who watche...</td>\n",
              "      <td>custom_audience</td>\n",
              "    </tr>\n",
              "  </tbody>\n",
              "</table>\n",
              "</div>"
            ],
            "text/plain": [
              "  country  ratio      origin_id  \\\n",
              "0      US   0.08  6071223636402   \n",
              "1      US   0.08  6071223547802   \n",
              "2      US   0.08  6071223510402   \n",
              "3      US   0.08  6070776679602   \n",
              "4      US   0.08  6070776595802   \n",
              "\n",
              "                                         origin_name      origin_type  \n",
              "0                 Everyone Who Engaged With MTV Page  custom_audience  \n",
              "1       Everyone Who Engaged With Teyana Taylor Page  custom_audience  \n",
              "2       Everyone who engaged with Diamond White Page  custom_audience  \n",
              "3  Macys #SpringSummerFashion : People who have w...  custom_audience  \n",
              "4  Macys #SpringSummerFashion : People who watche...  custom_audience  "
            ]
          },
          "metadata": {
            "tags": []
          },
          "execution_count": 21
        }
      ]
    },
    {
      "cell_type": "code",
      "metadata": {
        "id": "D0lssqqgs4Gs"
      },
      "source": [
        "#Trim outliers lookalike data:\n",
        "starting_percentile = df2['ratio'].quantile(.02)\n",
        "ending_percentile = df2['ratio'].quantile(.98)\n",
        "outliers_df2 = df2.loc[((df2['ratio'] <= starting_percentile) | (df2['ratio'] >= ending_percentile))]\n",
        "df2_trimmed = df2.loc[((df2['ratio'] > starting_percentile) & (df2['ratio'] < ending_percentile))]"
      ],
      "execution_count": null,
      "outputs": []
    },
    {
      "cell_type": "code",
      "metadata": {
        "id": "_tXb9hU3s4Gs",
        "outputId": "1db0206a-462d-4721-a634-72831147310b"
      },
      "source": [
        "df2_trimmed.shape"
      ],
      "execution_count": null,
      "outputs": [
        {
          "output_type": "execute_result",
          "data": {
            "text/plain": [
              "(770, 5)"
            ]
          },
          "metadata": {
            "tags": []
          },
          "execution_count": 23
        }
      ]
    },
    {
      "cell_type": "markdown",
      "metadata": {
        "id": "wsDgo4JHs4Gs"
      },
      "source": [
        "#### Continuous Variables\n",
        "Go through each of them one at a time using scatter plot and boxplot, and then remove outliers."
      ]
    },
    {
      "cell_type": "code",
      "metadata": {
        "scrolled": true,
        "id": "HajcpaNXs4Gs",
        "outputId": "17e178a7-dc03-41eb-a8e6-2e7b0789234c"
      },
      "source": [
        "df_trimmed.describe()"
      ],
      "execution_count": null,
      "outputs": [
        {
          "output_type": "execute_result",
          "data": {
            "text/html": [
              "<div>\n",
              "<style scoped>\n",
              "    .dataframe tbody tr th:only-of-type {\n",
              "        vertical-align: middle;\n",
              "    }\n",
              "\n",
              "    .dataframe tbody tr th {\n",
              "        vertical-align: top;\n",
              "    }\n",
              "\n",
              "    .dataframe thead th {\n",
              "        text-align: right;\n",
              "    }\n",
              "</style>\n",
              "<table border=\"1\" class=\"dataframe\">\n",
              "  <thead>\n",
              "    <tr style=\"text-align: right;\">\n",
              "      <th></th>\n",
              "      <th>account_id</th>\n",
              "      <th>approximate_count</th>\n",
              "      <th>custom_audience_id</th>\n",
              "      <th>retention_days</th>\n",
              "      <th>ad_id</th>\n",
              "      <th>clicks</th>\n",
              "      <th>cpc</th>\n",
              "      <th>impressions</th>\n",
              "      <th>cpm</th>\n",
              "      <th>ctr</th>\n",
              "      <th>comments</th>\n",
              "      <th>video_views</th>\n",
              "      <th>post_reactions</th>\n",
              "      <th>year</th>\n",
              "      <th>month</th>\n",
              "    </tr>\n",
              "  </thead>\n",
              "  <tbody>\n",
              "    <tr>\n",
              "      <th>count</th>\n",
              "      <td>6.833140e+05</td>\n",
              "      <td>6.833140e+05</td>\n",
              "      <td>6.833140e+05</td>\n",
              "      <td>683314.000000</td>\n",
              "      <td>6.833140e+05</td>\n",
              "      <td>683314.000000</td>\n",
              "      <td>683314.000000</td>\n",
              "      <td>6.833140e+05</td>\n",
              "      <td>683314.000000</td>\n",
              "      <td>683314.000000</td>\n",
              "      <td>680206.000000</td>\n",
              "      <td>6.802060e+05</td>\n",
              "      <td>680206.000000</td>\n",
              "      <td>683314.000000</td>\n",
              "      <td>683314.000000</td>\n",
              "    </tr>\n",
              "    <tr>\n",
              "      <th>mean</th>\n",
              "      <td>9.532028e+14</td>\n",
              "      <td>1.413088e+06</td>\n",
              "      <td>3.674194e+15</td>\n",
              "      <td>113.140021</td>\n",
              "      <td>3.862055e+15</td>\n",
              "      <td>1466.661851</td>\n",
              "      <td>0.252561</td>\n",
              "      <td>3.720267e+04</td>\n",
              "      <td>2.758282</td>\n",
              "      <td>0.037658</td>\n",
              "      <td>12.530686</td>\n",
              "      <td>1.026927e+04</td>\n",
              "      <td>192.433692</td>\n",
              "      <td>2016.222413</td>\n",
              "      <td>6.029958</td>\n",
              "    </tr>\n",
              "    <tr>\n",
              "      <th>std</th>\n",
              "      <td>1.056920e+15</td>\n",
              "      <td>9.251797e+06</td>\n",
              "      <td>8.601388e+15</td>\n",
              "      <td>118.012320</td>\n",
              "      <td>8.777732e+15</td>\n",
              "      <td>5165.783360</td>\n",
              "      <td>0.741978</td>\n",
              "      <td>1.101747e+05</td>\n",
              "      <td>4.651336</td>\n",
              "      <td>0.027184</td>\n",
              "      <td>48.997971</td>\n",
              "      <td>3.268856e+04</td>\n",
              "      <td>1271.411422</td>\n",
              "      <td>1.227370</td>\n",
              "      <td>3.803335</td>\n",
              "    </tr>\n",
              "    <tr>\n",
              "      <th>min</th>\n",
              "      <td>1.046580e+14</td>\n",
              "      <td>-1.000000e+00</td>\n",
              "      <td>6.009738e+12</td>\n",
              "      <td>0.000000</td>\n",
              "      <td>6.009741e+12</td>\n",
              "      <td>1.000000</td>\n",
              "      <td>0.000000</td>\n",
              "      <td>9.000000e+00</td>\n",
              "      <td>0.000000</td>\n",
              "      <td>0.001400</td>\n",
              "      <td>0.000000</td>\n",
              "      <td>0.000000e+00</td>\n",
              "      <td>0.000000</td>\n",
              "      <td>2013.000000</td>\n",
              "      <td>1.000000</td>\n",
              "    </tr>\n",
              "    <tr>\n",
              "      <th>25%</th>\n",
              "      <td>8.311810e+14</td>\n",
              "      <td>1.000000e+03</td>\n",
              "      <td>6.036229e+12</td>\n",
              "      <td>0.000000</td>\n",
              "      <td>6.046774e+12</td>\n",
              "      <td>23.000000</td>\n",
              "      <td>0.018680</td>\n",
              "      <td>1.219000e+03</td>\n",
              "      <td>0.816724</td>\n",
              "      <td>0.016300</td>\n",
              "      <td>0.000000</td>\n",
              "      <td>1.870000e+02</td>\n",
              "      <td>2.000000</td>\n",
              "      <td>2016.000000</td>\n",
              "      <td>3.000000</td>\n",
              "    </tr>\n",
              "    <tr>\n",
              "      <th>50%</th>\n",
              "      <td>8.311810e+14</td>\n",
              "      <td>2.100000e+03</td>\n",
              "      <td>6.041883e+12</td>\n",
              "      <td>180.000000</td>\n",
              "      <td>6.076452e+12</td>\n",
              "      <td>157.000000</td>\n",
              "      <td>0.045046</td>\n",
              "      <td>5.993000e+03</td>\n",
              "      <td>1.479751</td>\n",
              "      <td>0.032200</td>\n",
              "      <td>1.000000</td>\n",
              "      <td>1.334000e+03</td>\n",
              "      <td>17.000000</td>\n",
              "      <td>2016.000000</td>\n",
              "      <td>4.000000</td>\n",
              "    </tr>\n",
              "    <tr>\n",
              "      <th>75%</th>\n",
              "      <td>8.311810e+14</td>\n",
              "      <td>1.100000e+05</td>\n",
              "      <td>6.051226e+12</td>\n",
              "      <td>180.000000</td>\n",
              "      <td>6.079050e+12</td>\n",
              "      <td>978.000000</td>\n",
              "      <td>0.140488</td>\n",
              "      <td>2.887400e+04</td>\n",
              "      <td>2.849683</td>\n",
              "      <td>0.053600</td>\n",
              "      <td>6.000000</td>\n",
              "      <td>7.488000e+03</td>\n",
              "      <td>86.000000</td>\n",
              "      <td>2016.000000</td>\n",
              "      <td>10.000000</td>\n",
              "    </tr>\n",
              "    <tr>\n",
              "      <th>max</th>\n",
              "      <td>1.015561e+16</td>\n",
              "      <td>1.820000e+08</td>\n",
              "      <td>2.384532e+16</td>\n",
              "      <td>365.000000</td>\n",
              "      <td>2.384532e+16</td>\n",
              "      <td>482490.000000</td>\n",
              "      <td>62.923333</td>\n",
              "      <td>6.038300e+06</td>\n",
              "      <td>184.639556</td>\n",
              "      <td>0.117400</td>\n",
              "      <td>7995.000000</td>\n",
              "      <td>2.231807e+06</td>\n",
              "      <td>289191.000000</td>\n",
              "      <td>2020.000000</td>\n",
              "      <td>12.000000</td>\n",
              "    </tr>\n",
              "  </tbody>\n",
              "</table>\n",
              "</div>"
            ],
            "text/plain": [
              "         account_id  approximate_count  custom_audience_id  retention_days  \\\n",
              "count  6.833140e+05       6.833140e+05        6.833140e+05   683314.000000   \n",
              "mean   9.532028e+14       1.413088e+06        3.674194e+15      113.140021   \n",
              "std    1.056920e+15       9.251797e+06        8.601388e+15      118.012320   \n",
              "min    1.046580e+14      -1.000000e+00        6.009738e+12        0.000000   \n",
              "25%    8.311810e+14       1.000000e+03        6.036229e+12        0.000000   \n",
              "50%    8.311810e+14       2.100000e+03        6.041883e+12      180.000000   \n",
              "75%    8.311810e+14       1.100000e+05        6.051226e+12      180.000000   \n",
              "max    1.015561e+16       1.820000e+08        2.384532e+16      365.000000   \n",
              "\n",
              "              ad_id         clicks            cpc   impressions  \\\n",
              "count  6.833140e+05  683314.000000  683314.000000  6.833140e+05   \n",
              "mean   3.862055e+15    1466.661851       0.252561  3.720267e+04   \n",
              "std    8.777732e+15    5165.783360       0.741978  1.101747e+05   \n",
              "min    6.009741e+12       1.000000       0.000000  9.000000e+00   \n",
              "25%    6.046774e+12      23.000000       0.018680  1.219000e+03   \n",
              "50%    6.076452e+12     157.000000       0.045046  5.993000e+03   \n",
              "75%    6.079050e+12     978.000000       0.140488  2.887400e+04   \n",
              "max    2.384532e+16  482490.000000      62.923333  6.038300e+06   \n",
              "\n",
              "                 cpm            ctr       comments   video_views  \\\n",
              "count  683314.000000  683314.000000  680206.000000  6.802060e+05   \n",
              "mean        2.758282       0.037658      12.530686  1.026927e+04   \n",
              "std         4.651336       0.027184      48.997971  3.268856e+04   \n",
              "min         0.000000       0.001400       0.000000  0.000000e+00   \n",
              "25%         0.816724       0.016300       0.000000  1.870000e+02   \n",
              "50%         1.479751       0.032200       1.000000  1.334000e+03   \n",
              "75%         2.849683       0.053600       6.000000  7.488000e+03   \n",
              "max       184.639556       0.117400    7995.000000  2.231807e+06   \n",
              "\n",
              "       post_reactions           year          month  \n",
              "count   680206.000000  683314.000000  683314.000000  \n",
              "mean       192.433692    2016.222413       6.029958  \n",
              "std       1271.411422       1.227370       3.803335  \n",
              "min          0.000000    2013.000000       1.000000  \n",
              "25%          2.000000    2016.000000       3.000000  \n",
              "50%         17.000000    2016.000000       4.000000  \n",
              "75%         86.000000    2016.000000      10.000000  \n",
              "max     289191.000000    2020.000000      12.000000  "
            ]
          },
          "metadata": {
            "tags": []
          },
          "execution_count": 24
        }
      ]
    },
    {
      "cell_type": "code",
      "metadata": {
        "id": "Cgst6Tbcs4Gs",
        "outputId": "7a6d7626-8fa1-496d-d896-413641511475"
      },
      "source": [
        "#visualize clicks\n",
        "plt.scatter('time_created','clicks',data=df_trimmed)"
      ],
      "execution_count": null,
      "outputs": [
        {
          "output_type": "execute_result",
          "data": {
            "text/plain": [
              "<matplotlib.collections.PathCollection at 0x7fd82d83c610>"
            ]
          },
          "metadata": {
            "tags": []
          },
          "execution_count": 25
        },
        {
          "output_type": "display_data",
          "data": {
            "image/png": "[encoded data removed]",
            "text/plain": [
              "<Figure size 432x288 with 1 Axes>"
            ]
          },
          "metadata": {
            "tags": [],
            "needs_background": "light"
          }
        }
      ]
    },
    {
      "cell_type": "code",
      "metadata": {
        "id": "spSs1FYPs4Gs",
        "outputId": "ba397e81-0f9e-4408-ce7e-0811988c0312"
      },
      "source": [
        "df_trimmed[df_trimmed['clicks']>300000]"
      ],
      "execution_count": null,
      "outputs": [
        {
          "output_type": "execute_result",
          "data": {
            "text/html": [
              "<div>\n",
              "<style scoped>\n",
              "    .dataframe tbody tr th:only-of-type {\n",
              "        vertical-align: middle;\n",
              "    }\n",
              "\n",
              "    .dataframe tbody tr th {\n",
              "        vertical-align: top;\n",
              "    }\n",
              "\n",
              "    .dataframe thead th {\n",
              "        text-align: right;\n",
              "    }\n",
              "</style>\n",
              "<table border=\"1\" class=\"dataframe\">\n",
              "  <thead>\n",
              "    <tr style=\"text-align: right;\">\n",
              "      <th></th>\n",
              "      <th>account_id</th>\n",
              "      <th>approximate_count</th>\n",
              "      <th>custom_audience_id</th>\n",
              "      <th>name</th>\n",
              "      <th>retention_days</th>\n",
              "      <th>time_created</th>\n",
              "      <th>customer_file_source</th>\n",
              "      <th>description</th>\n",
              "      <th>is_value_based</th>\n",
              "      <th>data_source_type</th>\n",
              "      <th>...</th>\n",
              "      <th>cpc</th>\n",
              "      <th>impressions</th>\n",
              "      <th>cpm</th>\n",
              "      <th>ctr</th>\n",
              "      <th>comments</th>\n",
              "      <th>video_views</th>\n",
              "      <th>post_reactions</th>\n",
              "      <th>year</th>\n",
              "      <th>month</th>\n",
              "      <th>weekday</th>\n",
              "    </tr>\n",
              "  </thead>\n",
              "  <tbody>\n",
              "    <tr>\n",
              "      <th>33782</th>\n",
              "      <td>831180993630429</td>\n",
              "      <td>22000000</td>\n",
              "      <td>6078723567972</td>\n",
              "      <td>Lookalike (US, 10%) - People who like Awesomen...</td>\n",
              "      <td>0</td>\n",
              "      <td>2017-05-18 16:50:23</td>\n",
              "      <td>NOT_APPLICABLE</td>\n",
              "      <td>NaN</td>\n",
              "      <td>False</td>\n",
              "      <td>SEED_BASED</td>\n",
              "      <td>...</td>\n",
              "      <td>0.010339</td>\n",
              "      <td>3488058.0</td>\n",
              "      <td>1.087430</td>\n",
              "      <td>0.1052</td>\n",
              "      <td>185.0</td>\n",
              "      <td>1550137.0</td>\n",
              "      <td>5817.0</td>\n",
              "      <td>2017</td>\n",
              "      <td>5</td>\n",
              "      <td>Thursday</td>\n",
              "    </tr>\n",
              "    <tr>\n",
              "      <th>33823</th>\n",
              "      <td>831180993630429</td>\n",
              "      <td>22000000</td>\n",
              "      <td>6078723567972</td>\n",
              "      <td>Lookalike (US, 10%) - People who like Awesomen...</td>\n",
              "      <td>0</td>\n",
              "      <td>2017-05-18 16:50:23</td>\n",
              "      <td>NOT_APPLICABLE</td>\n",
              "      <td>NaN</td>\n",
              "      <td>False</td>\n",
              "      <td>SEED_BASED</td>\n",
              "      <td>...</td>\n",
              "      <td>0.015060</td>\n",
              "      <td>5651918.0</td>\n",
              "      <td>1.285594</td>\n",
              "      <td>0.0854</td>\n",
              "      <td>580.0</td>\n",
              "      <td>1906437.0</td>\n",
              "      <td>25976.0</td>\n",
              "      <td>2017</td>\n",
              "      <td>5</td>\n",
              "      <td>Thursday</td>\n",
              "    </tr>\n",
              "  </tbody>\n",
              "</table>\n",
              "<p>2 rows × 24 columns</p>\n",
              "</div>"
            ],
            "text/plain": [
              "            account_id  approximate_count  custom_audience_id  \\\n",
              "33782  831180993630429           22000000       6078723567972   \n",
              "33823  831180993630429           22000000       6078723567972   \n",
              "\n",
              "                                                    name  retention_days  \\\n",
              "33782  Lookalike (US, 10%) - People who like Awesomen...               0   \n",
              "33823  Lookalike (US, 10%) - People who like Awesomen...               0   \n",
              "\n",
              "             time_created customer_file_source description  is_value_based  \\\n",
              "33782 2017-05-18 16:50:23       NOT_APPLICABLE         NaN           False   \n",
              "33823 2017-05-18 16:50:23       NOT_APPLICABLE         NaN           False   \n",
              "\n",
              "      data_source_type  ...       cpc impressions       cpm     ctr  comments  \\\n",
              "33782       SEED_BASED  ...  0.010339   3488058.0  1.087430  0.1052     185.0   \n",
              "33823       SEED_BASED  ...  0.015060   5651918.0  1.285594  0.0854     580.0   \n",
              "\n",
              "       video_views  post_reactions  year  month   weekday  \n",
              "33782    1550137.0          5817.0  2017      5  Thursday  \n",
              "33823    1906437.0         25976.0  2017      5  Thursday  \n",
              "\n",
              "[2 rows x 24 columns]"
            ]
          },
          "metadata": {
            "tags": []
          },
          "execution_count": 26
        }
      ]
    },
    {
      "cell_type": "markdown",
      "metadata": {
        "id": "ZYDn5QOJs4Gt"
      },
      "source": [
        "Outliers found on line 33782 and 33823. We want to remove them."
      ]
    },
    {
      "cell_type": "code",
      "metadata": {
        "id": "FYsY64iJs4Gt"
      },
      "source": [
        "#drop rows 33782 and 33823\n",
        "df_trimmed=df_trimmed.drop([33782,33823])"
      ],
      "execution_count": null,
      "outputs": []
    },
    {
      "cell_type": "code",
      "metadata": {
        "id": "q_UhiGnPs4Gt",
        "outputId": "5344cc32-be5d-4dbb-d2bd-df648eb71c07"
      },
      "source": [
        "#cpc\n",
        "plt.scatter('time_created','cpc',data=df_trimmed)"
      ],
      "execution_count": null,
      "outputs": [
        {
          "output_type": "execute_result",
          "data": {
            "text/plain": [
              "<matplotlib.collections.PathCollection at 0x7fd82d306650>"
            ]
          },
          "metadata": {
            "tags": []
          },
          "execution_count": 28
        },
        {
          "output_type": "display_data",
          "data": {
            "image/png": "[encoded data removed]",
            "text/plain": [
              "<Figure size 432x288 with 1 Axes>"
            ]
          },
          "metadata": {
            "tags": [],
            "needs_background": "light"
          }
        }
      ]
    },
    {
      "cell_type": "code",
      "metadata": {
        "id": "5knGrZRqs4Gt",
        "outputId": "b9ba25d3-ebed-4bd8-86f5-f1ed385b11ac"
      },
      "source": [
        "df_trimmed[df_trimmed['cpc']>60]"
      ],
      "execution_count": null,
      "outputs": [
        {
          "output_type": "execute_result",
          "data": {
            "text/html": [
              "<div>\n",
              "<style scoped>\n",
              "    .dataframe tbody tr th:only-of-type {\n",
              "        vertical-align: middle;\n",
              "    }\n",
              "\n",
              "    .dataframe tbody tr th {\n",
              "        vertical-align: top;\n",
              "    }\n",
              "\n",
              "    .dataframe thead th {\n",
              "        text-align: right;\n",
              "    }\n",
              "</style>\n",
              "<table border=\"1\" class=\"dataframe\">\n",
              "  <thead>\n",
              "    <tr style=\"text-align: right;\">\n",
              "      <th></th>\n",
              "      <th>account_id</th>\n",
              "      <th>approximate_count</th>\n",
              "      <th>custom_audience_id</th>\n",
              "      <th>name</th>\n",
              "      <th>retention_days</th>\n",
              "      <th>time_created</th>\n",
              "      <th>customer_file_source</th>\n",
              "      <th>description</th>\n",
              "      <th>is_value_based</th>\n",
              "      <th>data_source_type</th>\n",
              "      <th>...</th>\n",
              "      <th>cpc</th>\n",
              "      <th>impressions</th>\n",
              "      <th>cpm</th>\n",
              "      <th>ctr</th>\n",
              "      <th>comments</th>\n",
              "      <th>video_views</th>\n",
              "      <th>post_reactions</th>\n",
              "      <th>year</th>\n",
              "      <th>month</th>\n",
              "      <th>weekday</th>\n",
              "    </tr>\n",
              "  </thead>\n",
              "  <tbody>\n",
              "    <tr>\n",
              "      <th>657104</th>\n",
              "      <td>342224185984168</td>\n",
              "      <td>210000</td>\n",
              "      <td>6058593221986</td>\n",
              "      <td>Comedy Central The Daily Show with Trevor Noah...</td>\n",
              "      <td>180</td>\n",
              "      <td>2016-07-26 16:36:41</td>\n",
              "      <td>NOT_APPLICABLE</td>\n",
              "      <td>NaN</td>\n",
              "      <td>False</td>\n",
              "      <td>EVENT_BASED</td>\n",
              "      <td>...</td>\n",
              "      <td>62.923333</td>\n",
              "      <td>4269.0</td>\n",
              "      <td>88.437573</td>\n",
              "      <td>0.0014</td>\n",
              "      <td>0.0</td>\n",
              "      <td>1000.0</td>\n",
              "      <td>27.0</td>\n",
              "      <td>2016</td>\n",
              "      <td>7</td>\n",
              "      <td>Tuesday</td>\n",
              "    </tr>\n",
              "    <tr>\n",
              "      <th>662050</th>\n",
              "      <td>342224185984168</td>\n",
              "      <td>1500</td>\n",
              "      <td>6055679096786</td>\n",
              "      <td>Comedy Central The Daily Show with Jon Stewart...</td>\n",
              "      <td>180</td>\n",
              "      <td>2016-06-13 21:00:31</td>\n",
              "      <td>NOT_APPLICABLE</td>\n",
              "      <td>NaN</td>\n",
              "      <td>False</td>\n",
              "      <td>EVENT_BASED</td>\n",
              "      <td>...</td>\n",
              "      <td>62.923333</td>\n",
              "      <td>4269.0</td>\n",
              "      <td>88.437573</td>\n",
              "      <td>0.0014</td>\n",
              "      <td>0.0</td>\n",
              "      <td>1000.0</td>\n",
              "      <td>27.0</td>\n",
              "      <td>2016</td>\n",
              "      <td>6</td>\n",
              "      <td>Monday</td>\n",
              "    </tr>\n",
              "    <tr>\n",
              "      <th>678048</th>\n",
              "      <td>342224185984168</td>\n",
              "      <td>53000</td>\n",
              "      <td>6039228967986</td>\n",
              "      <td>Comedy Central The Daily Show with Trevor Noah...</td>\n",
              "      <td>180</td>\n",
              "      <td>2015-09-09 14:56:03</td>\n",
              "      <td>NOT_APPLICABLE</td>\n",
              "      <td>NaN</td>\n",
              "      <td>False</td>\n",
              "      <td>EVENT_BASED</td>\n",
              "      <td>...</td>\n",
              "      <td>62.923333</td>\n",
              "      <td>4269.0</td>\n",
              "      <td>88.437573</td>\n",
              "      <td>0.0014</td>\n",
              "      <td>0.0</td>\n",
              "      <td>1000.0</td>\n",
              "      <td>27.0</td>\n",
              "      <td>2015</td>\n",
              "      <td>9</td>\n",
              "      <td>Wednesday</td>\n",
              "    </tr>\n",
              "  </tbody>\n",
              "</table>\n",
              "<p>3 rows × 24 columns</p>\n",
              "</div>"
            ],
            "text/plain": [
              "             account_id  approximate_count  custom_audience_id  \\\n",
              "657104  342224185984168             210000       6058593221986   \n",
              "662050  342224185984168               1500       6055679096786   \n",
              "678048  342224185984168              53000       6039228967986   \n",
              "\n",
              "                                                     name  retention_days  \\\n",
              "657104  Comedy Central The Daily Show with Trevor Noah...             180   \n",
              "662050  Comedy Central The Daily Show with Jon Stewart...             180   \n",
              "678048  Comedy Central The Daily Show with Trevor Noah...             180   \n",
              "\n",
              "              time_created customer_file_source description  is_value_based  \\\n",
              "657104 2016-07-26 16:36:41       NOT_APPLICABLE         NaN           False   \n",
              "662050 2016-06-13 21:00:31       NOT_APPLICABLE         NaN           False   \n",
              "678048 2015-09-09 14:56:03       NOT_APPLICABLE         NaN           False   \n",
              "\n",
              "       data_source_type  ...        cpc impressions        cpm     ctr  \\\n",
              "657104      EVENT_BASED  ...  62.923333      4269.0  88.437573  0.0014   \n",
              "662050      EVENT_BASED  ...  62.923333      4269.0  88.437573  0.0014   \n",
              "678048      EVENT_BASED  ...  62.923333      4269.0  88.437573  0.0014   \n",
              "\n",
              "        comments  video_views  post_reactions  year  month    weekday  \n",
              "657104       0.0       1000.0            27.0  2016      7    Tuesday  \n",
              "662050       0.0       1000.0            27.0  2016      6     Monday  \n",
              "678048       0.0       1000.0            27.0  2015      9  Wednesday  \n",
              "\n",
              "[3 rows x 24 columns]"
            ]
          },
          "metadata": {
            "tags": []
          },
          "execution_count": 29
        }
      ]
    },
    {
      "cell_type": "code",
      "metadata": {
        "id": "9VqLw7NXs4Gt"
      },
      "source": [
        "df_trimmed=df_trimmed.drop([657104,662050,678048])"
      ],
      "execution_count": null,
      "outputs": []
    },
    {
      "cell_type": "code",
      "metadata": {
        "id": "ikwphtzys4Gt",
        "outputId": "e221d5ec-8387-4c31-bb78-9f71b3f8fedc"
      },
      "source": [
        "#cpm\n",
        "plt.scatter('time_created','cpm',data=df_trimmed)"
      ],
      "execution_count": null,
      "outputs": [
        {
          "output_type": "execute_result",
          "data": {
            "text/plain": [
              "<matplotlib.collections.PathCollection at 0x7fd82d4895d0>"
            ]
          },
          "metadata": {
            "tags": []
          },
          "execution_count": 31
        },
        {
          "output_type": "display_data",
          "data": {
            "image/png": "[encoded data removed]",
            "text/plain": [
              "<Figure size 432x288 with 1 Axes>"
            ]
          },
          "metadata": {
            "tags": [],
            "needs_background": "light"
          }
        }
      ]
    },
    {
      "cell_type": "code",
      "metadata": {
        "id": "9bNNsb8ds4Gt"
      },
      "source": [
        "df_trimmed=df_trimmed.drop(df_trimmed[df_trimmed['cpm']>150].index)"
      ],
      "execution_count": null,
      "outputs": []
    },
    {
      "cell_type": "code",
      "metadata": {
        "id": "26Gsr4bss4Gt",
        "outputId": "d6bcc821-e51e-41ea-9fa5-0d01a4a8b333"
      },
      "source": [
        "#impressions\n",
        "plt.scatter('time_created','impressions',data=df_trimmed)"
      ],
      "execution_count": null,
      "outputs": [
        {
          "output_type": "execute_result",
          "data": {
            "text/plain": [
              "<matplotlib.collections.PathCollection at 0x7fd82d522390>"
            ]
          },
          "metadata": {
            "tags": []
          },
          "execution_count": 33
        },
        {
          "output_type": "display_data",
          "data": {
            "image/png": "[encoded data removed]",
            "text/plain": [
              "<Figure size 432x288 with 1 Axes>"
            ]
          },
          "metadata": {
            "tags": [],
            "needs_background": "light"
          }
        }
      ]
    },
    {
      "cell_type": "code",
      "metadata": {
        "id": "1h2XR09qs4Gt",
        "outputId": "85c0abe4-7817-4dc6-df16-876021a59422"
      },
      "source": [
        "sns.boxplot(df_trimmed['impressions'])"
      ],
      "execution_count": null,
      "outputs": [
        {
          "output_type": "execute_result",
          "data": {
            "text/plain": [
              "<matplotlib.axes._subplots.AxesSubplot at 0x7fd82d55bb50>"
            ]
          },
          "metadata": {
            "tags": []
          },
          "execution_count": 34
        },
        {
          "output_type": "display_data",
          "data": {
            "image/png": "[encoded data removed]",
            "text/plain": [
              "<Figure size 432x288 with 1 Axes>"
            ]
          },
          "metadata": {
            "tags": [],
            "needs_background": "light"
          }
        }
      ]
    },
    {
      "cell_type": "code",
      "metadata": {
        "id": "HHHlwa-rs4Gt"
      },
      "source": [
        "df_trimmed=df_trimmed.drop(df_trimmed[df_trimmed['impressions']>4000000].index)"
      ],
      "execution_count": null,
      "outputs": []
    },
    {
      "cell_type": "code",
      "metadata": {
        "id": "8I45Br7ys4Gt",
        "outputId": "799b9701-8516-4444-f86d-9efb18a3ec89"
      },
      "source": [
        "#ctr\n",
        "plt.scatter('time_created','ctr',data=df_trimmed)"
      ],
      "execution_count": null,
      "outputs": [
        {
          "output_type": "execute_result",
          "data": {
            "text/plain": [
              "<matplotlib.collections.PathCollection at 0x7fd8309ce790>"
            ]
          },
          "metadata": {
            "tags": []
          },
          "execution_count": 36
        },
        {
          "output_type": "display_data",
          "data": {
            "image/png": "[encoded data removed]",
            "text/plain": [
              "<Figure size 432x288 with 1 Axes>"
            ]
          },
          "metadata": {
            "tags": [],
            "needs_background": "light"
          }
        }
      ]
    },
    {
      "cell_type": "code",
      "metadata": {
        "id": "2xJcVHcQs4Gt",
        "outputId": "a9d9cff0-d7fd-41d6-c2af-bb6c9545df88"
      },
      "source": [
        "sns.boxplot(df_trimmed['ctr'])"
      ],
      "execution_count": null,
      "outputs": [
        {
          "output_type": "execute_result",
          "data": {
            "text/plain": [
              "<matplotlib.axes._subplots.AxesSubplot at 0x7fd8309fd910>"
            ]
          },
          "metadata": {
            "tags": []
          },
          "execution_count": 37
        },
        {
          "output_type": "display_data",
          "data": {
            "image/png": "[encoded data removed]",
            "text/plain": [
              "<Figure size 432x288 with 1 Axes>"
            ]
          },
          "metadata": {
            "tags": [],
            "needs_background": "light"
          }
        }
      ]
    },
    {
      "cell_type": "code",
      "metadata": {
        "id": "KhHr4imAs4Gt"
      },
      "source": [
        "df_trimmed=df_trimmed.drop(df_trimmed[df_trimmed['ctr']>1.75].index)"
      ],
      "execution_count": null,
      "outputs": []
    },
    {
      "cell_type": "code",
      "metadata": {
        "id": "_P3Pe8dhs4Gt",
        "outputId": "9200a651-51af-49fb-e957-48e9e86bb4be"
      },
      "source": [
        "#comments\n",
        "plt.scatter('time_created','comments',data=df_trimmed)"
      ],
      "execution_count": null,
      "outputs": [
        {
          "output_type": "execute_result",
          "data": {
            "text/plain": [
              "<matplotlib.collections.PathCollection at 0x7fd82f54f190>"
            ]
          },
          "metadata": {
            "tags": []
          },
          "execution_count": 39
        },
        {
          "output_type": "display_data",
          "data": {
            "image/png": "[encoded data removed]",
            "text/plain": [
              "<Figure size 432x288 with 1 Axes>"
            ]
          },
          "metadata": {
            "tags": [],
            "needs_background": "light"
          }
        }
      ]
    },
    {
      "cell_type": "code",
      "metadata": {
        "id": "QatG2vbts4Gt",
        "outputId": "0e5feb1d-1b22-49f8-f490-ffc624b5508d"
      },
      "source": [
        "sns.boxplot(df_trimmed['comments'])"
      ],
      "execution_count": null,
      "outputs": [
        {
          "output_type": "execute_result",
          "data": {
            "text/plain": [
              "<matplotlib.axes._subplots.AxesSubplot at 0x7fd830a5f4d0>"
            ]
          },
          "metadata": {
            "tags": []
          },
          "execution_count": 40
        },
        {
          "output_type": "display_data",
          "data": {
            "image/png": "[encoded data removed]",
            "text/plain": [
              "<Figure size 432x288 with 1 Axes>"
            ]
          },
          "metadata": {
            "tags": [],
            "needs_background": "light"
          }
        }
      ]
    },
    {
      "cell_type": "code",
      "metadata": {
        "id": "9qTpWsaEs4Gt"
      },
      "source": [
        "df_trimmed=df_trimmed.drop(df_trimmed[df_trimmed['comments']>3000].index)"
      ],
      "execution_count": null,
      "outputs": []
    },
    {
      "cell_type": "code",
      "metadata": {
        "id": "qlerGc1Rs4Gt",
        "outputId": "fa5d005f-ab0b-4edd-c4f0-2ac9723f4aa2"
      },
      "source": [
        "#video_views\n",
        "plt.scatter('time_created','video_views',data=df_trimmed)"
      ],
      "execution_count": null,
      "outputs": [
        {
          "output_type": "execute_result",
          "data": {
            "text/plain": [
              "<matplotlib.collections.PathCollection at 0x7fd8326ac410>"
            ]
          },
          "metadata": {
            "tags": []
          },
          "execution_count": 42
        },
        {
          "output_type": "display_data",
          "data": {
            "image/png": "[encoded data removed]",
            "text/plain": [
              "<Figure size 432x288 with 1 Axes>"
            ]
          },
          "metadata": {
            "tags": [],
            "needs_background": "light"
          }
        }
      ]
    },
    {
      "cell_type": "code",
      "metadata": {
        "id": "5YxNtrXJs4Gt",
        "outputId": "ddf399be-4d1c-4cba-e781-8948e878c97b"
      },
      "source": [
        "sns.boxplot(df_trimmed['video_views'])"
      ],
      "execution_count": null,
      "outputs": [
        {
          "output_type": "execute_result",
          "data": {
            "text/plain": [
              "<matplotlib.axes._subplots.AxesSubplot at 0x7fd83278bf90>"
            ]
          },
          "metadata": {
            "tags": []
          },
          "execution_count": 43
        },
        {
          "output_type": "display_data",
          "data": {
            "image/png": "[encoded data removed]",
            "text/plain": [
              "<Figure size 432x288 with 1 Axes>"
            ]
          },
          "metadata": {
            "tags": [],
            "needs_background": "light"
          }
        }
      ]
    },
    {
      "cell_type": "code",
      "metadata": {
        "id": "yeveXoj9s4Gt"
      },
      "source": [
        "df_trimmed=df_trimmed.drop(df_trimmed[df_trimmed['video_views']>1500000].index)"
      ],
      "execution_count": null,
      "outputs": []
    },
    {
      "cell_type": "code",
      "metadata": {
        "id": "d-yPvoDts4Gt",
        "outputId": "1985bedf-7257-4f7b-8046-41b50110e149"
      },
      "source": [
        "#post_reactions\n",
        "plt.scatter('time_created','post_reactions',data=df_trimmed)"
      ],
      "execution_count": null,
      "outputs": [
        {
          "output_type": "execute_result",
          "data": {
            "text/plain": [
              "<matplotlib.collections.PathCollection at 0x7fd82a8a3c10>"
            ]
          },
          "metadata": {
            "tags": []
          },
          "execution_count": 45
        },
        {
          "output_type": "display_data",
          "data": {
            "image/png": "[encoded data removed]",
            "text/plain": [
              "<Figure size 432x288 with 1 Axes>"
            ]
          },
          "metadata": {
            "tags": [],
            "needs_background": "light"
          }
        }
      ]
    },
    {
      "cell_type": "code",
      "metadata": {
        "id": "WdkE4Zkds4Gt",
        "outputId": "d1ed31ab-c24a-4c06-e454-ae41125a4f2b"
      },
      "source": [
        "sns.boxplot(df_trimmed['post_reactions'])"
      ],
      "execution_count": null,
      "outputs": [
        {
          "output_type": "execute_result",
          "data": {
            "text/plain": [
              "<matplotlib.axes._subplots.AxesSubplot at 0x7fd82f51a290>"
            ]
          },
          "metadata": {
            "tags": []
          },
          "execution_count": 46
        },
        {
          "output_type": "display_data",
          "data": {
            "image/png": "[encoded data removed]",
            "text/plain": [
              "<Figure size 432x288 with 1 Axes>"
            ]
          },
          "metadata": {
            "tags": [],
            "needs_background": "light"
          }
        }
      ]
    },
    {
      "cell_type": "code",
      "metadata": {
        "id": "iOijb1Mss4Gt"
      },
      "source": [
        "df_trimmed=df_trimmed.drop(df_trimmed[df_trimmed['post_reactions']>100000].index)"
      ],
      "execution_count": null,
      "outputs": []
    },
    {
      "cell_type": "markdown",
      "metadata": {
        "id": "cRKIrtZPs4Gt"
      },
      "source": [
        "#### Discrete Variables Cleaning"
      ]
    },
    {
      "cell_type": "code",
      "metadata": {
        "id": "xMptu59as4Gt",
        "outputId": "74bd1357-a0c8-4df9-a9c1-a9dacf0405d2"
      },
      "source": [
        "df_trimmed.head(2)"
      ],
      "execution_count": null,
      "outputs": [
        {
          "output_type": "execute_result",
          "data": {
            "text/html": [
              "<div>\n",
              "<style scoped>\n",
              "    .dataframe tbody tr th:only-of-type {\n",
              "        vertical-align: middle;\n",
              "    }\n",
              "\n",
              "    .dataframe tbody tr th {\n",
              "        vertical-align: top;\n",
              "    }\n",
              "\n",
              "    .dataframe thead th {\n",
              "        text-align: right;\n",
              "    }\n",
              "</style>\n",
              "<table border=\"1\" class=\"dataframe\">\n",
              "  <thead>\n",
              "    <tr style=\"text-align: right;\">\n",
              "      <th></th>\n",
              "      <th>account_id</th>\n",
              "      <th>approximate_count</th>\n",
              "      <th>custom_audience_id</th>\n",
              "      <th>name</th>\n",
              "      <th>retention_days</th>\n",
              "      <th>time_created</th>\n",
              "      <th>customer_file_source</th>\n",
              "      <th>description</th>\n",
              "      <th>is_value_based</th>\n",
              "      <th>data_source_type</th>\n",
              "      <th>...</th>\n",
              "      <th>cpc</th>\n",
              "      <th>impressions</th>\n",
              "      <th>cpm</th>\n",
              "      <th>ctr</th>\n",
              "      <th>comments</th>\n",
              "      <th>video_views</th>\n",
              "      <th>post_reactions</th>\n",
              "      <th>year</th>\n",
              "      <th>month</th>\n",
              "      <th>weekday</th>\n",
              "    </tr>\n",
              "  </thead>\n",
              "  <tbody>\n",
              "    <tr>\n",
              "      <th>2</th>\n",
              "      <td>104657973074389</td>\n",
              "      <td>15000</td>\n",
              "      <td>6083223001402</td>\n",
              "      <td>People who watched at least 3 second of Panten...</td>\n",
              "      <td>365</td>\n",
              "      <td>2017-11-17 17:01:42</td>\n",
              "      <td>NOT_APPLICABLE</td>\n",
              "      <td>NaN</td>\n",
              "      <td>False</td>\n",
              "      <td>EVENT_BASED</td>\n",
              "      <td>...</td>\n",
              "      <td>0.145</td>\n",
              "      <td>104.0</td>\n",
              "      <td>2.788462</td>\n",
              "      <td>0.0192</td>\n",
              "      <td>0.0</td>\n",
              "      <td>23.0</td>\n",
              "      <td>0.0</td>\n",
              "      <td>2017</td>\n",
              "      <td>11</td>\n",
              "      <td>Friday</td>\n",
              "    </tr>\n",
              "    <tr>\n",
              "      <th>4</th>\n",
              "      <td>104657973074389</td>\n",
              "      <td>15000</td>\n",
              "      <td>6083223001402</td>\n",
              "      <td>People who watched at least 3 second of Panten...</td>\n",
              "      <td>365</td>\n",
              "      <td>2017-11-17 17:01:42</td>\n",
              "      <td>NOT_APPLICABLE</td>\n",
              "      <td>NaN</td>\n",
              "      <td>False</td>\n",
              "      <td>EVENT_BASED</td>\n",
              "      <td>...</td>\n",
              "      <td>0.445</td>\n",
              "      <td>631.0</td>\n",
              "      <td>1.410460</td>\n",
              "      <td>0.0032</td>\n",
              "      <td>1.0</td>\n",
              "      <td>217.0</td>\n",
              "      <td>12.0</td>\n",
              "      <td>2017</td>\n",
              "      <td>11</td>\n",
              "      <td>Friday</td>\n",
              "    </tr>\n",
              "  </tbody>\n",
              "</table>\n",
              "<p>2 rows × 24 columns</p>\n",
              "</div>"
            ],
            "text/plain": [
              "        account_id  approximate_count  custom_audience_id  \\\n",
              "2  104657973074389              15000       6083223001402   \n",
              "4  104657973074389              15000       6083223001402   \n",
              "\n",
              "                                                name  retention_days  \\\n",
              "2  People who watched at least 3 second of Panten...             365   \n",
              "4  People who watched at least 3 second of Panten...             365   \n",
              "\n",
              "         time_created customer_file_source description  is_value_based  \\\n",
              "2 2017-11-17 17:01:42       NOT_APPLICABLE         NaN           False   \n",
              "4 2017-11-17 17:01:42       NOT_APPLICABLE         NaN           False   \n",
              "\n",
              "  data_source_type  ...    cpc impressions       cpm     ctr  comments  \\\n",
              "2      EVENT_BASED  ...  0.145       104.0  2.788462  0.0192       0.0   \n",
              "4      EVENT_BASED  ...  0.445       631.0  1.410460  0.0032       1.0   \n",
              "\n",
              "   video_views  post_reactions  year  month  weekday  \n",
              "2         23.0             0.0  2017     11   Friday  \n",
              "4        217.0            12.0  2017     11   Friday  \n",
              "\n",
              "[2 rows x 24 columns]"
            ]
          },
          "metadata": {
            "tags": []
          },
          "execution_count": 48
        }
      ]
    },
    {
      "cell_type": "code",
      "metadata": {
        "id": "p5U9-srbs4Gt",
        "outputId": "76a651d3-6f54-4e4a-e858-1367cfe51443"
      },
      "source": [
        "df_trimmed['data_source_type'].value_counts()"
      ],
      "execution_count": null,
      "outputs": [
        {
          "output_type": "execute_result",
          "data": {
            "text/plain": [
              "EVENT_BASED      633733\n",
              "SEED_BASED        36244\n",
              "FILE_IMPORTED     13185\n",
              "UNKNOWN             114\n",
              "Name: data_source_type, dtype: int64"
            ]
          },
          "metadata": {
            "tags": []
          },
          "execution_count": 49
        }
      ]
    },
    {
      "cell_type": "code",
      "metadata": {
        "id": "0MPVduY4s4Gu",
        "outputId": "73c6982d-a43e-42c1-e999-49cb966deb97"
      },
      "source": [
        "df_trimmed['data_source_sub_type'].value_counts()"
      ],
      "execution_count": null,
      "outputs": [
        {
          "output_type": "execute_result",
          "data": {
            "text/plain": [
              "ENGAGEMENT_EVENTS                       330266\n",
              "VIDEO_EVENTS                            268577\n",
              "PLATFORM_USERS                           22218\n",
              "WEB_PIXEL_HITS                           19699\n",
              "IG_BUSINESS_EVENTS                       13386\n",
              "ENGAGEMENT_EVENT_USERS                   11257\n",
              "EXTERNAL_IDS                              8854\n",
              "MULTI_HASHES                              2972\n",
              "PAGE_FANS                                 1176\n",
              "MOBILE_APP_EVENTS                         1170\n",
              "HASHES_OR_USER_IDS                         920\n",
              "CUSTOM_AUDIENCE_USERS                      725\n",
              "STORE_VISIT_EVENTS                         629\n",
              "MULTI_EVENT_SOURCE                         508\n",
              "MOBILE_ADVERTISER_IDS                      439\n",
              "MOBILE_APP_CUSTOM_AUDIENCE_USERS           312\n",
              "ANYTHING                                   114\n",
              "VIDEO_EVENT_USERS                           33\n",
              "WEB_PIXEL_HITS_CUSTOM_AUDIENCE_USERS        15\n",
              "MOBILE_APP_COMBINATION_EVENTS                6\n",
              "Name: data_source_sub_type, dtype: int64"
            ]
          },
          "metadata": {
            "tags": []
          },
          "execution_count": 50
        }
      ]
    },
    {
      "cell_type": "code",
      "metadata": {
        "id": "GMBGZmWns4Gu",
        "outputId": "3c9840e6-028c-437f-d991-c2decb5932a2"
      },
      "source": [
        "df_trimmed['name'].value_counts().head()"
      ],
      "execution_count": null,
      "outputs": [
        {
          "output_type": "execute_result",
          "data": {
            "text/plain": [
              "Video Engagement - \"Pretty sure we'll be making this after school ever...\" - 905160109565850 - Completed    3730\n",
              "Video Engagement - \"Easy and healthy breakfasts?! Yas please! That egg...\" - 898716883543506 - Completed    3722\n",
              "Video Engagement - \"Healthy junk food?! But how?! We figured it out. Y...\" - 901560776592450 - Completed    3689\n",
              "Video Engagement - \"Put your hands together for the wonderful new @[20...\" - 899994426749085 - Completed    3633\n",
              "Video Engagement - \"The mid-season finale of #GuidanceShow hits @[9655...\" - 902590496489478 - Completed    3543\n",
              "Name: name, dtype: int64"
            ]
          },
          "metadata": {
            "tags": []
          },
          "execution_count": 51
        }
      ]
    },
    {
      "cell_type": "code",
      "metadata": {
        "id": "skL5Cazis4Gu",
        "outputId": "bd1c287f-1c8e-491a-d8ac-a69877d36c62"
      },
      "source": [
        "df_trimmed.head(1)"
      ],
      "execution_count": null,
      "outputs": [
        {
          "output_type": "execute_result",
          "data": {
            "text/html": [
              "<div>\n",
              "<style scoped>\n",
              "    .dataframe tbody tr th:only-of-type {\n",
              "        vertical-align: middle;\n",
              "    }\n",
              "\n",
              "    .dataframe tbody tr th {\n",
              "        vertical-align: top;\n",
              "    }\n",
              "\n",
              "    .dataframe thead th {\n",
              "        text-align: right;\n",
              "    }\n",
              "</style>\n",
              "<table border=\"1\" class=\"dataframe\">\n",
              "  <thead>\n",
              "    <tr style=\"text-align: right;\">\n",
              "      <th></th>\n",
              "      <th>account_id</th>\n",
              "      <th>approximate_count</th>\n",
              "      <th>custom_audience_id</th>\n",
              "      <th>name</th>\n",
              "      <th>retention_days</th>\n",
              "      <th>time_created</th>\n",
              "      <th>customer_file_source</th>\n",
              "      <th>description</th>\n",
              "      <th>is_value_based</th>\n",
              "      <th>data_source_type</th>\n",
              "      <th>...</th>\n",
              "      <th>cpc</th>\n",
              "      <th>impressions</th>\n",
              "      <th>cpm</th>\n",
              "      <th>ctr</th>\n",
              "      <th>comments</th>\n",
              "      <th>video_views</th>\n",
              "      <th>post_reactions</th>\n",
              "      <th>year</th>\n",
              "      <th>month</th>\n",
              "      <th>weekday</th>\n",
              "    </tr>\n",
              "  </thead>\n",
              "  <tbody>\n",
              "    <tr>\n",
              "      <th>2</th>\n",
              "      <td>104657973074389</td>\n",
              "      <td>15000</td>\n",
              "      <td>6083223001402</td>\n",
              "      <td>People who watched at least 3 second of Panten...</td>\n",
              "      <td>365</td>\n",
              "      <td>2017-11-17 17:01:42</td>\n",
              "      <td>NOT_APPLICABLE</td>\n",
              "      <td>NaN</td>\n",
              "      <td>False</td>\n",
              "      <td>EVENT_BASED</td>\n",
              "      <td>...</td>\n",
              "      <td>0.145</td>\n",
              "      <td>104.0</td>\n",
              "      <td>2.788462</td>\n",
              "      <td>0.0192</td>\n",
              "      <td>0.0</td>\n",
              "      <td>23.0</td>\n",
              "      <td>0.0</td>\n",
              "      <td>2017</td>\n",
              "      <td>11</td>\n",
              "      <td>Friday</td>\n",
              "    </tr>\n",
              "  </tbody>\n",
              "</table>\n",
              "<p>1 rows × 24 columns</p>\n",
              "</div>"
            ],
            "text/plain": [
              "        account_id  approximate_count  custom_audience_id  \\\n",
              "2  104657973074389              15000       6083223001402   \n",
              "\n",
              "                                                name  retention_days  \\\n",
              "2  People who watched at least 3 second of Panten...             365   \n",
              "\n",
              "         time_created customer_file_source description  is_value_based  \\\n",
              "2 2017-11-17 17:01:42       NOT_APPLICABLE         NaN           False   \n",
              "\n",
              "  data_source_type  ...    cpc impressions       cpm     ctr  comments  \\\n",
              "2      EVENT_BASED  ...  0.145       104.0  2.788462  0.0192       0.0   \n",
              "\n",
              "   video_views  post_reactions  year  month  weekday  \n",
              "2         23.0             0.0  2017     11   Friday  \n",
              "\n",
              "[1 rows x 24 columns]"
            ]
          },
          "metadata": {
            "tags": []
          },
          "execution_count": 52
        }
      ]
    },
    {
      "cell_type": "markdown",
      "metadata": {
        "id": "qUhKRaths4Gu"
      },
      "source": [
        "# EDA"
      ]
    },
    {
      "cell_type": "code",
      "metadata": {
        "id": "cdOV9yUxs4Gu"
      },
      "source": [
        "df = df_trimmed"
      ],
      "execution_count": null,
      "outputs": []
    },
    {
      "cell_type": "code",
      "metadata": {
        "id": "zUWhY6V3s4Gu",
        "outputId": "11b42bf2-1391-4eb6-ed47-221ef05dcf78"
      },
      "source": [
        "#find out which audience has the highest average Ctr?\n",
        "grouped_audience=df.groupby(by='custom_audience_id',as_index=False)['ctr'].mean()\n",
        "sorted_grouped_audience=grouped_audience.sort_values(by='ctr',ascending=False)\n",
        "top10=sorted_grouped_audience.iloc[0:10]\n",
        "top10\n",
        "\n"
      ],
      "execution_count": null,
      "outputs": [
        {
          "output_type": "execute_result",
          "data": {
            "text/html": [
              "<div>\n",
              "<style scoped>\n",
              "    .dataframe tbody tr th:only-of-type {\n",
              "        vertical-align: middle;\n",
              "    }\n",
              "\n",
              "    .dataframe tbody tr th {\n",
              "        vertical-align: top;\n",
              "    }\n",
              "\n",
              "    .dataframe thead th {\n",
              "        text-align: right;\n",
              "    }\n",
              "</style>\n",
              "<table border=\"1\" class=\"dataframe\">\n",
              "  <thead>\n",
              "    <tr style=\"text-align: right;\">\n",
              "      <th></th>\n",
              "      <th>custom_audience_id</th>\n",
              "      <th>ctr</th>\n",
              "    </tr>\n",
              "  </thead>\n",
              "  <tbody>\n",
              "    <tr>\n",
              "      <th>2912</th>\n",
              "      <td>23843472544700209</td>\n",
              "      <td>0.108000</td>\n",
              "    </tr>\n",
              "    <tr>\n",
              "      <th>2445</th>\n",
              "      <td>23843060174840357</td>\n",
              "      <td>0.101000</td>\n",
              "    </tr>\n",
              "    <tr>\n",
              "      <th>3113</th>\n",
              "      <td>23844285539840673</td>\n",
              "      <td>0.089580</td>\n",
              "    </tr>\n",
              "    <tr>\n",
              "      <th>0</th>\n",
              "      <td>6009738103002</td>\n",
              "      <td>0.086725</td>\n",
              "    </tr>\n",
              "    <tr>\n",
              "      <th>2</th>\n",
              "      <td>6009738128002</td>\n",
              "      <td>0.086725</td>\n",
              "    </tr>\n",
              "    <tr>\n",
              "      <th>1</th>\n",
              "      <td>6009738121402</td>\n",
              "      <td>0.086725</td>\n",
              "    </tr>\n",
              "    <tr>\n",
              "      <th>1144</th>\n",
              "      <td>6048374856202</td>\n",
              "      <td>0.086600</td>\n",
              "    </tr>\n",
              "    <tr>\n",
              "      <th>1141</th>\n",
              "      <td>6048374721802</td>\n",
              "      <td>0.086600</td>\n",
              "    </tr>\n",
              "    <tr>\n",
              "      <th>1142</th>\n",
              "      <td>6048374727402</td>\n",
              "      <td>0.086600</td>\n",
              "    </tr>\n",
              "    <tr>\n",
              "      <th>1138</th>\n",
              "      <td>6048374699402</td>\n",
              "      <td>0.086600</td>\n",
              "    </tr>\n",
              "  </tbody>\n",
              "</table>\n",
              "</div>"
            ],
            "text/plain": [
              "      custom_audience_id       ctr\n",
              "2912   23843472544700209  0.108000\n",
              "2445   23843060174840357  0.101000\n",
              "3113   23844285539840673  0.089580\n",
              "0          6009738103002  0.086725\n",
              "2          6009738128002  0.086725\n",
              "1          6009738121402  0.086725\n",
              "1144       6048374856202  0.086600\n",
              "1141       6048374721802  0.086600\n",
              "1142       6048374727402  0.086600\n",
              "1138       6048374699402  0.086600"
            ]
          },
          "metadata": {
            "tags": []
          },
          "execution_count": 54
        }
      ]
    },
    {
      "cell_type": "code",
      "metadata": {
        "id": "6Zx-hXuZs4Gu",
        "outputId": "9e3b2773-330d-40a9-8299-1c05a038e206"
      },
      "source": [
        "plt.figure(figsize=(20,5))\n",
        "sns.barplot('custom_audience_id','ctr',data=top10)\n",
        "plt.title('Top 10 Audiences',size=15)"
      ],
      "execution_count": null,
      "outputs": [
        {
          "output_type": "execute_result",
          "data": {
            "text/plain": [
              "Text(0.5, 1.0, 'Top 10 Audiences')"
            ]
          },
          "metadata": {
            "tags": []
          },
          "execution_count": 55
        },
        {
          "output_type": "display_data",
          "data": {
            "image/png": "[encoded data removed]",
            "text/plain": [
              "<Figure size 1440x360 with 1 Axes>"
            ]
          },
          "metadata": {
            "tags": [],
            "needs_background": "light"
          }
        }
      ]
    },
    {
      "cell_type": "code",
      "metadata": {
        "id": "B88T3irJs4Gu",
        "outputId": "741feee6-38c0-42a2-b054-16b77d7a5232"
      },
      "source": [
        "sns.countplot(df['year'])\n",
        "plt.title('Number of Clicks Annually')"
      ],
      "execution_count": null,
      "outputs": [
        {
          "output_type": "execute_result",
          "data": {
            "text/plain": [
              "Text(0.5, 1.0, 'Number of Clicks Annually')"
            ]
          },
          "metadata": {
            "tags": []
          },
          "execution_count": 56
        },
        {
          "output_type": "display_data",
          "data": {
            "image/png": "[encoded data removed]",
            "text/plain": [
              "<Figure size 432x288 with 1 Axes>"
            ]
          },
          "metadata": {
            "tags": [],
            "needs_background": "light"
          }
        }
      ]
    },
    {
      "cell_type": "code",
      "metadata": {
        "id": "RzU0OCL-s4Gu",
        "outputId": "c8894286-bfb8-4ace-8531-4e4346ec9c0c"
      },
      "source": [
        "sns.countplot(df['month'])\n",
        "plt.title('Number of Clicks Monthly')"
      ],
      "execution_count": null,
      "outputs": [
        {
          "output_type": "execute_result",
          "data": {
            "text/plain": [
              "Text(0.5, 1.0, 'Number of Clicks Monthly')"
            ]
          },
          "metadata": {
            "tags": []
          },
          "execution_count": 57
        },
        {
          "output_type": "display_data",
          "data": {
            "image/png": "[encoded data removed]",
            "text/plain": [
              "<Figure size 432x288 with 1 Axes>"
            ]
          },
          "metadata": {
            "tags": [],
            "needs_background": "light"
          }
        }
      ]
    },
    {
      "cell_type": "code",
      "metadata": {
        "id": "E0Jj1Wtss4Gu",
        "outputId": "9b77a121-b8b7-49d4-fd29-84c69b6b8d8d"
      },
      "source": [
        "plt.figure(figsize=(8,4))\n",
        "sns.countplot(df['weekday'])\n",
        "plt.title('Number of Clicks Weekly')"
      ],
      "execution_count": null,
      "outputs": [
        {
          "output_type": "execute_result",
          "data": {
            "text/plain": [
              "Text(0.5, 1.0, 'Number of Clicks Weekly')"
            ]
          },
          "metadata": {
            "tags": []
          },
          "execution_count": 58
        },
        {
          "output_type": "display_data",
          "data": {
            "image/png": "[encoded data removed]",
            "text/plain": [
              "<Figure size 576x288 with 1 Axes>"
            ]
          },
          "metadata": {
            "tags": [],
            "needs_background": "light"
          }
        }
      ]
    },
    {
      "cell_type": "code",
      "metadata": {
        "id": "r2f674zZs4Gu",
        "outputId": "b82fd863-c3b4-4609-9470-f4b9a6d110ad"
      },
      "source": [
        "df.groupby('time_created').agg({'ctr':'sum'}).plot(figsize=(12,6))\n",
        "plt.title('Number of Clicks Year 2014 - 2020',size=15)\n",
        "plt.ylabel('click through rate')"
      ],
      "execution_count": null,
      "outputs": [
        {
          "output_type": "execute_result",
          "data": {
            "text/plain": [
              "Text(0, 0.5, 'click through rate')"
            ]
          },
          "metadata": {
            "tags": []
          },
          "execution_count": 59
        },
        {
          "output_type": "display_data",
          "data": {
            "image/png": "[encoded data removed]",
            "text/plain": [
              "<Figure size 864x432 with 1 Axes>"
            ]
          },
          "metadata": {
            "tags": [],
            "needs_background": "light"
          }
        }
      ]
    },
    {
      "cell_type": "code",
      "metadata": {
        "id": "4hNiuGz7s4Gu",
        "outputId": "7b8b0804-b7c3-4d3e-b6a7-e34ec5e59698"
      },
      "source": [
        "#2016 only\n",
        "year16= df[(df['time_created']>='2016-01-01') &\n",
        "  (df['time_created']<'2017-01-01')]\n",
        "year16.groupby('time_created').agg({'ctr':'sum'}).plot(figsize=(12,6))\n",
        "plt.ylabel('click through rate')\n",
        "plt.title('Number of Clicks Daily in 2016',size=15)"
      ],
      "execution_count": null,
      "outputs": [
        {
          "output_type": "execute_result",
          "data": {
            "text/plain": [
              "Text(0.5, 1.0, 'Number of Clicks Daily in 2016')"
            ]
          },
          "metadata": {
            "tags": []
          },
          "execution_count": 60
        },
        {
          "output_type": "display_data",
          "data": {
            "image/png": "[encoded data removed]",
            "text/plain": [
              "<Figure size 864x432 with 1 Axes>"
            ]
          },
          "metadata": {
            "tags": [],
            "needs_background": "light"
          }
        }
      ]
    },
    {
      "cell_type": "markdown",
      "metadata": {
        "id": "b5xt9DQ5s4Gu"
      },
      "source": [
        "<strong>Which custom audience id has the highest average clicks?</strong>"
      ]
    },
    {
      "cell_type": "code",
      "metadata": {
        "id": "B2CBfx7ns4Gu",
        "outputId": "2c88347b-a39a-4aaa-ce82-967f87dbf915"
      },
      "source": [
        "plt.figure(figsize=(30,6))\n",
        "grouped = year16.groupby(by=['custom_audience_id'],as_index=False)['clicks'].mean()\n",
        "sorted_clicks = grouped.sort_values(by='clicks',ascending=False)\n",
        "top_10 = sorted_clicks.head(10)\n",
        "sns.barplot('custom_audience_id','clicks',data=top_10)\n",
        "plt.title('Highest Average Clicks')"
      ],
      "execution_count": null,
      "outputs": [
        {
          "output_type": "execute_result",
          "data": {
            "text/plain": [
              "Text(0.5, 1.0, 'Highest Average Clicks')"
            ]
          },
          "metadata": {
            "tags": []
          },
          "execution_count": 77
        },
        {
          "output_type": "display_data",
          "data": {
            "image/png": "[encoded data removed]",
            "text/plain": [
              "<Figure size 2160x432 with 1 Axes>"
            ]
          },
          "metadata": {
            "tags": [],
            "needs_background": "light"
          }
        }
      ]
    },
    {
      "cell_type": "code",
      "metadata": {
        "id": "jH0dSRers4Gu",
        "outputId": "8876f9a4-9c7f-4f4c-bd7c-f0e7f357ffe5"
      },
      "source": [
        "top_10.head(10)"
      ],
      "execution_count": null,
      "outputs": [
        {
          "output_type": "execute_result",
          "data": {
            "text/html": [
              "<div>\n",
              "<style scoped>\n",
              "    .dataframe tbody tr th:only-of-type {\n",
              "        vertical-align: middle;\n",
              "    }\n",
              "\n",
              "    .dataframe tbody tr th {\n",
              "        vertical-align: top;\n",
              "    }\n",
              "\n",
              "    .dataframe thead th {\n",
              "        text-align: right;\n",
              "    }\n",
              "</style>\n",
              "<table border=\"1\" class=\"dataframe\">\n",
              "  <thead>\n",
              "    <tr style=\"text-align: right;\">\n",
              "      <th></th>\n",
              "      <th>custom_audience_id</th>\n",
              "      <th>clicks</th>\n",
              "    </tr>\n",
              "  </thead>\n",
              "  <tbody>\n",
              "    <tr>\n",
              "      <th>585</th>\n",
              "      <td>6048532718186</td>\n",
              "      <td>24618.095238</td>\n",
              "    </tr>\n",
              "    <tr>\n",
              "      <th>887</th>\n",
              "      <td>6056567491186</td>\n",
              "      <td>24618.095238</td>\n",
              "    </tr>\n",
              "    <tr>\n",
              "      <th>634</th>\n",
              "      <td>6049357630986</td>\n",
              "      <td>24618.095238</td>\n",
              "    </tr>\n",
              "    <tr>\n",
              "      <th>635</th>\n",
              "      <td>6049357659386</td>\n",
              "      <td>24618.095238</td>\n",
              "    </tr>\n",
              "    <tr>\n",
              "      <th>510</th>\n",
              "      <td>6045968330586</td>\n",
              "      <td>24618.095238</td>\n",
              "    </tr>\n",
              "    <tr>\n",
              "      <th>890</th>\n",
              "      <td>6056572704186</td>\n",
              "      <td>24618.095238</td>\n",
              "    </tr>\n",
              "    <tr>\n",
              "      <th>889</th>\n",
              "      <td>6056572644386</td>\n",
              "      <td>24618.095238</td>\n",
              "    </tr>\n",
              "    <tr>\n",
              "      <th>888</th>\n",
              "      <td>6056572478986</td>\n",
              "      <td>24618.095238</td>\n",
              "    </tr>\n",
              "    <tr>\n",
              "      <th>586</th>\n",
              "      <td>6048532751786</td>\n",
              "      <td>24618.095238</td>\n",
              "    </tr>\n",
              "    <tr>\n",
              "      <th>649</th>\n",
              "      <td>6049422417986</td>\n",
              "      <td>24618.095238</td>\n",
              "    </tr>\n",
              "  </tbody>\n",
              "</table>\n",
              "</div>"
            ],
            "text/plain": [
              "     custom_audience_id        clicks\n",
              "585       6048532718186  24618.095238\n",
              "887       6056567491186  24618.095238\n",
              "634       6049357630986  24618.095238\n",
              "635       6049357659386  24618.095238\n",
              "510       6045968330586  24618.095238\n",
              "890       6056572704186  24618.095238\n",
              "889       6056572644386  24618.095238\n",
              "888       6056572478986  24618.095238\n",
              "586       6048532751786  24618.095238\n",
              "649       6049422417986  24618.095238"
            ]
          },
          "metadata": {
            "tags": []
          },
          "execution_count": 78
        }
      ]
    },
    {
      "cell_type": "code",
      "metadata": {
        "id": "vPdHrvl-s4Gu",
        "outputId": "f8633eeb-3318-4476-daa8-2906d080ea59"
      },
      "source": [
        "top_50.tail(10)"
      ],
      "execution_count": null,
      "outputs": [
        {
          "output_type": "execute_result",
          "data": {
            "text/html": [
              "<div>\n",
              "<style scoped>\n",
              "    .dataframe tbody tr th:only-of-type {\n",
              "        vertical-align: middle;\n",
              "    }\n",
              "\n",
              "    .dataframe tbody tr th {\n",
              "        vertical-align: top;\n",
              "    }\n",
              "\n",
              "    .dataframe thead th {\n",
              "        text-align: right;\n",
              "    }\n",
              "</style>\n",
              "<table border=\"1\" class=\"dataframe\">\n",
              "  <thead>\n",
              "    <tr style=\"text-align: right;\">\n",
              "      <th></th>\n",
              "      <th>custom_audience_id</th>\n",
              "      <th>clicks</th>\n",
              "    </tr>\n",
              "  </thead>\n",
              "  <tbody>\n",
              "    <tr>\n",
              "      <th>112</th>\n",
              "      <td>6037030090172</td>\n",
              "      <td>8862.166667</td>\n",
              "    </tr>\n",
              "    <tr>\n",
              "      <th>51</th>\n",
              "      <td>6036234941372</td>\n",
              "      <td>8862.166667</td>\n",
              "    </tr>\n",
              "    <tr>\n",
              "      <th>12</th>\n",
              "      <td>6036111318772</td>\n",
              "      <td>8862.166667</td>\n",
              "    </tr>\n",
              "    <tr>\n",
              "      <th>204</th>\n",
              "      <td>6038383812772</td>\n",
              "      <td>8862.166667</td>\n",
              "    </tr>\n",
              "    <tr>\n",
              "      <th>145</th>\n",
              "      <td>6037548310972</td>\n",
              "      <td>8578.452431</td>\n",
              "    </tr>\n",
              "    <tr>\n",
              "      <th>98</th>\n",
              "      <td>6037030085172</td>\n",
              "      <td>8578.452431</td>\n",
              "    </tr>\n",
              "    <tr>\n",
              "      <th>44</th>\n",
              "      <td>6036234938972</td>\n",
              "      <td>8578.452431</td>\n",
              "    </tr>\n",
              "    <tr>\n",
              "      <th>140</th>\n",
              "      <td>6037463666172</td>\n",
              "      <td>8578.452431</td>\n",
              "    </tr>\n",
              "    <tr>\n",
              "      <th>220</th>\n",
              "      <td>6039770449172</td>\n",
              "      <td>8571.067245</td>\n",
              "    </tr>\n",
              "    <tr>\n",
              "      <th>443</th>\n",
              "      <td>6043815725572</td>\n",
              "      <td>7923.074153</td>\n",
              "    </tr>\n",
              "  </tbody>\n",
              "</table>\n",
              "</div>"
            ],
            "text/plain": [
              "     custom_audience_id       clicks\n",
              "112       6037030090172  8862.166667\n",
              "51        6036234941372  8862.166667\n",
              "12        6036111318772  8862.166667\n",
              "204       6038383812772  8862.166667\n",
              "145       6037548310972  8578.452431\n",
              "98        6037030085172  8578.452431\n",
              "44        6036234938972  8578.452431\n",
              "140       6037463666172  8578.452431\n",
              "220       6039770449172  8571.067245\n",
              "443       6043815725572  7923.074153"
            ]
          },
          "metadata": {
            "tags": []
          },
          "execution_count": 63
        }
      ]
    },
    {
      "cell_type": "markdown",
      "metadata": {
        "id": "As-OIHaks4Gu"
      },
      "source": [
        "<strong>Which custom audience id has the highest average cpm?</strong>"
      ]
    },
    {
      "cell_type": "code",
      "metadata": {
        "id": "nOr0S5yFs4Gu"
      },
      "source": [
        "grouped_cpm = year16.groupby(by='custom_audience_id',as_index=False)['cpm'].mean().sort_values(by='cpm',ascending=False)\n",
        "\n"
      ],
      "execution_count": null,
      "outputs": []
    },
    {
      "cell_type": "code",
      "metadata": {
        "id": "GbV_9FHss4Gu"
      },
      "source": [
        "top_10_cpm = grouped_cpm.head(10)"
      ],
      "execution_count": null,
      "outputs": []
    },
    {
      "cell_type": "code",
      "metadata": {
        "id": "CSYak62Us4Gu",
        "outputId": "338f6ae6-5ce5-4be0-c4dd-c757215b5914"
      },
      "source": [
        "top_10_cpm.head(10)"
      ],
      "execution_count": null,
      "outputs": [
        {
          "output_type": "execute_result",
          "data": {
            "text/html": [
              "<div>\n",
              "<style scoped>\n",
              "    .dataframe tbody tr th:only-of-type {\n",
              "        vertical-align: middle;\n",
              "    }\n",
              "\n",
              "    .dataframe tbody tr th {\n",
              "        vertical-align: top;\n",
              "    }\n",
              "\n",
              "    .dataframe thead th {\n",
              "        text-align: right;\n",
              "    }\n",
              "</style>\n",
              "<table border=\"1\" class=\"dataframe\">\n",
              "  <thead>\n",
              "    <tr style=\"text-align: right;\">\n",
              "      <th></th>\n",
              "      <th>custom_audience_id</th>\n",
              "      <th>cpm</th>\n",
              "    </tr>\n",
              "  </thead>\n",
              "  <tbody>\n",
              "    <tr>\n",
              "      <th>648</th>\n",
              "      <td>6049421959186</td>\n",
              "      <td>35.039824</td>\n",
              "    </tr>\n",
              "    <tr>\n",
              "      <th>744</th>\n",
              "      <td>6051227174586</td>\n",
              "      <td>33.505316</td>\n",
              "    </tr>\n",
              "    <tr>\n",
              "      <th>625</th>\n",
              "      <td>6049346614386</td>\n",
              "      <td>30.931787</td>\n",
              "    </tr>\n",
              "    <tr>\n",
              "      <th>899</th>\n",
              "      <td>6056589313786</td>\n",
              "      <td>24.909177</td>\n",
              "    </tr>\n",
              "    <tr>\n",
              "      <th>631</th>\n",
              "      <td>6049353439786</td>\n",
              "      <td>24.909177</td>\n",
              "    </tr>\n",
              "    <tr>\n",
              "      <th>626</th>\n",
              "      <td>6049347160586</td>\n",
              "      <td>24.909177</td>\n",
              "    </tr>\n",
              "    <tr>\n",
              "      <th>627</th>\n",
              "      <td>6049347761386</td>\n",
              "      <td>24.909177</td>\n",
              "    </tr>\n",
              "    <tr>\n",
              "      <th>839</th>\n",
              "      <td>6054383004186</td>\n",
              "      <td>24.301092</td>\n",
              "    </tr>\n",
              "    <tr>\n",
              "      <th>838</th>\n",
              "      <td>6054382947786</td>\n",
              "      <td>23.277322</td>\n",
              "    </tr>\n",
              "    <tr>\n",
              "      <th>835</th>\n",
              "      <td>6054305486186</td>\n",
              "      <td>23.277322</td>\n",
              "    </tr>\n",
              "  </tbody>\n",
              "</table>\n",
              "</div>"
            ],
            "text/plain": [
              "     custom_audience_id        cpm\n",
              "648       6049421959186  35.039824\n",
              "744       6051227174586  33.505316\n",
              "625       6049346614386  30.931787\n",
              "899       6056589313786  24.909177\n",
              "631       6049353439786  24.909177\n",
              "626       6049347160586  24.909177\n",
              "627       6049347761386  24.909177\n",
              "839       6054383004186  24.301092\n",
              "838       6054382947786  23.277322\n",
              "835       6054305486186  23.277322"
            ]
          },
          "metadata": {
            "tags": []
          },
          "execution_count": 84
        }
      ]
    },
    {
      "cell_type": "code",
      "metadata": {
        "id": "a9hbiR98s4Gu",
        "outputId": "f0f981bc-5fce-460d-f391-458a81e45e33"
      },
      "source": [
        "plt.figure(figsize=(30,6))\n",
        "sns.barplot('custom_audience_id','cpm',data=top_10_cpm)\n",
        "plt.title('Highest Average Cpm',size=15)"
      ],
      "execution_count": null,
      "outputs": [
        {
          "output_type": "execute_result",
          "data": {
            "text/plain": [
              "Text(0.5, 1.0, 'Highest Average Cpm')"
            ]
          },
          "metadata": {
            "tags": []
          },
          "execution_count": 86
        },
        {
          "output_type": "display_data",
          "data": {
            "image/png": "[encoded data removed]",
            "text/plain": [
              "<Figure size 2160x432 with 1 Axes>"
            ]
          },
          "metadata": {
            "tags": [],
            "needs_background": "light"
          }
        }
      ]
    },
    {
      "cell_type": "markdown",
      "metadata": {
        "id": "kgNWg82Bs4Gu"
      },
      "source": [
        "<strong>Which custom audience id has the highest average impressions?</strong>"
      ]
    },
    {
      "cell_type": "code",
      "metadata": {
        "id": "6tNfp_iXs4Gv"
      },
      "source": [
        "grouped_impressions = year16.groupby(by='custom_audience_id',as_index=False)['impressions'].mean().sort_values(by='impressions',ascending=False)"
      ],
      "execution_count": null,
      "outputs": []
    },
    {
      "cell_type": "code",
      "metadata": {
        "id": "RxrHjH9Qs4Gv"
      },
      "source": [
        "top_impressions = grouped_impressions.head(10)"
      ],
      "execution_count": null,
      "outputs": []
    },
    {
      "cell_type": "code",
      "metadata": {
        "id": "vZCUtKtTs4Gv",
        "outputId": "8e952bbf-d42d-42c9-99e5-fa7db97e837b"
      },
      "source": [
        "top_impressions.head(10)"
      ],
      "execution_count": null,
      "outputs": [
        {
          "output_type": "execute_result",
          "data": {
            "text/html": [
              "<div>\n",
              "<style scoped>\n",
              "    .dataframe tbody tr th:only-of-type {\n",
              "        vertical-align: middle;\n",
              "    }\n",
              "\n",
              "    .dataframe tbody tr th {\n",
              "        vertical-align: top;\n",
              "    }\n",
              "\n",
              "    .dataframe thead th {\n",
              "        text-align: right;\n",
              "    }\n",
              "</style>\n",
              "<table border=\"1\" class=\"dataframe\">\n",
              "  <thead>\n",
              "    <tr style=\"text-align: right;\">\n",
              "      <th></th>\n",
              "      <th>custom_audience_id</th>\n",
              "      <th>impressions</th>\n",
              "    </tr>\n",
              "  </thead>\n",
              "  <tbody>\n",
              "    <tr>\n",
              "      <th>887</th>\n",
              "      <td>6056567491186</td>\n",
              "      <td>587138.428571</td>\n",
              "    </tr>\n",
              "    <tr>\n",
              "      <th>888</th>\n",
              "      <td>6056572478986</td>\n",
              "      <td>587138.428571</td>\n",
              "    </tr>\n",
              "    <tr>\n",
              "      <th>556</th>\n",
              "      <td>6048149185386</td>\n",
              "      <td>587138.428571</td>\n",
              "    </tr>\n",
              "    <tr>\n",
              "      <th>557</th>\n",
              "      <td>6048149194586</td>\n",
              "      <td>587138.428571</td>\n",
              "    </tr>\n",
              "    <tr>\n",
              "      <th>585</th>\n",
              "      <td>6048532718186</td>\n",
              "      <td>587138.428571</td>\n",
              "    </tr>\n",
              "    <tr>\n",
              "      <th>586</th>\n",
              "      <td>6048532751786</td>\n",
              "      <td>587138.428571</td>\n",
              "    </tr>\n",
              "    <tr>\n",
              "      <th>890</th>\n",
              "      <td>6056572704186</td>\n",
              "      <td>587138.428571</td>\n",
              "    </tr>\n",
              "    <tr>\n",
              "      <th>509</th>\n",
              "      <td>6045968318786</td>\n",
              "      <td>587138.428571</td>\n",
              "    </tr>\n",
              "    <tr>\n",
              "      <th>649</th>\n",
              "      <td>6049422417986</td>\n",
              "      <td>587138.428571</td>\n",
              "    </tr>\n",
              "    <tr>\n",
              "      <th>635</th>\n",
              "      <td>6049357659386</td>\n",
              "      <td>587138.428571</td>\n",
              "    </tr>\n",
              "  </tbody>\n",
              "</table>\n",
              "</div>"
            ],
            "text/plain": [
              "     custom_audience_id    impressions\n",
              "887       6056567491186  587138.428571\n",
              "888       6056572478986  587138.428571\n",
              "556       6048149185386  587138.428571\n",
              "557       6048149194586  587138.428571\n",
              "585       6048532718186  587138.428571\n",
              "586       6048532751786  587138.428571\n",
              "890       6056572704186  587138.428571\n",
              "509       6045968318786  587138.428571\n",
              "649       6049422417986  587138.428571\n",
              "635       6049357659386  587138.428571"
            ]
          },
          "metadata": {
            "tags": []
          },
          "execution_count": 97
        }
      ]
    },
    {
      "cell_type": "code",
      "metadata": {
        "id": "LcDAWuuis4Gv",
        "outputId": "3b133118-79af-4926-a706-b2ea0fe316de"
      },
      "source": [
        "plt.figure(figsize=(30,6))\n",
        "sns.barplot('custom_audience_id','impressions',data=top_impressions)\n",
        "plt.title('Highest Average Impressions',size=20)"
      ],
      "execution_count": null,
      "outputs": [
        {
          "output_type": "execute_result",
          "data": {
            "text/plain": [
              "Text(0.5, 1.0, 'Highest Average Impressions')"
            ]
          },
          "metadata": {
            "tags": []
          },
          "execution_count": 99
        },
        {
          "output_type": "display_data",
          "data": {
            "image/png": "[encoded data removed]",
            "text/plain": [
              "<Figure size 2160x432 with 1 Axes>"
            ]
          },
          "metadata": {
            "tags": [],
            "needs_background": "light"
          }
        }
      ]
    },
    {
      "cell_type": "code",
      "metadata": {
        "id": "j9rhzIA_s4Gv",
        "outputId": "25f607d3-7010-4aaf-f040-b110d537aa46"
      },
      "source": [
        "year16['data_source_type'].value_counts()"
      ],
      "execution_count": null,
      "outputs": [
        {
          "output_type": "execute_result",
          "data": {
            "text/plain": [
              "EVENT_BASED      406432\n",
              "SEED_BASED         1511\n",
              "FILE_IMPORTED        47\n",
              "Name: data_source_type, dtype: int64"
            ]
          },
          "metadata": {
            "tags": []
          },
          "execution_count": 74
        }
      ]
    },
    {
      "cell_type": "code",
      "metadata": {
        "id": "-HC6Pmv_s4Gv",
        "outputId": "0355f048-a868-442f-c1c7-08c3816c3895"
      },
      "source": [
        "plt.figure(figsize=(15,5))\n",
        "sns.heatmap(year16.corr(),annot=True)"
      ],
      "execution_count": null,
      "outputs": [
        {
          "output_type": "execute_result",
          "data": {
            "text/plain": [
              "<matplotlib.axes._subplots.AxesSubplot at 0x7fd81c0e61d0>"
            ]
          },
          "metadata": {
            "tags": []
          },
          "execution_count": 75
        },
        {
          "output_type": "display_data",
          "data": {
            "image/png": "[encoded data removed]",
            "text/plain": [
              "<Figure size 1080x360 with 2 Axes>"
            ]
          },
          "metadata": {
            "tags": [],
            "needs_background": "light"
          }
        }
      ]
    }
  ]
}