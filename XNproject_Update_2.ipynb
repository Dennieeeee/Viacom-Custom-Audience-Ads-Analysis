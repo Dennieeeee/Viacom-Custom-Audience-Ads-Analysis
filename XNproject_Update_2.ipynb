{
  "nbformat": 4,
  "nbformat_minor": 0,
  "metadata": {
    "colab": {
      "name": "XNproject_Update 2.ipynb",
      "provenance": [],
      "include_colab_link": true
    },
    "kernelspec": {
      "display_name": "Python 3",
      "language": "python",
      "name": "python3"
    },
    "language_info": {
      "codemirror_mode": {
        "name": "ipython",
        "version": 3
      },
      "file_extension": ".py",
      "mimetype": "text/x-python",
      "name": "python",
      "nbconvert_exporter": "python",
      "pygments_lexer": "ipython3",
      "version": "3.8.3"
    }
  },
  "cells": [
    {
      "cell_type": "markdown",
      "metadata": {
        "id": "view-in-github",
        "colab_type": "text"
      },
      "source": [
        "<a href=\"https://colab.research.google.com/github/Dennieeeee/Viacom-Custom-Audience-Ads-Analysis/blob/main/XNproject_Update_2.ipynb\" target=\"_parent\"><img src=\"https://colab.research.google.com/assets/colab-badge.svg\" alt=\"Open In Colab\"/></a>"
      ]
    },
    {
      "cell_type": "code",
      "metadata": {
        "id": "04ALiWR3N1R_"
      },
      "source": [
        "import numpy as np\n",
        "import pandas as pd \n",
        "import sklearn as sk \n",
        "import seaborn as sns\n",
        "import matplotlib.pyplot as plt \n",
        "%matplotlib inline\n",
        "# model development\n",
        "from sklearn.linear_model import LinearRegression\n",
        "from sklearn.model_selection import train_test_split\n",
        "from sklearn.preprocessing import PolynomialFeatures\n",
        "from sklearn.metrics import r2_score,mean_squared_error\n",
        "from sklearn.ensemble import RandomForestRegressor\n",
        "from sklearn.model_selection import train_test_split\n",
        "from sklearn.linear_model import Ridge\n",
        "from sklearn.linear_model import Lasso\n",
        "# model evaluation\n",
        "from sklearn import metrics\n",
        "\n",
        "from scipy.stats import ttest_ind"
      ],
      "execution_count": 1,
      "outputs": []
    },
    {
      "cell_type": "markdown",
      "metadata": {
        "id": "r2Vfqw6AN1R_"
      },
      "source": [
        "# Data Cleaning and Trim Outliers"
      ]
    },
    {
      "cell_type": "code",
      "metadata": {
        "colab": {
          "base_uri": "https://localhost:8080/"
        },
        "id": "0vlBt5pmN1R_",
        "outputId": "b3924bc9-e832-470e-ec06-6ff6de6bb729"
      },
      "source": [
        "custom = pd.read_csv('custom_audience_ads.csv')\n",
        "lookalike = pd.read_csv('lookalike_data.csv')"
      ],
      "execution_count": 2,
      "outputs": [
        {
          "output_type": "stream",
          "text": [
            "/usr/local/lib/python3.6/dist-packages/IPython/core/interactiveshell.py:2718: DtypeWarning: Columns (7) have mixed types.Specify dtype option on import or set low_memory=False.\n",
            "  interactivity=interactivity, compiler=compiler, result=result)\n"
          ],
          "name": "stderr"
        }
      ]
    },
    {
      "cell_type": "code",
      "metadata": {
        "colab": {
          "base_uri": "https://localhost:8080/",
          "height": 168
        },
        "id": "FsWKEqG4N1SA",
        "outputId": "75f976cd-21ba-453d-a41f-9f4e854a62a2"
      },
      "source": [
        "custom.head(1)"
      ],
      "execution_count": 3,
      "outputs": [
        {
          "output_type": "execute_result",
          "data": {
            "text/html": [
              "<div>\n",
              "<style scoped>\n",
              "    .dataframe tbody tr th:only-of-type {\n",
              "        vertical-align: middle;\n",
              "    }\n",
              "\n",
              "    .dataframe tbody tr th {\n",
              "        vertical-align: top;\n",
              "    }\n",
              "\n",
              "    .dataframe thead th {\n",
              "        text-align: right;\n",
              "    }\n",
              "</style>\n",
              "<table border=\"1\" class=\"dataframe\">\n",
              "  <thead>\n",
              "    <tr style=\"text-align: right;\">\n",
              "      <th></th>\n",
              "      <th>account_id</th>\n",
              "      <th>approximate_count</th>\n",
              "      <th>custom_audience_id</th>\n",
              "      <th>name</th>\n",
              "      <th>retention_days</th>\n",
              "      <th>time_created</th>\n",
              "      <th>customer_file_source</th>\n",
              "      <th>description</th>\n",
              "      <th>is_value_based</th>\n",
              "      <th>data_source_type</th>\n",
              "      <th>data_source_sub_type</th>\n",
              "      <th>data_source_creation_params</th>\n",
              "      <th>ad_id</th>\n",
              "      <th>clicks</th>\n",
              "      <th>cpc</th>\n",
              "      <th>impressions</th>\n",
              "      <th>cpm</th>\n",
              "      <th>ctr</th>\n",
              "      <th>comments</th>\n",
              "      <th>video_views</th>\n",
              "      <th>post_reactions</th>\n",
              "    </tr>\n",
              "  </thead>\n",
              "  <tbody>\n",
              "    <tr>\n",
              "      <th>0</th>\n",
              "      <td>104657973074389</td>\n",
              "      <td>1000</td>\n",
              "      <td>6084391234802</td>\n",
              "      <td>Thermador: Retargeting Users who watched Amand...</td>\n",
              "      <td>365</td>\n",
              "      <td>2017-12-08 19:29:08</td>\n",
              "      <td>NOT_APPLICABLE</td>\n",
              "      <td>NaN</td>\n",
              "      <td>False</td>\n",
              "      <td>EVENT_BASED</td>\n",
              "      <td>ENGAGEMENT_EVENTS</td>\n",
              "      <td>{\"prefill\":\"true\"}</td>\n",
              "      <td>0</td>\n",
              "      <td>NaN</td>\n",
              "      <td>NaN</td>\n",
              "      <td>NaN</td>\n",
              "      <td>NaN</td>\n",
              "      <td>NaN</td>\n",
              "      <td>NaN</td>\n",
              "      <td>NaN</td>\n",
              "      <td>NaN</td>\n",
              "    </tr>\n",
              "  </tbody>\n",
              "</table>\n",
              "</div>"
            ],
            "text/plain": [
              "        account_id  approximate_count  ...  video_views post_reactions\n",
              "0  104657973074389               1000  ...          NaN            NaN\n",
              "\n",
              "[1 rows x 21 columns]"
            ]
          },
          "metadata": {
            "tags": []
          },
          "execution_count": 3
        }
      ]
    },
    {
      "cell_type": "code",
      "metadata": {
        "id": "no9DHX4TN1SA"
      },
      "source": [
        "custom['time_created'] = pd.to_datetime(custom['time_created'])"
      ],
      "execution_count": 4,
      "outputs": []
    },
    {
      "cell_type": "code",
      "metadata": {
        "id": "4_hx9j7CN1SA"
      },
      "source": [
        "custom['month'] = custom['time_created'].dt.month\n",
        "custom['year'] = custom['time_created'].dt.year\n",
        "custom['day'] = custom['time_created'].dt.day"
      ],
      "execution_count": 5,
      "outputs": []
    },
    {
      "cell_type": "code",
      "metadata": {
        "id": "rLAjR5hGCl1G"
      },
      "source": [
        "custom = custom.drop(columns =['description'])\n",
        "custom = custom.drop(columns =['comments'])"
      ],
      "execution_count": 6,
      "outputs": []
    },
    {
      "cell_type": "code",
      "metadata": {
        "id": "pcdxZNC9N1SA"
      },
      "source": [
        "custom_clean = custom.dropna() #remove missing value and empty columns"
      ],
      "execution_count": 7,
      "outputs": []
    },
    {
      "cell_type": "code",
      "metadata": {
        "id": "VcYF3jnqbh9B"
      },
      "source": [
        "#Trim outliers:\n",
        "starting_percentile = custom_clean['clicks'].quantile(.02)\n",
        "ending_percentile = custom_clean['clicks'].quantile(.98)\n",
        "price_outliers_df = custom_clean.loc[((custom_clean['clicks'] <= starting_percentile) | (custom_clean['clicks'] >= ending_percentile))]\n",
        "custom_clean = custom_clean.loc[((custom_clean['clicks'] > starting_percentile) & (custom_clean['clicks'] < ending_percentile))]"
      ],
      "execution_count": 8,
      "outputs": []
    },
    {
      "cell_type": "code",
      "metadata": {
        "colab": {
          "base_uri": "https://localhost:8080/"
        },
        "id": "TCLHhDOvN1SA",
        "outputId": "8bd4bfee-4290-450d-f658-cb1f0103e731"
      },
      "source": [
        "print('Shape of the original custom audience dataset: ',custom.shape)\n",
        "print('Shape of the cleaned custom audience dataset: ', custom_clean.shape)"
      ],
      "execution_count": 9,
      "outputs": [
        {
          "output_type": "stream",
          "text": [
            "Shape of the original custom audience dataset:  (885931, 22)\n",
            "Shape of the cleaned custom audience dataset:  (666504, 22)\n"
          ],
          "name": "stdout"
        }
      ]
    },
    {
      "cell_type": "markdown",
      "metadata": {
        "id": "u0MhoSYic75X"
      },
      "source": [
        "Lookalike"
      ]
    },
    {
      "cell_type": "code",
      "metadata": {
        "colab": {
          "base_uri": "https://localhost:8080/",
          "height": 80
        },
        "id": "hoaWGbp0cssQ",
        "outputId": "85294f05-59ed-4133-a382-473dfaeffe00"
      },
      "source": [
        "lookalike.head(1)"
      ],
      "execution_count": 10,
      "outputs": [
        {
          "output_type": "execute_result",
          "data": {
            "text/html": [
              "<div>\n",
              "<style scoped>\n",
              "    .dataframe tbody tr th:only-of-type {\n",
              "        vertical-align: middle;\n",
              "    }\n",
              "\n",
              "    .dataframe tbody tr th {\n",
              "        vertical-align: top;\n",
              "    }\n",
              "\n",
              "    .dataframe thead th {\n",
              "        text-align: right;\n",
              "    }\n",
              "</style>\n",
              "<table border=\"1\" class=\"dataframe\">\n",
              "  <thead>\n",
              "    <tr style=\"text-align: right;\">\n",
              "      <th></th>\n",
              "      <th>country</th>\n",
              "      <th>ratio</th>\n",
              "      <th>origin_id</th>\n",
              "      <th>origin_name</th>\n",
              "      <th>origin_type</th>\n",
              "    </tr>\n",
              "  </thead>\n",
              "  <tbody>\n",
              "    <tr>\n",
              "      <th>0</th>\n",
              "      <td>US</td>\n",
              "      <td>0.08</td>\n",
              "      <td>6071223636402</td>\n",
              "      <td>Everyone Who Engaged With MTV Page</td>\n",
              "      <td>custom_audience</td>\n",
              "    </tr>\n",
              "  </tbody>\n",
              "</table>\n",
              "</div>"
            ],
            "text/plain": [
              "  country  ratio  ...                         origin_name      origin_type\n",
              "0      US   0.08  ...  Everyone Who Engaged With MTV Page  custom_audience\n",
              "\n",
              "[1 rows x 5 columns]"
            ]
          },
          "metadata": {
            "tags": []
          },
          "execution_count": 10
        }
      ]
    },
    {
      "cell_type": "code",
      "metadata": {
        "colab": {
          "base_uri": "https://localhost:8080/"
        },
        "id": "7OpgAF3Wc-oB",
        "outputId": "885c3f09-feae-43f6-86ee-893d9353821c"
      },
      "source": [
        "lookalike.shape"
      ],
      "execution_count": 11,
      "outputs": [
        {
          "output_type": "execute_result",
          "data": {
            "text/plain": [
              "(1078, 5)"
            ]
          },
          "metadata": {
            "tags": []
          },
          "execution_count": 11
        }
      ]
    },
    {
      "cell_type": "code",
      "metadata": {
        "colab": {
          "base_uri": "https://localhost:8080/"
        },
        "id": "pUgaYWq7c9iI",
        "outputId": "7721f12b-b312-4a2f-f759-c689ab1e572c"
      },
      "source": [
        "# Remove duplicate from 1078 to 928 rows \n",
        "looklike_de = lookalike.drop_duplicates(subset='origin_id', keep='first', inplace=False, ignore_index=False)\n",
        "looklike_de.shape\n"
      ],
      "execution_count": 12,
      "outputs": [
        {
          "output_type": "execute_result",
          "data": {
            "text/plain": [
              "(928, 5)"
            ]
          },
          "metadata": {
            "tags": []
          },
          "execution_count": 12
        }
      ]
    },
    {
      "cell_type": "markdown",
      "metadata": {
        "id": "bU5YkG_SCYrQ"
      },
      "source": [
        "# Exploratory Data Analysis"
      ]
    },
    {
      "cell_type": "code",
      "metadata": {
        "colab": {
          "base_uri": "https://localhost:8080/",
          "height": 687
        },
        "id": "U4O2XWabCXry",
        "scrolled": false,
        "outputId": "e138661b-12e5-4f50-9453-17335cb47c81"
      },
      "source": [
        "#Generating correlation heatmap\n",
        "plt.figure(figsize=(12,10))\n",
        "cor = custom.corr()\n",
        "sns.heatmap(cor, annot=True, cmap=plt.cm.Reds)\n",
        "plt.show()"
      ],
      "execution_count": 13,
      "outputs": [
        {
          "output_type": "display_data",
          "data": {
            "image/png": "[encoded data removed]",
            "text/plain": [
              "<Figure size 864x720 with 2 Axes>"
            ]
          },
          "metadata": {
            "tags": [],
            "needs_background": "light"
          }
        }
      ]
    },
    {
      "cell_type": "markdown",
      "metadata": {
        "id": "yB0oIRs_yHpX"
      },
      "source": [
        "<strong>What's the average CTR daily?</strong>"
      ]
    },
    {
      "cell_type": "code",
      "metadata": {
        "id": "Gn3b9E3UyIUb"
      },
      "source": [
        "date_count = custom_clean.groupby(by='time_created').mean()\n",
        "average_ctr = date_count['ctr'].mean()\n",
        "points = len(date_count.index)"
      ],
      "execution_count": 14,
      "outputs": []
    },
    {
      "cell_type": "code",
      "metadata": {
        "colab": {
          "base_uri": "https://localhost:8080/",
          "height": 441
        },
        "id": "I1wxCjiByLXn",
        "outputId": "34873237-42c1-446b-9b5e-8637c587a462"
      },
      "source": [
        "plt.figure(figsize=(8,6))\n",
        "plt.plot(date_count.index, date_count['ctr'], c='black', label = 'ctr')\n",
        "plt.plot(date_count.index, np.linspace(average_ctr,average_ctr,points), c='r', label = 'Average CTR')\n",
        "plt.title('Average CTR Daily')\n",
        "plt.legend()\n",
        "plt.xlabel('Date')\n",
        "plt.ylabel('Number of Customers')\n",
        "plt.tight_layout()"
      ],
      "execution_count": 15,
      "outputs": [
        {
          "output_type": "display_data",
          "data": {
            "image/png": "[encoded data removed]",
            "text/plain": [
              "<Figure size 576x432 with 1 Axes>"
            ]
          },
          "metadata": {
            "tags": [],
            "needs_background": "light"
          }
        }
      ]
    },
    {
      "cell_type": "markdown",
      "metadata": {
        "id": "ATdmBnP7yHjF"
      },
      "source": [
        "<strong>What's the Average Impressions Daily?</strong>"
      ]
    },
    {
      "cell_type": "code",
      "metadata": {
        "id": "I5nT6Hv4yjSH"
      },
      "source": [
        "date_count = custom_clean.groupby(by='time_created').mean()\n",
        "average_impressions = date_count['impressions'].mean()\n",
        "points = len(date_count.index)"
      ],
      "execution_count": 16,
      "outputs": []
    },
    {
      "cell_type": "code",
      "metadata": {
        "colab": {
          "base_uri": "https://localhost:8080/",
          "height": 441
        },
        "id": "oX3qIC7IyjIs",
        "outputId": "6776ffa6-2ac7-45c5-ee61-740ece3bad4d"
      },
      "source": [
        "plt.figure(figsize=(8,6))\n",
        "plt.plot(date_count.index, date_count['impressions'], c='black', label = 'impressions')\n",
        "plt.plot(date_count.index, np.linspace(average_ctr,average_ctr,points), c='r', label = 'Average Impressions')\n",
        "plt.title('Average Impressions Daily')\n",
        "plt.legend()\n",
        "plt.xlabel('Date')\n",
        "plt.ylabel('Number of Customers')\n",
        "plt.tight_layout()"
      ],
      "execution_count": 17,
      "outputs": [
        {
          "output_type": "display_data",
          "data": {
            "image/png": "[encoded data removed]",
            "text/plain": [
              "<Figure size 576x432 with 1 Axes>"
            ]
          },
          "metadata": {
            "tags": [],
            "needs_background": "light"
          }
        }
      ]
    },
    {
      "cell_type": "markdown",
      "metadata": {
        "id": "nUkXeILsyHcf"
      },
      "source": [
        "<strong>What's the Average CPC Daily?</strong>"
      ]
    },
    {
      "cell_type": "code",
      "metadata": {
        "id": "DYF61VDgypCk"
      },
      "source": [
        "date_count = custom_clean.groupby(by='time_created').mean()\n",
        "average_cpc = date_count['cpc'].mean()\n",
        "points = len(date_count.index)"
      ],
      "execution_count": 18,
      "outputs": []
    },
    {
      "cell_type": "code",
      "metadata": {
        "colab": {
          "base_uri": "https://localhost:8080/",
          "height": 441
        },
        "id": "v3asZuSayo7W",
        "outputId": "dd4b8e15-9c31-4ae3-bcd7-76e7ba9f2bdb"
      },
      "source": [
        "plt.figure(figsize=(8,6))\n",
        "plt.plot(date_count.index, date_count['cpc'], c='black', label = 'cpc')\n",
        "plt.plot(date_count.index, np.linspace(average_ctr,average_ctr,points), c='r', label = 'Average CPC')\n",
        "plt.title('Average CPC Daily')\n",
        "plt.legend()\n",
        "plt.xlabel('Date')\n",
        "plt.ylabel('Number of Customers')\n",
        "plt.tight_layout()"
      ],
      "execution_count": 19,
      "outputs": [
        {
          "output_type": "display_data",
          "data": {
            "image/png": "[encoded data removed]",
            "text/plain": [
              "<Figure size 576x432 with 1 Axes>"
            ]
          },
          "metadata": {
            "tags": [],
            "needs_background": "light"
          }
        }
      ]
    },
    {
      "cell_type": "markdown",
      "metadata": {
        "id": "56n8NzYNyHVB"
      },
      "source": [
        "<strong>What's the Average CPM Daily?</strong>"
      ]
    },
    {
      "cell_type": "code",
      "metadata": {
        "id": "sZs9w81tyt6h"
      },
      "source": [
        "date_count = custom_clean.groupby(by='time_created').mean()\n",
        "average_cpm = date_count['cpm'].mean()\n",
        "points = len(date_count.index)"
      ],
      "execution_count": 20,
      "outputs": []
    },
    {
      "cell_type": "code",
      "metadata": {
        "colab": {
          "base_uri": "https://localhost:8080/",
          "height": 441
        },
        "id": "_lFgBA-DywZO",
        "outputId": "c53a668a-9543-40b0-ee15-ba9d52477978"
      },
      "source": [
        "plt.figure(figsize=(8,6))\n",
        "plt.plot(date_count.index, date_count['cpm'], c='black', label = 'cpm')\n",
        "plt.plot(date_count.index, np.linspace(average_ctr,average_ctr,points), c='r', label = 'Average CPM')\n",
        "plt.title('Average CPM Daily')\n",
        "plt.legend()\n",
        "plt.xlabel('Date')\n",
        "plt.ylabel('Number of Customers')\n",
        "plt.tight_layout()"
      ],
      "execution_count": 21,
      "outputs": [
        {
          "output_type": "display_data",
          "data": {
            "image/png": "[encoded data removed]",
            "text/plain": [
              "<Figure size 576x432 with 1 Axes>"
            ]
          },
          "metadata": {
            "tags": [],
            "needs_background": "light"
          }
        }
      ]
    },
    {
      "cell_type": "code",
      "metadata": {
        "colab": {
          "base_uri": "https://localhost:8080/",
          "height": 369
        },
        "id": "5hx0kbVw0RiS",
        "outputId": "d4cb9a04-21a2-4667-d765-6296540b0c8c"
      },
      "source": [
        "lookalike['origin_type'].value_counts().plot(kind='bar')"
      ],
      "execution_count": 22,
      "outputs": [
        {
          "output_type": "execute_result",
          "data": {
            "text/plain": [
              "<matplotlib.axes._subplots.AxesSubplot at 0x7f1460e0f9e8>"
            ]
          },
          "metadata": {
            "tags": []
          },
          "execution_count": 22
        },
        {
          "output_type": "display_data",
          "data": {
            "image/png": "[encoded data removed]",
            "text/plain": [
              "<Figure size 432x288 with 1 Axes>"
            ]
          },
          "metadata": {
            "tags": [],
            "needs_background": "light"
          }
        }
      ]
    },
    {
      "cell_type": "code",
      "metadata": {
        "colab": {
          "base_uri": "https://localhost:8080/",
          "height": 369
        },
        "id": "gdAnMLJS0TDd",
        "outputId": "52183085-1336-4a08-d360-a48f004c0fb9"
      },
      "source": [
        "lookalike['origin_type'].value_counts().plot(kind='bar')"
      ],
      "execution_count": 23,
      "outputs": [
        {
          "output_type": "execute_result",
          "data": {
            "text/plain": [
              "<matplotlib.axes._subplots.AxesSubplot at 0x7f1460d993c8>"
            ]
          },
          "metadata": {
            "tags": []
          },
          "execution_count": 23
        },
        {
          "output_type": "display_data",
          "data": {
            "image/png": "[encoded data removed]",
            "text/plain": [
              "<Figure size 432x288 with 1 Axes>"
            ]
          },
          "metadata": {
            "tags": [],
            "needs_background": "light"
          }
        }
      ]
    },
    {
      "cell_type": "markdown",
      "metadata": {
        "id": "V9oZe5e3l3Vb"
      },
      "source": [
        "P1. What are the attributes of custom audience that result in large reach?"
      ]
    },
    {
      "cell_type": "code",
      "metadata": {
        "colab": {
          "base_uri": "https://localhost:8080/",
          "height": 131
        },
        "id": "wxBq2V9MChDp",
        "outputId": "2ecc5c7e-acff-4fe8-fc0d-6a43ec26bf10"
      },
      "source": [
        "# find out all features result in large impression(correlation > 0.5) and low cpm(correlation <0)\n",
        "relevant_featuresP1 = cor[(cor[\"cpm\"]<0) & (cor['impressions'] > 0.5) & (cor['impressions'] < 1)]\n",
        "relevant_featuresP1\n"
      ],
      "execution_count": 24,
      "outputs": [
        {
          "output_type": "execute_result",
          "data": {
            "text/html": [
              "<div>\n",
              "<style scoped>\n",
              "    .dataframe tbody tr th:only-of-type {\n",
              "        vertical-align: middle;\n",
              "    }\n",
              "\n",
              "    .dataframe tbody tr th {\n",
              "        vertical-align: top;\n",
              "    }\n",
              "\n",
              "    .dataframe thead th {\n",
              "        text-align: right;\n",
              "    }\n",
              "</style>\n",
              "<table border=\"1\" class=\"dataframe\">\n",
              "  <thead>\n",
              "    <tr style=\"text-align: right;\">\n",
              "      <th></th>\n",
              "      <th>account_id</th>\n",
              "      <th>approximate_count</th>\n",
              "      <th>custom_audience_id</th>\n",
              "      <th>retention_days</th>\n",
              "      <th>is_value_based</th>\n",
              "      <th>ad_id</th>\n",
              "      <th>clicks</th>\n",
              "      <th>cpc</th>\n",
              "      <th>impressions</th>\n",
              "      <th>cpm</th>\n",
              "      <th>ctr</th>\n",
              "      <th>video_views</th>\n",
              "      <th>post_reactions</th>\n",
              "      <th>month</th>\n",
              "      <th>year</th>\n",
              "      <th>day</th>\n",
              "    </tr>\n",
              "  </thead>\n",
              "  <tbody>\n",
              "    <tr>\n",
              "      <th>clicks</th>\n",
              "      <td>-0.036840</td>\n",
              "      <td>-0.030613</td>\n",
              "      <td>-0.109770</td>\n",
              "      <td>-0.077803</td>\n",
              "      <td>NaN</td>\n",
              "      <td>-0.108044</td>\n",
              "      <td>1.000000</td>\n",
              "      <td>-0.042596</td>\n",
              "      <td>0.720548</td>\n",
              "      <td>-0.075547</td>\n",
              "      <td>0.220951</td>\n",
              "      <td>0.771451</td>\n",
              "      <td>0.248492</td>\n",
              "      <td>-0.005397</td>\n",
              "      <td>-0.117431</td>\n",
              "      <td>0.002325</td>\n",
              "    </tr>\n",
              "    <tr>\n",
              "      <th>video_views</th>\n",
              "      <td>-0.040758</td>\n",
              "      <td>-0.028772</td>\n",
              "      <td>-0.101308</td>\n",
              "      <td>-0.057745</td>\n",
              "      <td>NaN</td>\n",
              "      <td>-0.096005</td>\n",
              "      <td>0.771451</td>\n",
              "      <td>-0.009743</td>\n",
              "      <td>0.910128</td>\n",
              "      <td>-0.061703</td>\n",
              "      <td>0.072891</td>\n",
              "      <td>1.000000</td>\n",
              "      <td>0.316062</td>\n",
              "      <td>0.001056</td>\n",
              "      <td>-0.108916</td>\n",
              "      <td>0.004237</td>\n",
              "    </tr>\n",
              "  </tbody>\n",
              "</table>\n",
              "</div>"
            ],
            "text/plain": [
              "             account_id  approximate_count  ...      year       day\n",
              "clicks        -0.036840          -0.030613  ... -0.117431  0.002325\n",
              "video_views   -0.040758          -0.028772  ... -0.108916  0.004237\n",
              "\n",
              "[2 rows x 16 columns]"
            ]
          },
          "metadata": {
            "tags": []
          },
          "execution_count": 24
        }
      ]
    },
    {
      "cell_type": "code",
      "metadata": {
        "colab": {
          "base_uri": "https://localhost:8080/"
        },
        "id": "u-3FDPa2Kf5h",
        "outputId": "bb35f175-ec2c-4af3-c58b-4a63ecc64b03"
      },
      "source": [
        "#result table for P1\n",
        "p1 = print(relevant_featuresP1[[\"impressions\",'cpm']])"
      ],
      "execution_count": 25,
      "outputs": [
        {
          "output_type": "stream",
          "text": [
            "             impressions       cpm\n",
            "clicks          0.720548 -0.075547\n",
            "video_views     0.910128 -0.061703\n"
          ],
          "name": "stdout"
        }
      ]
    },
    {
      "cell_type": "markdown",
      "metadata": {
        "id": "m1fhgQk6KrWu"
      },
      "source": [
        "P2.What are the attributes of custom audience that result in high engagement?"
      ]
    },
    {
      "cell_type": "code",
      "metadata": {
        "colab": {
          "base_uri": "https://localhost:8080/",
          "height": 162
        },
        "id": "DaesOCRlKg6W",
        "scrolled": true,
        "outputId": "0afae165-22fb-4448-a6cd-6d97d3ff8e4e"
      },
      "source": [
        "# find out all features result in large clicks(correlation > 0) and low cpc(correlation <0)\n",
        "relevant_featuresP2 = cor[(cor[\"cpc\"]<0) & (cor['clicks'] > 0) & (cor['clicks'] < 1)]\n",
        "relevant_featuresP2"
      ],
      "execution_count": 26,
      "outputs": [
        {
          "output_type": "execute_result",
          "data": {
            "text/html": [
              "<div>\n",
              "<style scoped>\n",
              "    .dataframe tbody tr th:only-of-type {\n",
              "        vertical-align: middle;\n",
              "    }\n",
              "\n",
              "    .dataframe tbody tr th {\n",
              "        vertical-align: top;\n",
              "    }\n",
              "\n",
              "    .dataframe thead th {\n",
              "        text-align: right;\n",
              "    }\n",
              "</style>\n",
              "<table border=\"1\" class=\"dataframe\">\n",
              "  <thead>\n",
              "    <tr style=\"text-align: right;\">\n",
              "      <th></th>\n",
              "      <th>account_id</th>\n",
              "      <th>approximate_count</th>\n",
              "      <th>custom_audience_id</th>\n",
              "      <th>retention_days</th>\n",
              "      <th>is_value_based</th>\n",
              "      <th>ad_id</th>\n",
              "      <th>clicks</th>\n",
              "      <th>cpc</th>\n",
              "      <th>impressions</th>\n",
              "      <th>cpm</th>\n",
              "      <th>ctr</th>\n",
              "      <th>video_views</th>\n",
              "      <th>post_reactions</th>\n",
              "      <th>month</th>\n",
              "      <th>year</th>\n",
              "      <th>day</th>\n",
              "    </tr>\n",
              "  </thead>\n",
              "  <tbody>\n",
              "    <tr>\n",
              "      <th>ctr</th>\n",
              "      <td>-0.091720</td>\n",
              "      <td>-0.089301</td>\n",
              "      <td>-0.305780</td>\n",
              "      <td>-0.148353</td>\n",
              "      <td>NaN</td>\n",
              "      <td>-0.317070</td>\n",
              "      <td>0.220951</td>\n",
              "      <td>-0.161713</td>\n",
              "      <td>0.039922</td>\n",
              "      <td>-0.104878</td>\n",
              "      <td>1.000000</td>\n",
              "      <td>0.072891</td>\n",
              "      <td>0.016089</td>\n",
              "      <td>-0.009146</td>\n",
              "      <td>-0.304399</td>\n",
              "      <td>0.007893</td>\n",
              "    </tr>\n",
              "    <tr>\n",
              "      <th>video_views</th>\n",
              "      <td>-0.040758</td>\n",
              "      <td>-0.028772</td>\n",
              "      <td>-0.101308</td>\n",
              "      <td>-0.057745</td>\n",
              "      <td>NaN</td>\n",
              "      <td>-0.096005</td>\n",
              "      <td>0.771451</td>\n",
              "      <td>-0.009743</td>\n",
              "      <td>0.910128</td>\n",
              "      <td>-0.061703</td>\n",
              "      <td>0.072891</td>\n",
              "      <td>1.000000</td>\n",
              "      <td>0.316062</td>\n",
              "      <td>0.001056</td>\n",
              "      <td>-0.108916</td>\n",
              "      <td>0.004237</td>\n",
              "    </tr>\n",
              "    <tr>\n",
              "      <th>day</th>\n",
              "      <td>0.058281</td>\n",
              "      <td>-0.034614</td>\n",
              "      <td>-0.055274</td>\n",
              "      <td>0.039607</td>\n",
              "      <td>NaN</td>\n",
              "      <td>-0.039582</td>\n",
              "      <td>0.002325</td>\n",
              "      <td>-0.011002</td>\n",
              "      <td>0.008391</td>\n",
              "      <td>-0.029503</td>\n",
              "      <td>0.007893</td>\n",
              "      <td>0.004237</td>\n",
              "      <td>0.003819</td>\n",
              "      <td>-0.124627</td>\n",
              "      <td>0.008757</td>\n",
              "      <td>1.000000</td>\n",
              "    </tr>\n",
              "  </tbody>\n",
              "</table>\n",
              "</div>"
            ],
            "text/plain": [
              "             account_id  approximate_count  ...      year       day\n",
              "ctr           -0.091720          -0.089301  ... -0.304399  0.007893\n",
              "video_views   -0.040758          -0.028772  ... -0.108916  0.004237\n",
              "day            0.058281          -0.034614  ...  0.008757  1.000000\n",
              "\n",
              "[3 rows x 16 columns]"
            ]
          },
          "metadata": {
            "tags": []
          },
          "execution_count": 26
        }
      ]
    },
    {
      "cell_type": "code",
      "metadata": {
        "colab": {
          "base_uri": "https://localhost:8080/"
        },
        "id": "RTwFFlXfKn-O",
        "outputId": "3ba3b10a-6535-471d-eb7b-72936080e6b9"
      },
      "source": [
        "#result table for P2\n",
        "p2 = print(relevant_featuresP2[[\"clicks\",'cpc']])"
      ],
      "execution_count": 27,
      "outputs": [
        {
          "output_type": "stream",
          "text": [
            "               clicks       cpc\n",
            "ctr          0.220951 -0.161713\n",
            "video_views  0.771451 -0.009743\n",
            "day          0.002325 -0.011002\n"
          ],
          "name": "stdout"
        }
      ]
    },
    {
      "cell_type": "markdown",
      "metadata": {
        "id": "K5WXl5Z6l3Vc"
      },
      "source": [
        "P3. What are the attributes of custom audience that result in high efficiency for determined by CTR?"
      ]
    },
    {
      "cell_type": "code",
      "metadata": {
        "colab": {
          "base_uri": "https://localhost:8080/",
          "height": 131
        },
        "id": "03GQMqZNl3Vc",
        "outputId": "a0c69924-7bd2-4755-a2de-315d4f096b25"
      },
      "source": [
        "# find out all features result in high ctr(correlation > 0.05) and low cpc(correlation <0)\n",
        "relevant_featuresP3 = cor[(cor[\"cpc\"]<0) & (cor['ctr'] > 0.05) & (cor['ctr'] < 1)]\n",
        "relevant_featuresP3"
      ],
      "execution_count": 28,
      "outputs": [
        {
          "output_type": "execute_result",
          "data": {
            "text/html": [
              "<div>\n",
              "<style scoped>\n",
              "    .dataframe tbody tr th:only-of-type {\n",
              "        vertical-align: middle;\n",
              "    }\n",
              "\n",
              "    .dataframe tbody tr th {\n",
              "        vertical-align: top;\n",
              "    }\n",
              "\n",
              "    .dataframe thead th {\n",
              "        text-align: right;\n",
              "    }\n",
              "</style>\n",
              "<table border=\"1\" class=\"dataframe\">\n",
              "  <thead>\n",
              "    <tr style=\"text-align: right;\">\n",
              "      <th></th>\n",
              "      <th>account_id</th>\n",
              "      <th>approximate_count</th>\n",
              "      <th>custom_audience_id</th>\n",
              "      <th>retention_days</th>\n",
              "      <th>is_value_based</th>\n",
              "      <th>ad_id</th>\n",
              "      <th>clicks</th>\n",
              "      <th>cpc</th>\n",
              "      <th>impressions</th>\n",
              "      <th>cpm</th>\n",
              "      <th>ctr</th>\n",
              "      <th>video_views</th>\n",
              "      <th>post_reactions</th>\n",
              "      <th>month</th>\n",
              "      <th>year</th>\n",
              "      <th>day</th>\n",
              "    </tr>\n",
              "  </thead>\n",
              "  <tbody>\n",
              "    <tr>\n",
              "      <th>clicks</th>\n",
              "      <td>-0.036840</td>\n",
              "      <td>-0.030613</td>\n",
              "      <td>-0.109770</td>\n",
              "      <td>-0.077803</td>\n",
              "      <td>NaN</td>\n",
              "      <td>-0.108044</td>\n",
              "      <td>1.000000</td>\n",
              "      <td>-0.042596</td>\n",
              "      <td>0.720548</td>\n",
              "      <td>-0.075547</td>\n",
              "      <td>0.220951</td>\n",
              "      <td>0.771451</td>\n",
              "      <td>0.248492</td>\n",
              "      <td>-0.005397</td>\n",
              "      <td>-0.117431</td>\n",
              "      <td>0.002325</td>\n",
              "    </tr>\n",
              "    <tr>\n",
              "      <th>video_views</th>\n",
              "      <td>-0.040758</td>\n",
              "      <td>-0.028772</td>\n",
              "      <td>-0.101308</td>\n",
              "      <td>-0.057745</td>\n",
              "      <td>NaN</td>\n",
              "      <td>-0.096005</td>\n",
              "      <td>0.771451</td>\n",
              "      <td>-0.009743</td>\n",
              "      <td>0.910128</td>\n",
              "      <td>-0.061703</td>\n",
              "      <td>0.072891</td>\n",
              "      <td>1.000000</td>\n",
              "      <td>0.316062</td>\n",
              "      <td>0.001056</td>\n",
              "      <td>-0.108916</td>\n",
              "      <td>0.004237</td>\n",
              "    </tr>\n",
              "  </tbody>\n",
              "</table>\n",
              "</div>"
            ],
            "text/plain": [
              "             account_id  approximate_count  ...      year       day\n",
              "clicks        -0.036840          -0.030613  ... -0.117431  0.002325\n",
              "video_views   -0.040758          -0.028772  ... -0.108916  0.004237\n",
              "\n",
              "[2 rows x 16 columns]"
            ]
          },
          "metadata": {
            "tags": []
          },
          "execution_count": 28
        }
      ]
    },
    {
      "cell_type": "code",
      "metadata": {
        "colab": {
          "base_uri": "https://localhost:8080/"
        },
        "id": "YUWBETAkl3Vc",
        "outputId": "7675d2c0-39ba-4623-9e00-451c24a841a2"
      },
      "source": [
        "# table for the result of P3\n",
        "P3 = print(relevant_featuresP3[[\"ctr\",'cpc']])"
      ],
      "execution_count": 29,
      "outputs": [
        {
          "output_type": "stream",
          "text": [
            "                  ctr       cpc\n",
            "clicks       0.220951 -0.042596\n",
            "video_views  0.072891 -0.009743\n"
          ],
          "name": "stdout"
        }
      ]
    },
    {
      "cell_type": "markdown",
      "metadata": {
        "id": "85EUl9fmN1SA"
      },
      "source": [
        "## Model Development - Linear Regression"
      ]
    },
    {
      "cell_type": "code",
      "metadata": {
        "id": "2dkftbPSN1SB"
      },
      "source": [
        "X = custom_clean[['approximate_count', 'retention_days','cpc', 'impressions',\n",
        "                  'clicks', 'ctr', 'video_views', 'post_reactions','month','day','year']]\n",
        "y = custom_clean['cpm']"
      ],
      "execution_count": 30,
      "outputs": []
    },
    {
      "cell_type": "code",
      "metadata": {
        "id": "BGssNQNoN1SB"
      },
      "source": [
        "X_train, X_test, y_train, y_test = train_test_split(X, y, test_size=0.4, random_state=101)"
      ],
      "execution_count": 31,
      "outputs": []
    },
    {
      "cell_type": "code",
      "metadata": {
        "id": "Gddhj349N1SB"
      },
      "source": [
        "lm = LinearRegression()"
      ],
      "execution_count": 32,
      "outputs": []
    },
    {
      "cell_type": "code",
      "metadata": {
        "colab": {
          "base_uri": "https://localhost:8080/"
        },
        "id": "YOsWPNBnN1SB",
        "outputId": "3aaaa61b-668d-48c8-b5c0-761973b7c3d3"
      },
      "source": [
        "lm.fit(X_train,y_train)"
      ],
      "execution_count": 33,
      "outputs": [
        {
          "output_type": "execute_result",
          "data": {
            "text/plain": [
              "LinearRegression(copy_X=True, fit_intercept=True, n_jobs=None, normalize=False)"
            ]
          },
          "metadata": {
            "tags": []
          },
          "execution_count": 33
        }
      ]
    },
    {
      "cell_type": "markdown",
      "metadata": {
        "id": "WaRUZxF-N1SB"
      },
      "source": [
        "## Model Evaluation - Linear Regression"
      ]
    },
    {
      "cell_type": "code",
      "metadata": {
        "colab": {
          "base_uri": "https://localhost:8080/"
        },
        "id": "BIV97CwMN1SB",
        "outputId": "f891f79b-b55a-4a7e-aa47-76df3f6e849a"
      },
      "source": [
        "# print the intercept\n",
        "print(lm.intercept_)"
      ],
      "execution_count": 34,
      "outputs": [
        {
          "output_type": "stream",
          "text": [
            "-1885.7322371696202\n"
          ],
          "name": "stdout"
        }
      ]
    },
    {
      "cell_type": "code",
      "metadata": {
        "colab": {
          "base_uri": "https://localhost:8080/",
          "height": 0
        },
        "id": "7MeO3rhcN1SB",
        "outputId": "6cdf77f1-6ac4-49bd-a8c4-af566f44729d"
      },
      "source": [
        "coeff_df = pd.DataFrame(lm.coef_,X.columns,columns=['Coefficient'])\n",
        "coeff_df"
      ],
      "execution_count": 35,
      "outputs": [
        {
          "output_type": "execute_result",
          "data": {
            "text/html": [
              "<div>\n",
              "<style scoped>\n",
              "    .dataframe tbody tr th:only-of-type {\n",
              "        vertical-align: middle;\n",
              "    }\n",
              "\n",
              "    .dataframe tbody tr th {\n",
              "        vertical-align: top;\n",
              "    }\n",
              "\n",
              "    .dataframe thead th {\n",
              "        text-align: right;\n",
              "    }\n",
              "</style>\n",
              "<table border=\"1\" class=\"dataframe\">\n",
              "  <thead>\n",
              "    <tr style=\"text-align: right;\">\n",
              "      <th></th>\n",
              "      <th>Coefficient</th>\n",
              "    </tr>\n",
              "  </thead>\n",
              "  <tbody>\n",
              "    <tr>\n",
              "      <th>approximate_count</th>\n",
              "      <td>-1.304745e-08</td>\n",
              "    </tr>\n",
              "    <tr>\n",
              "      <th>retention_days</th>\n",
              "      <td>-1.146995e-03</td>\n",
              "    </tr>\n",
              "    <tr>\n",
              "      <th>cpc</th>\n",
              "      <td>4.813306e-01</td>\n",
              "    </tr>\n",
              "    <tr>\n",
              "      <th>impressions</th>\n",
              "      <td>3.775578e-08</td>\n",
              "    </tr>\n",
              "    <tr>\n",
              "      <th>clicks</th>\n",
              "      <td>-1.591115e-04</td>\n",
              "    </tr>\n",
              "    <tr>\n",
              "      <th>ctr</th>\n",
              "      <td>3.305994e+00</td>\n",
              "    </tr>\n",
              "    <tr>\n",
              "      <th>video_views</th>\n",
              "      <td>-1.712018e-06</td>\n",
              "    </tr>\n",
              "    <tr>\n",
              "      <th>post_reactions</th>\n",
              "      <td>8.906804e-05</td>\n",
              "    </tr>\n",
              "    <tr>\n",
              "      <th>month</th>\n",
              "      <td>7.519293e-02</td>\n",
              "    </tr>\n",
              "    <tr>\n",
              "      <th>day</th>\n",
              "      <td>-1.186791e-02</td>\n",
              "    </tr>\n",
              "    <tr>\n",
              "      <th>year</th>\n",
              "      <td>9.364960e-01</td>\n",
              "    </tr>\n",
              "  </tbody>\n",
              "</table>\n",
              "</div>"
            ],
            "text/plain": [
              "                    Coefficient\n",
              "approximate_count -1.304745e-08\n",
              "retention_days    -1.146995e-03\n",
              "cpc                4.813306e-01\n",
              "impressions        3.775578e-08\n",
              "clicks            -1.591115e-04\n",
              "ctr                3.305994e+00\n",
              "video_views       -1.712018e-06\n",
              "post_reactions     8.906804e-05\n",
              "month              7.519293e-02\n",
              "day               -1.186791e-02\n",
              "year               9.364960e-01"
            ]
          },
          "metadata": {
            "tags": []
          },
          "execution_count": 35
        }
      ]
    },
    {
      "cell_type": "code",
      "metadata": {
        "id": "FTehtxA4QQrH"
      },
      "source": [
        "predictions = lm.predict(X_test)"
      ],
      "execution_count": 36,
      "outputs": []
    },
    {
      "cell_type": "code",
      "metadata": {
        "colab": {
          "base_uri": "https://localhost:8080/"
        },
        "id": "Myd8nr4DN1SB",
        "outputId": "67f4f5da-6478-4505-eee9-1f6d9aa00e33"
      },
      "source": [
        "print('MAE:', metrics.mean_absolute_error(y_test, predictions))\n",
        "print('MSE:', metrics.mean_squared_error(y_test, predictions))\n",
        "print('RMSE:', np.sqrt(metrics.mean_squared_error(y_test, predictions)))"
      ],
      "execution_count": 37,
      "outputs": [
        {
          "output_type": "stream",
          "text": [
            "MAE: 1.8972842082720554\n",
            "MSE: 17.246899831865758\n",
            "RMSE: 4.1529386983033785\n"
          ],
          "name": "stdout"
        }
      ]
    },
    {
      "cell_type": "markdown",
      "metadata": {
        "id": "716_2pJll3Vd"
      },
      "source": [
        "## Model Development and Evaluation- Ridge Regression"
      ]
    },
    {
      "cell_type": "code",
      "metadata": {
        "id": "SHBPDGGBl3Vd"
      },
      "source": [
        "X = custom_clean[['approximate_count', 'retention_days','cpc', 'impressions',\n",
        "                  'clicks', 'ctr', 'video_views', 'post_reactions','month','day','year']]\n",
        "y = custom_clean['cpm']"
      ],
      "execution_count": 38,
      "outputs": []
    },
    {
      "cell_type": "code",
      "metadata": {
        "id": "3aeeEtQul3Vd"
      },
      "source": [
        "X_train, X_test, y_train, y_test = train_test_split(X, y, test_size=0.4, random_state=101)"
      ],
      "execution_count": 39,
      "outputs": []
    },
    {
      "cell_type": "code",
      "metadata": {
        "scrolled": true,
        "colab": {
          "base_uri": "https://localhost:8080/"
        },
        "id": "D7r1CGb0l3Vd",
        "outputId": "7746f730-62f7-480e-c131-86e1e9137ce6"
      },
      "source": [
        "# Train the model and evaluation on the train data\n",
        "model = Ridge(alpha=1.0)\n",
        "model.fit(X_train, y_train)\n",
        "pred_train_model= model.predict(X_train)\n",
        "print('MAE:', metrics.mean_absolute_error(y_train, pred_train_model))\n",
        "print('MSE:', metrics.mean_squared_error(y_train, pred_train_model))\n",
        "print('RMSE:', np.sqrt(metrics.mean_squared_error(y_train, pred_train_model)))"
      ],
      "execution_count": 40,
      "outputs": [
        {
          "output_type": "stream",
          "text": [
            "MAE: 1.8945247317382214\n",
            "MSE: 17.238299767276487\n",
            "RMSE: 4.151903150035714\n"
          ],
          "name": "stdout"
        },
        {
          "output_type": "stream",
          "text": [
            "/usr/local/lib/python3.6/dist-packages/sklearn/linear_model/_ridge.py:148: LinAlgWarning: Ill-conditioned matrix (rcond=1.04251e-17): result may not be accurate.\n",
            "  overwrite_a=True).T\n"
          ],
          "name": "stderr"
        }
      ]
    },
    {
      "cell_type": "code",
      "metadata": {
        "colab": {
          "base_uri": "https://localhost:8080/"
        },
        "id": "7DSRMlWwl3Vd",
        "outputId": "29cece35-1b99-4b54-f08e-de85cffdc4c2"
      },
      "source": [
        "# Evaluation on the test data\n",
        "pred_test_model= model.predict(X_test)\n",
        "print('MAE:', metrics.mean_absolute_error(y_test, pred_test_model))\n",
        "print('MSE:', metrics.mean_squared_error(y_test, pred_test_model))\n",
        "print('RMSE:', np.sqrt(metrics.mean_squared_error(y_test, pred_test_model)))"
      ],
      "execution_count": 41,
      "outputs": [
        {
          "output_type": "stream",
          "text": [
            "MAE: 1.8972793344804144\n",
            "MSE: 17.246906696107747\n",
            "RMSE: 4.15293952473519\n"
          ],
          "name": "stdout"
        }
      ]
    },
    {
      "cell_type": "markdown",
      "metadata": {
        "id": "9yfjNA6al3Vd"
      },
      "source": [
        "## Model Development and Evaluation- LASSO Regression"
      ]
    },
    {
      "cell_type": "code",
      "metadata": {
        "id": "Qze03yjDl3Vd"
      },
      "source": [
        "X = custom_clean[['approximate_count', 'retention_days','cpc', 'impressions',\n",
        "                  'clicks', 'ctr', 'video_views', 'post_reactions','month','day','year']]\n",
        "y = custom_clean['cpm']"
      ],
      "execution_count": 42,
      "outputs": []
    },
    {
      "cell_type": "code",
      "metadata": {
        "id": "__melRtHl3Vd"
      },
      "source": [
        "_train, X_test, y_train, y_test = train_test_split(X, y, test_size=0.4, random_state=101)"
      ],
      "execution_count": 43,
      "outputs": []
    },
    {
      "cell_type": "code",
      "metadata": {
        "scrolled": true,
        "colab": {
          "base_uri": "https://localhost:8080/"
        },
        "id": "YlKHQ5Stl3Vd",
        "outputId": "ec658af8-b92e-489d-fe0d-01549e99384e"
      },
      "source": [
        "# Using Lasso to train the model and evaluation on the train data\n",
        "model1 = Lasso(alpha=1.0)\n",
        "model1.fit(X_train, y_train)\n",
        "pred_train_model1= model1.predict(X_train)\n",
        "print('MAE:', metrics.mean_absolute_error(y_train, pred_train_model1))\n",
        "print('MSE:', metrics.mean_squared_error(y_train, pred_train_model1))\n",
        "print('RMSE:', np.sqrt(metrics.mean_squared_error(y_train, pred_train_model1)))"
      ],
      "execution_count": 44,
      "outputs": [
        {
          "output_type": "stream",
          "text": [
            "MAE: 2.090256787677263\n",
            "MSE: 18.280958395681306\n",
            "RMSE: 4.275623743464958\n"
          ],
          "name": "stdout"
        }
      ]
    },
    {
      "cell_type": "code",
      "metadata": {
        "colab": {
          "base_uri": "https://localhost:8080/"
        },
        "id": "ltMEU04pl3Vd",
        "outputId": "2096ae06-74d8-45d3-ee7e-1e60678afcee"
      },
      "source": [
        "# Evaluation on the test data\n",
        "pred_test_model1= model1.predict(X_test)\n",
        "print('MAE:', metrics.mean_absolute_error(y_test, pred_test_model1))\n",
        "print('MSE:', metrics.mean_squared_error(y_test, pred_test_model1))\n",
        "print('RMSE:', np.sqrt(metrics.mean_squared_error(y_test, pred_test_model1)))"
      ],
      "execution_count": 45,
      "outputs": [
        {
          "output_type": "stream",
          "text": [
            "MAE: 2.0955303391157862\n",
            "MSE: 18.365172006950118\n",
            "RMSE: 4.285460536155959\n"
          ],
          "name": "stdout"
        }
      ]
    },
    {
      "cell_type": "markdown",
      "metadata": {
        "id": "7mnUvzb9b8i6"
      },
      "source": [
        "# p5.What is the difference between lookalike audiences and other audiences?"
      ]
    },
    {
      "cell_type": "code",
      "metadata": {
        "colab": {
          "base_uri": "https://localhost:8080/",
          "height": 202
        },
        "id": "sOkgPhmml3Ve",
        "outputId": "a6a9c29e-0040-474e-90ff-7ce89e35ec0d"
      },
      "source": [
        "#remove rows contins null valu in cpc and cpm\n",
        "custom_clean = custom.dropna(axis=0, how='any', thresh=None, subset=['cpc','cpm'], inplace=False)\n",
        "custom_clean.shape\n",
        "custom_clean.head(1)"
      ],
      "execution_count": 46,
      "outputs": [
        {
          "output_type": "execute_result",
          "data": {
            "text/html": [
              "<div>\n",
              "<style scoped>\n",
              "    .dataframe tbody tr th:only-of-type {\n",
              "        vertical-align: middle;\n",
              "    }\n",
              "\n",
              "    .dataframe tbody tr th {\n",
              "        vertical-align: top;\n",
              "    }\n",
              "\n",
              "    .dataframe thead th {\n",
              "        text-align: right;\n",
              "    }\n",
              "</style>\n",
              "<table border=\"1\" class=\"dataframe\">\n",
              "  <thead>\n",
              "    <tr style=\"text-align: right;\">\n",
              "      <th></th>\n",
              "      <th>account_id</th>\n",
              "      <th>approximate_count</th>\n",
              "      <th>custom_audience_id</th>\n",
              "      <th>name</th>\n",
              "      <th>retention_days</th>\n",
              "      <th>time_created</th>\n",
              "      <th>customer_file_source</th>\n",
              "      <th>is_value_based</th>\n",
              "      <th>data_source_type</th>\n",
              "      <th>data_source_sub_type</th>\n",
              "      <th>data_source_creation_params</th>\n",
              "      <th>ad_id</th>\n",
              "      <th>clicks</th>\n",
              "      <th>cpc</th>\n",
              "      <th>impressions</th>\n",
              "      <th>cpm</th>\n",
              "      <th>ctr</th>\n",
              "      <th>video_views</th>\n",
              "      <th>post_reactions</th>\n",
              "      <th>month</th>\n",
              "      <th>year</th>\n",
              "      <th>day</th>\n",
              "    </tr>\n",
              "  </thead>\n",
              "  <tbody>\n",
              "    <tr>\n",
              "      <th>2</th>\n",
              "      <td>104657973074389</td>\n",
              "      <td>15000</td>\n",
              "      <td>6083223001402</td>\n",
              "      <td>People who watched at least 3 second of Panten...</td>\n",
              "      <td>365</td>\n",
              "      <td>2017-11-17 17:01:42</td>\n",
              "      <td>NOT_APPLICABLE</td>\n",
              "      <td>False</td>\n",
              "      <td>EVENT_BASED</td>\n",
              "      <td>ENGAGEMENT_EVENTS</td>\n",
              "      <td>{\"prefill\":\"true\"}</td>\n",
              "      <td>23842681867540388</td>\n",
              "      <td>2.0</td>\n",
              "      <td>0.145</td>\n",
              "      <td>104.0</td>\n",
              "      <td>2.788462</td>\n",
              "      <td>0.0192</td>\n",
              "      <td>23.0</td>\n",
              "      <td>0.0</td>\n",
              "      <td>11</td>\n",
              "      <td>2017</td>\n",
              "      <td>17</td>\n",
              "    </tr>\n",
              "  </tbody>\n",
              "</table>\n",
              "</div>"
            ],
            "text/plain": [
              "        account_id  approximate_count  custom_audience_id  ... month  year day\n",
              "2  104657973074389              15000       6083223001402  ...    11  2017  17\n",
              "\n",
              "[1 rows x 22 columns]"
            ]
          },
          "metadata": {
            "tags": []
          },
          "execution_count": 46
        }
      ]
    },
    {
      "cell_type": "code",
      "metadata": {
        "colab": {
          "base_uri": "https://localhost:8080/"
        },
        "id": "Vccob0O5l3Ve",
        "outputId": "f11d92d6-a18a-4022-94f8-26e1f66dcd43"
      },
      "source": [
        "# Remove from 885931 to 710404 \n",
        "custom_de = custom_clean.drop_duplicates(subset=['custom_audience_id','cpc','cpm'], keep='first', inplace=False, ignore_index=False)\n",
        "custom_de.shape\n"
      ],
      "execution_count": 47,
      "outputs": [
        {
          "output_type": "execute_result",
          "data": {
            "text/plain": [
              "(710404, 22)"
            ]
          },
          "metadata": {
            "tags": []
          },
          "execution_count": 47
        }
      ]
    },
    {
      "cell_type": "code",
      "metadata": {
        "colab": {
          "base_uri": "https://localhost:8080/"
        },
        "id": "yUntxmLbl3Ve",
        "outputId": "d9a35422-a963-4831-d893-d1190d6340f5"
      },
      "source": [
        "# use custom datasets to left join lookalike datasets\n",
        "custom_looklike = custom_de.merge(looklike_de, how='left',left_on='custom_audience_id', right_on='origin_id')\n",
        "custom_looklike.shape"
      ],
      "execution_count": 48,
      "outputs": [
        {
          "output_type": "execute_result",
          "data": {
            "text/plain": [
              "(710404, 27)"
            ]
          },
          "metadata": {
            "tags": []
          },
          "execution_count": 48
        }
      ]
    },
    {
      "cell_type": "code",
      "metadata": {
        "colab": {
          "base_uri": "https://localhost:8080/"
        },
        "id": "zVbwL-N3l3Ve",
        "outputId": "cc132d34-c791-4039-da19-afa641e03b2d"
      },
      "source": [
        "#split Lookalike datasets and other audience\n",
        "other_audience = custom_looklike[pd.isnull(custom_looklike['origin_id'])]\n",
        "print(other_audience.shape)\n",
        "lookalike_audience = custom_looklike[pd.notnull(custom_looklike['origin_id'])]\n",
        "print(lookalike_audience.shape)"
      ],
      "execution_count": 49,
      "outputs": [
        {
          "output_type": "stream",
          "text": [
            "(666191, 27)\n",
            "(44213, 27)\n"
          ],
          "name": "stdout"
        }
      ]
    },
    {
      "cell_type": "code",
      "metadata": {
        "scrolled": true,
        "colab": {
          "base_uri": "https://localhost:8080/"
        },
        "id": "Jq2mO0Y3l3Ve",
        "outputId": "63a02353-6d2e-47bb-d37a-caa6f5b4b606"
      },
      "source": [
        "#compare mean and variances between lookalike and other audiences in CPC\n",
        "print(lookalike_audience['cpc'].mean())\n",
        "print(other_audience['cpc'].mean())\n",
        "\n",
        "print(lookalike_audience['cpc'].var())\n",
        "print(other_audience['cpc'].var())\n",
        "\n",
        "\n"
      ],
      "execution_count": 50,
      "outputs": [
        {
          "output_type": "stream",
          "text": [
            "0.9573080878481104\n",
            "0.3492242430471394\n",
            "2.688180701155537\n",
            "4.738458953670441\n"
          ],
          "name": "stdout"
        }
      ]
    },
    {
      "cell_type": "code",
      "metadata": {
        "colab": {
          "base_uri": "https://localhost:8080/"
        },
        "id": "VmTRuELbl3Ve",
        "outputId": "d79f6b22-953c-41ea-b5c4-74de8c1a40ae"
      },
      "source": [
        "#compare statistic and p-value betwee lookalike and other audiences in CPC\n",
        "ttest_ind(lookalike_audience['cpc'],other_audience['cpc'])"
      ],
      "execution_count": 51,
      "outputs": [
        {
          "output_type": "execute_result",
          "data": {
            "text/plain": [
              "Ttest_indResult(statistic=57.66259650317478, pvalue=0.0)"
            ]
          },
          "metadata": {
            "tags": []
          },
          "execution_count": 51
        }
      ]
    },
    {
      "cell_type": "code",
      "metadata": {
        "colab": {
          "base_uri": "https://localhost:8080/"
        },
        "id": "zNVQgTjWl3Ve",
        "outputId": "2e839c1c-9d3e-47df-ec85-2a1e2f911f1c"
      },
      "source": [
        "#compare mean and variances between lookalike and other audiences in CPM\n",
        "print(lookalike_audience['cpm'].mean())\n",
        "print(other_audience['cpm'].mean())\n",
        "\n",
        "print(lookalike_audience['cpm'].var())\n",
        "print(other_audience['cpm'].var())"
      ],
      "execution_count": 52,
      "outputs": [
        {
          "output_type": "stream",
          "text": [
            "5.4987975604702495\n",
            "2.6059399854513363\n",
            "29.25012543329031\n",
            "20.627400022128892\n"
          ],
          "name": "stdout"
        }
      ]
    },
    {
      "cell_type": "code",
      "metadata": {
        "colab": {
          "base_uri": "https://localhost:8080/"
        },
        "id": "3Dm4uRE4l3Ve",
        "outputId": "fe1034e2-091b-4c40-e070-ce24d8ce31ea"
      },
      "source": [
        "#compare statistic and p-value betwee lookalike and other audiences in CPM\n",
        "ttest_ind(lookalike_audience['cpm'],other_audience['cpm'])"
      ],
      "execution_count": 53,
      "outputs": [
        {
          "output_type": "execute_result",
          "data": {
            "text/plain": [
              "Ttest_indResult(statistic=128.04112187579761, pvalue=0.0)"
            ]
          },
          "metadata": {
            "tags": []
          },
          "execution_count": 53
        }
      ]
    }
  ]
}