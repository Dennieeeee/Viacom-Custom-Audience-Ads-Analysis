{
 "cells": [
  {
   "cell_type": "code",
   "execution_count": 1,
   "metadata": {
    "id": "04ALiWR3N1R_"
   },
   "outputs": [
    {
     "name": "stderr",
     "output_type": "stream",
     "text": [
      "/opt/anaconda3/lib/python3.7/site-packages/statsmodels/tools/_testing.py:19: FutureWarning: pandas.util.testing is deprecated. Use the functions in the public API at pandas.testing instead.\n",
      "  import pandas.util.testing as tm\n"
     ]
    }
   ],
   "source": [
    "import numpy as np\n",
    "import pandas as pd \n",
    "import sklearn as sk \n",
    "import seaborn as sns\n",
    "import matplotlib.pyplot as plt \n",
    "%matplotlib inline\n",
    "# model development\n",
    "from sklearn.linear_model import LinearRegression\n",
    "from sklearn.model_selection import train_test_split\n",
    "from sklearn.preprocessing import PolynomialFeatures\n",
    "from sklearn.metrics import r2_score,mean_squared_error\n",
    "from sklearn.ensemble import RandomForestRegressor\n",
    "from sklearn.model_selection import train_test_split\n",
    "from sklearn.linear_model import Ridge\n",
    "from sklearn.linear_model import Lasso\n",
    "# model evaluation\n",
    "from sklearn import metrics\n",
    "\n",
    "from scipy.stats import ttest_ind"
   ]
  },
  {
   "cell_type": "markdown",
   "metadata": {
    "id": "r2Vfqw6AN1R_"
   },
   "source": [
    "# Data Cleaning and Trim Outliers"
   ]
  },
  {
   "cell_type": "code",
   "execution_count": 2,
   "metadata": {
    "colab": {
     "base_uri": "https://localhost:8080/"
    },
    "id": "0vlBt5pmN1R_",
    "outputId": "b3924bc9-e832-470e-ec06-6ff6de6bb729"
   },
   "outputs": [
    {
     "name": "stderr",
     "output_type": "stream",
     "text": [
      "/opt/anaconda3/lib/python3.7/site-packages/IPython/core/interactiveshell.py:3058: DtypeWarning: Columns (7) have mixed types.Specify dtype option on import or set low_memory=False.\n",
      "  interactivity=interactivity, compiler=compiler, result=result)\n"
     ]
    }
   ],
   "source": [
    "custom = pd.read_csv('custom_audience_ads.csv')\n",
    "lookalike = pd.read_csv('lookalike_data.csv')"
   ]
  },
  {
   "cell_type": "code",
   "execution_count": 3,
   "metadata": {
    "colab": {
     "base_uri": "https://localhost:8080/",
     "height": 168
    },
    "id": "FsWKEqG4N1SA",
    "outputId": "75f976cd-21ba-453d-a41f-9f4e854a62a2"
   },
   "outputs": [
    {
     "data": {
      "text/html": [
       "<div>\n",
       "<style scoped>\n",
       "    .dataframe tbody tr th:only-of-type {\n",
       "        vertical-align: middle;\n",
       "    }\n",
       "\n",
       "    .dataframe tbody tr th {\n",
       "        vertical-align: top;\n",
       "    }\n",
       "\n",
       "    .dataframe thead th {\n",
       "        text-align: right;\n",
       "    }\n",
       "</style>\n",
       "<table border=\"1\" class=\"dataframe\">\n",
       "  <thead>\n",
       "    <tr style=\"text-align: right;\">\n",
       "      <th></th>\n",
       "      <th>account_id</th>\n",
       "      <th>approximate_count</th>\n",
       "      <th>custom_audience_id</th>\n",
       "      <th>name</th>\n",
       "      <th>retention_days</th>\n",
       "      <th>time_created</th>\n",
       "      <th>customer_file_source</th>\n",
       "      <th>description</th>\n",
       "      <th>is_value_based</th>\n",
       "      <th>data_source_type</th>\n",
       "      <th>...</th>\n",
       "      <th>data_source_creation_params</th>\n",
       "      <th>ad_id</th>\n",
       "      <th>clicks</th>\n",
       "      <th>cpc</th>\n",
       "      <th>impressions</th>\n",
       "      <th>cpm</th>\n",
       "      <th>ctr</th>\n",
       "      <th>comments</th>\n",
       "      <th>video_views</th>\n",
       "      <th>post_reactions</th>\n",
       "    </tr>\n",
       "  </thead>\n",
       "  <tbody>\n",
       "    <tr>\n",
       "      <th>0</th>\n",
       "      <td>104657973074389</td>\n",
       "      <td>1000</td>\n",
       "      <td>6084391234802</td>\n",
       "      <td>Thermador: Retargeting Users who watched Amand...</td>\n",
       "      <td>365</td>\n",
       "      <td>2017-12-08 19:29:08</td>\n",
       "      <td>NOT_APPLICABLE</td>\n",
       "      <td>NaN</td>\n",
       "      <td>False</td>\n",
       "      <td>EVENT_BASED</td>\n",
       "      <td>...</td>\n",
       "      <td>{\"prefill\":\"true\"}</td>\n",
       "      <td>0</td>\n",
       "      <td>NaN</td>\n",
       "      <td>NaN</td>\n",
       "      <td>NaN</td>\n",
       "      <td>NaN</td>\n",
       "      <td>NaN</td>\n",
       "      <td>NaN</td>\n",
       "      <td>NaN</td>\n",
       "      <td>NaN</td>\n",
       "    </tr>\n",
       "  </tbody>\n",
       "</table>\n",
       "<p>1 rows × 21 columns</p>\n",
       "</div>"
      ],
      "text/plain": [
       "        account_id  approximate_count  custom_audience_id  \\\n",
       "0  104657973074389               1000       6084391234802   \n",
       "\n",
       "                                                name  retention_days  \\\n",
       "0  Thermador: Retargeting Users who watched Amand...             365   \n",
       "\n",
       "          time_created customer_file_source description  is_value_based  \\\n",
       "0  2017-12-08 19:29:08       NOT_APPLICABLE         NaN           False   \n",
       "\n",
       "  data_source_type  ... data_source_creation_params ad_id  clicks  cpc  \\\n",
       "0      EVENT_BASED  ...          {\"prefill\":\"true\"}     0     NaN  NaN   \n",
       "\n",
       "   impressions  cpm  ctr  comments  video_views  post_reactions  \n",
       "0          NaN  NaN  NaN       NaN          NaN             NaN  \n",
       "\n",
       "[1 rows x 21 columns]"
      ]
     },
     "execution_count": 3,
     "metadata": {},
     "output_type": "execute_result"
    }
   ],
   "source": [
    "custom.head(1)"
   ]
  },
  {
   "cell_type": "code",
   "execution_count": 4,
   "metadata": {},
   "outputs": [
    {
     "name": "stdout",
     "output_type": "stream",
     "text": [
      "Shape of the original custom audience dataset:  (885931, 21)\n"
     ]
    }
   ],
   "source": [
    "print('Shape of the original custom audience dataset: ',custom.shape)"
   ]
  },
  {
   "cell_type": "code",
   "execution_count": 5,
   "metadata": {
    "id": "no9DHX4TN1SA"
   },
   "outputs": [],
   "source": [
    "custom['time_created'] = pd.to_datetime(custom['time_created'])"
   ]
  },
  {
   "cell_type": "code",
   "execution_count": 6,
   "metadata": {
    "id": "4_hx9j7CN1SA"
   },
   "outputs": [],
   "source": [
    "custom['month'] = custom['time_created'].dt.month\n",
    "custom['year'] = custom['time_created'].dt.year\n",
    "custom['day'] = custom['time_created'].dt.day"
   ]
  },
  {
   "cell_type": "code",
   "execution_count": 7,
   "metadata": {
    "id": "rLAjR5hGCl1G"
   },
   "outputs": [],
   "source": [
    "custom = custom.drop(columns =['description'])\n",
    "custom = custom.drop(columns =['comments'])"
   ]
  },
  {
   "cell_type": "code",
   "execution_count": 8,
   "metadata": {
    "id": "pcdxZNC9N1SA"
   },
   "outputs": [],
   "source": [
    "custom_clean = custom.dropna() #remove missing value and empty columns"
   ]
  },
  {
   "cell_type": "code",
   "execution_count": 9,
   "metadata": {
    "id": "VcYF3jnqbh9B"
   },
   "outputs": [],
   "source": [
    "#Trim outliers:\n",
    "starting_percentile = custom_clean['clicks'].quantile(.02)\n",
    "ending_percentile = custom_clean['clicks'].quantile(.98)\n",
    "price_outliers_df = custom_clean.loc[((custom_clean['clicks'] <= starting_percentile) | (custom_clean['clicks'] >= ending_percentile))]\n",
    "custom_clean = custom_clean.loc[((custom_clean['clicks'] > starting_percentile) & (custom_clean['clicks'] < ending_percentile))]"
   ]
  },
  {
   "cell_type": "code",
   "execution_count": 10,
   "metadata": {
    "colab": {
     "base_uri": "https://localhost:8080/"
    },
    "id": "TCLHhDOvN1SA",
    "outputId": "8bd4bfee-4290-450d-f658-cb1f0103e731"
   },
   "outputs": [
    {
     "name": "stdout",
     "output_type": "stream",
     "text": [
      "Shape of the cleaned custom audience dataset:  (666504, 22)\n"
     ]
    }
   ],
   "source": [
    "print('Shape of the cleaned custom audience dataset: ', custom_clean.shape)"
   ]
  },
  {
   "cell_type": "markdown",
   "metadata": {
    "id": "u0MhoSYic75X"
   },
   "source": [
    "Lookalike"
   ]
  },
  {
   "cell_type": "code",
   "execution_count": 11,
   "metadata": {
    "colab": {
     "base_uri": "https://localhost:8080/",
     "height": 80
    },
    "id": "hoaWGbp0cssQ",
    "outputId": "85294f05-59ed-4133-a382-473dfaeffe00"
   },
   "outputs": [
    {
     "data": {
      "text/html": [
       "<div>\n",
       "<style scoped>\n",
       "    .dataframe tbody tr th:only-of-type {\n",
       "        vertical-align: middle;\n",
       "    }\n",
       "\n",
       "    .dataframe tbody tr th {\n",
       "        vertical-align: top;\n",
       "    }\n",
       "\n",
       "    .dataframe thead th {\n",
       "        text-align: right;\n",
       "    }\n",
       "</style>\n",
       "<table border=\"1\" class=\"dataframe\">\n",
       "  <thead>\n",
       "    <tr style=\"text-align: right;\">\n",
       "      <th></th>\n",
       "      <th>country</th>\n",
       "      <th>ratio</th>\n",
       "      <th>origin_id</th>\n",
       "      <th>origin_name</th>\n",
       "      <th>origin_type</th>\n",
       "    </tr>\n",
       "  </thead>\n",
       "  <tbody>\n",
       "    <tr>\n",
       "      <th>0</th>\n",
       "      <td>US</td>\n",
       "      <td>0.08</td>\n",
       "      <td>6071223636402</td>\n",
       "      <td>Everyone Who Engaged With MTV Page</td>\n",
       "      <td>custom_audience</td>\n",
       "    </tr>\n",
       "  </tbody>\n",
       "</table>\n",
       "</div>"
      ],
      "text/plain": [
       "  country  ratio      origin_id                         origin_name  \\\n",
       "0      US   0.08  6071223636402  Everyone Who Engaged With MTV Page   \n",
       "\n",
       "       origin_type  \n",
       "0  custom_audience  "
      ]
     },
     "execution_count": 11,
     "metadata": {},
     "output_type": "execute_result"
    }
   ],
   "source": [
    "lookalike.head(1)"
   ]
  },
  {
   "cell_type": "code",
   "execution_count": 12,
   "metadata": {},
   "outputs": [],
   "source": [
    "lookalike = lookalike.replace({'AL,AD,AT,BY,BE,BA,BG,HR,CZ,DK,EE,FO,FI,FR,DE,GI,GR,GG,HU,IS,IE,IM,IT,JE,XK,LV,LI,LT,LU,MK,MT,MD,MC,ME,NL,NO,PL,PT,RO,RU,SM,RS,SK,SI,ES,SJ,SE,CH,UA,GB':'other countries'})"
   ]
  },
  {
   "cell_type": "code",
   "execution_count": 13,
   "metadata": {
    "colab": {
     "base_uri": "https://localhost:8080/"
    },
    "id": "7OpgAF3Wc-oB",
    "outputId": "885c3f09-feae-43f6-86ee-893d9353821c"
   },
   "outputs": [
    {
     "data": {
      "text/plain": [
       "(1078, 5)"
      ]
     },
     "execution_count": 13,
     "metadata": {},
     "output_type": "execute_result"
    }
   ],
   "source": [
    "lookalike.shape"
   ]
  },
  {
   "cell_type": "code",
   "execution_count": 14,
   "metadata": {
    "colab": {
     "base_uri": "https://localhost:8080/"
    },
    "id": "pUgaYWq7c9iI",
    "outputId": "7721f12b-b312-4a2f-f759-c689ab1e572c"
   },
   "outputs": [
    {
     "data": {
      "text/plain": [
       "(928, 5)"
      ]
     },
     "execution_count": 14,
     "metadata": {},
     "output_type": "execute_result"
    }
   ],
   "source": [
    "# Remove duplicate from 1078 to 928 rows \n",
    "looklike_de = lookalike.drop_duplicates(subset='origin_id', keep='first', inplace=False, ignore_index=False)\n",
    "looklike_de.shape\n"
   ]
  },
  {
   "cell_type": "markdown",
   "metadata": {
    "id": "bU5YkG_SCYrQ"
   },
   "source": [
    "# Exploratory Data Analysis"
   ]
  },
  {
   "cell_type": "code",
   "execution_count": 15,
   "metadata": {
    "colab": {
     "base_uri": "https://localhost:8080/",
     "height": 0
    },
    "id": "U4O2XWabCXry",
    "outputId": "e138661b-12e5-4f50-9453-17335cb47c81",
    "scrolled": false
   },
   "outputs": [
    {
     "data": {
      "image/png": "[encoded data removed]",
      "text/plain": [
       "<Figure size 864x720 with 2 Axes>"
      ]
     },
     "metadata": {
      "needs_background": "light"
     },
     "output_type": "display_data"
    }
   ],
   "source": [
    "#Generating correlation heatmap\n",
    "plt.figure(figsize=(12,10))\n",
    "cor = custom.corr()\n",
    "sns.heatmap(cor, annot=True, cmap=plt.cm.Reds)\n",
    "plt.show()"
   ]
  },
  {
   "cell_type": "code",
   "execution_count": 16,
   "metadata": {},
   "outputs": [
    {
     "data": {
      "text/plain": [
       "<matplotlib.axes._subplots.AxesSubplot at 0x7fe51c9a3fd0>"
      ]
     },
     "execution_count": 16,
     "metadata": {},
     "output_type": "execute_result"
    },
    {
     "data": {
      "image/png": "[encoded data removed]",
      "text/plain": [
       "<Figure size 1296x432 with 1 Axes>"
      ]
     },
     "metadata": {
      "needs_background": "light"
     },
     "output_type": "display_data"
    }
   ],
   "source": [
    "grouped_account=custom_clean.groupby(by='account_id',as_index=False)['ctr'].mean()\n",
    "sorted_grouped_account=grouped_account.sort_values(by='ctr',ascending=False)\n",
    "top10=sorted_grouped_account.iloc[0:10]\n",
    "plt.figure(figsize=(18,6))\n",
    "plt.title('Top 10 account_id vs. CTR', size=20)\n",
    "sns.barplot('account_id','ctr',data=top10)"
   ]
  },
  {
   "cell_type": "code",
   "execution_count": 17,
   "metadata": {},
   "outputs": [
    {
     "data": {
      "text/html": [
       "<div>\n",
       "<style scoped>\n",
       "    .dataframe tbody tr th:only-of-type {\n",
       "        vertical-align: middle;\n",
       "    }\n",
       "\n",
       "    .dataframe tbody tr th {\n",
       "        vertical-align: top;\n",
       "    }\n",
       "\n",
       "    .dataframe thead th {\n",
       "        text-align: right;\n",
       "    }\n",
       "</style>\n",
       "<table border=\"1\" class=\"dataframe\">\n",
       "  <thead>\n",
       "    <tr style=\"text-align: right;\">\n",
       "      <th></th>\n",
       "      <th>account_id</th>\n",
       "      <th>ctr</th>\n",
       "    </tr>\n",
       "  </thead>\n",
       "  <tbody>\n",
       "    <tr>\n",
       "      <th>29</th>\n",
       "      <td>831180993630429</td>\n",
       "      <td>0.044777</td>\n",
       "    </tr>\n",
       "    <tr>\n",
       "      <th>12</th>\n",
       "      <td>378105596417452</td>\n",
       "      <td>0.039271</td>\n",
       "    </tr>\n",
       "    <tr>\n",
       "      <th>1</th>\n",
       "      <td>118365849496010</td>\n",
       "      <td>0.038162</td>\n",
       "    </tr>\n",
       "    <tr>\n",
       "      <th>32</th>\n",
       "      <td>985438574834214</td>\n",
       "      <td>0.032911</td>\n",
       "    </tr>\n",
       "    <tr>\n",
       "      <th>30</th>\n",
       "      <td>832459790169216</td>\n",
       "      <td>0.030700</td>\n",
       "    </tr>\n",
       "  </tbody>\n",
       "</table>\n",
       "</div>"
      ],
      "text/plain": [
       "         account_id       ctr\n",
       "29  831180993630429  0.044777\n",
       "12  378105596417452  0.039271\n",
       "1   118365849496010  0.038162\n",
       "32  985438574834214  0.032911\n",
       "30  832459790169216  0.030700"
      ]
     },
     "execution_count": 17,
     "metadata": {},
     "output_type": "execute_result"
    }
   ],
   "source": [
    "top10.head()"
   ]
  },
  {
   "cell_type": "code",
   "execution_count": 18,
   "metadata": {},
   "outputs": [
    {
     "data": {
      "text/plain": [
       "<matplotlib.axes._subplots.AxesSubplot at 0x7fe535c45fd0>"
      ]
     },
     "execution_count": 18,
     "metadata": {},
     "output_type": "execute_result"
    },
    {
     "data": {
      "image/png": "[encoded data removed]",
      "text/plain": [
       "<Figure size 1296x432 with 1 Axes>"
      ]
     },
     "metadata": {
      "needs_background": "light"
     },
     "output_type": "display_data"
    }
   ],
   "source": [
    "grouped_account=custom_clean.groupby(by='custom_audience_id',as_index=False)['ctr'].mean()\n",
    "sorted_grouped_account=grouped_account.sort_values(by='ctr',ascending=False)\n",
    "top10=sorted_grouped_account.iloc[0:10]\n",
    "plt.figure(figsize=(18,6))\n",
    "plt.title('Top 10 custom_audience_id vs. CTR', size=20)\n",
    "sns.barplot('custom_audience_id','ctr',data=top10)"
   ]
  },
  {
   "cell_type": "code",
   "execution_count": 19,
   "metadata": {},
   "outputs": [
    {
     "data": {
      "text/html": [
       "<div>\n",
       "<style scoped>\n",
       "    .dataframe tbody tr th:only-of-type {\n",
       "        vertical-align: middle;\n",
       "    }\n",
       "\n",
       "    .dataframe tbody tr th {\n",
       "        vertical-align: top;\n",
       "    }\n",
       "\n",
       "    .dataframe thead th {\n",
       "        text-align: right;\n",
       "    }\n",
       "</style>\n",
       "<table border=\"1\" class=\"dataframe\">\n",
       "  <thead>\n",
       "    <tr style=\"text-align: right;\">\n",
       "      <th></th>\n",
       "      <th>custom_audience_id</th>\n",
       "      <th>ctr</th>\n",
       "    </tr>\n",
       "  </thead>\n",
       "  <tbody>\n",
       "    <tr>\n",
       "      <th>0</th>\n",
       "      <td>6009738103002</td>\n",
       "      <td>0.254572</td>\n",
       "    </tr>\n",
       "    <tr>\n",
       "      <th>2</th>\n",
       "      <td>6009738128002</td>\n",
       "      <td>0.254572</td>\n",
       "    </tr>\n",
       "    <tr>\n",
       "      <th>1</th>\n",
       "      <td>6009738121402</td>\n",
       "      <td>0.254572</td>\n",
       "    </tr>\n",
       "    <tr>\n",
       "      <th>2356</th>\n",
       "      <td>23843060174840357</td>\n",
       "      <td>0.234825</td>\n",
       "    </tr>\n",
       "    <tr>\n",
       "      <th>2524</th>\n",
       "      <td>23843127053290351</td>\n",
       "      <td>0.161162</td>\n",
       "    </tr>\n",
       "  </tbody>\n",
       "</table>\n",
       "</div>"
      ],
      "text/plain": [
       "      custom_audience_id       ctr\n",
       "0          6009738103002  0.254572\n",
       "2          6009738128002  0.254572\n",
       "1          6009738121402  0.254572\n",
       "2356   23843060174840357  0.234825\n",
       "2524   23843127053290351  0.161162"
      ]
     },
     "execution_count": 19,
     "metadata": {},
     "output_type": "execute_result"
    }
   ],
   "source": [
    "top10.head()"
   ]
  },
  {
   "cell_type": "markdown",
   "metadata": {
    "id": "yB0oIRs_yHpX"
   },
   "source": [
    "<strong>What's the average CTR daily?</strong>"
   ]
  },
  {
   "cell_type": "code",
   "execution_count": 20,
   "metadata": {
    "id": "Gn3b9E3UyIUb"
   },
   "outputs": [],
   "source": [
    "date_count = custom_clean.groupby(by='time_created').mean()\n",
    "average_ctr = date_count['ctr'].mean()\n",
    "points = len(date_count.index)"
   ]
  },
  {
   "cell_type": "code",
   "execution_count": 21,
   "metadata": {
    "colab": {
     "base_uri": "https://localhost:8080/",
     "height": 0
    },
    "id": "I1wxCjiByLXn",
    "outputId": "34873237-42c1-446b-9b5e-8637c587a462"
   },
   "outputs": [
    {
     "data": {
      "image/png": "[encoded data removed]",
      "text/plain": [
       "<Figure size 576x432 with 1 Axes>"
      ]
     },
     "metadata": {
      "needs_background": "light"
     },
     "output_type": "display_data"
    }
   ],
   "source": [
    "plt.figure(figsize=(8,6))\n",
    "plt.plot(date_count.index, date_count['ctr'], c='black', label = 'ctr')\n",
    "plt.plot(date_count.index, np.linspace(average_ctr,average_ctr,points), c='r', label = 'Average CTR')\n",
    "plt.title('Average CTR Daily')\n",
    "plt.legend()\n",
    "plt.xlabel('Date')\n",
    "plt.ylabel('Number of Customers')\n",
    "plt.tight_layout()"
   ]
  },
  {
   "cell_type": "markdown",
   "metadata": {
    "id": "ATdmBnP7yHjF"
   },
   "source": [
    "<strong>What's the Average Impressions Daily?</strong>"
   ]
  },
  {
   "cell_type": "code",
   "execution_count": 22,
   "metadata": {
    "id": "I5nT6Hv4yjSH"
   },
   "outputs": [],
   "source": [
    "date_count = custom_clean.groupby(by='time_created').mean()\n",
    "average_impressions = date_count['impressions'].mean()\n",
    "points = len(date_count.index)"
   ]
  },
  {
   "cell_type": "code",
   "execution_count": 23,
   "metadata": {
    "colab": {
     "base_uri": "https://localhost:8080/",
     "height": 0
    },
    "id": "oX3qIC7IyjIs",
    "outputId": "6776ffa6-2ac7-45c5-ee61-740ece3bad4d"
   },
   "outputs": [
    {
     "data": {
      "image/png": "[encoded data removed]",
      "text/plain": [
       "<Figure size 576x432 with 1 Axes>"
      ]
     },
     "metadata": {
      "needs_background": "light"
     },
     "output_type": "display_data"
    }
   ],
   "source": [
    "plt.figure(figsize=(8,6))\n",
    "plt.plot(date_count.index, date_count['impressions'], c='black', label = 'impressions')\n",
    "plt.plot(date_count.index, np.linspace(average_ctr,average_ctr,points), c='r', label = 'Average Impressions')\n",
    "plt.title('Average Impressions Daily')\n",
    "plt.legend()\n",
    "plt.xlabel('Date')\n",
    "plt.ylabel('Number of Customers')\n",
    "plt.tight_layout()"
   ]
  },
  {
   "cell_type": "markdown",
   "metadata": {
    "id": "nUkXeILsyHcf"
   },
   "source": [
    "<strong>What's the Average CPC Daily?</strong>"
   ]
  },
  {
   "cell_type": "code",
   "execution_count": 24,
   "metadata": {
    "id": "DYF61VDgypCk"
   },
   "outputs": [],
   "source": [
    "date_count = custom_clean.groupby(by='time_created').mean()\n",
    "average_cpc = date_count['cpc'].mean()\n",
    "points = len(date_count.index)"
   ]
  },
  {
   "cell_type": "code",
   "execution_count": 25,
   "metadata": {
    "colab": {
     "base_uri": "https://localhost:8080/",
     "height": 0
    },
    "id": "v3asZuSayo7W",
    "outputId": "dd4b8e15-9c31-4ae3-bcd7-76e7ba9f2bdb"
   },
   "outputs": [
    {
     "data": {
      "image/png": "[encoded data removed]",
      "text/plain": [
       "<Figure size 576x432 with 1 Axes>"
      ]
     },
     "metadata": {
      "needs_background": "light"
     },
     "output_type": "display_data"
    }
   ],
   "source": [
    "plt.figure(figsize=(8,6))\n",
    "plt.plot(date_count.index, date_count['cpc'], c='black', label = 'cpc')\n",
    "plt.plot(date_count.index, np.linspace(average_ctr,average_ctr,points), c='r', label = 'Average CPC')\n",
    "plt.title('Average CPC Daily')\n",
    "plt.legend()\n",
    "plt.xlabel('Date')\n",
    "plt.ylabel('Number of Customers')\n",
    "plt.tight_layout()"
   ]
  },
  {
   "cell_type": "markdown",
   "metadata": {
    "id": "56n8NzYNyHVB"
   },
   "source": [
    "<strong>What's the Average CPM Daily?</strong>"
   ]
  },
  {
   "cell_type": "code",
   "execution_count": 26,
   "metadata": {
    "id": "sZs9w81tyt6h"
   },
   "outputs": [],
   "source": [
    "date_count = custom_clean.groupby(by='time_created').mean()\n",
    "average_cpm = date_count['cpm'].mean()\n",
    "points = len(date_count.index)"
   ]
  },
  {
   "cell_type": "code",
   "execution_count": 27,
   "metadata": {
    "colab": {
     "base_uri": "https://localhost:8080/",
     "height": 0
    },
    "id": "_lFgBA-DywZO",
    "outputId": "c53a668a-9543-40b0-ee15-ba9d52477978"
   },
   "outputs": [
    {
     "data": {
      "image/png": "[encoded data removed]",
      "text/plain": [
       "<Figure size 576x432 with 1 Axes>"
      ]
     },
     "metadata": {
      "needs_background": "light"
     },
     "output_type": "display_data"
    }
   ],
   "source": [
    "plt.figure(figsize=(8,6))\n",
    "plt.plot(date_count.index, date_count['cpm'], c='black', label = 'cpm')\n",
    "plt.plot(date_count.index, np.linspace(average_ctr,average_ctr,points), c='r', label = 'Average CPM')\n",
    "plt.title('Average CPM Daily')\n",
    "plt.legend()\n",
    "plt.xlabel('Date')\n",
    "plt.ylabel('Number of Customers')\n",
    "plt.tight_layout()"
   ]
  },
  {
   "cell_type": "code",
   "execution_count": 28,
   "metadata": {
    "colab": {
     "base_uri": "https://localhost:8080/",
     "height": 0
    },
    "id": "5hx0kbVw0RiS",
    "outputId": "d4cb9a04-21a2-4667-d765-6296540b0c8c"
   },
   "outputs": [
    {
     "data": {
      "text/plain": [
       "Text(0, 0.5, 'Counts')"
      ]
     },
     "execution_count": 28,
     "metadata": {},
     "output_type": "execute_result"
    },
    {
     "data": {
      "image/png": "[encoded data removed]",
      "text/plain": [
       "<Figure size 432x288 with 1 Axes>"
      ]
     },
     "metadata": {
      "needs_background": "light"
     },
     "output_type": "display_data"
    }
   ],
   "source": [
    "lookalike['origin_type'].value_counts().plot(kind='bar')\n",
    "plt.xticks(rotation=45)\n",
    "plt.title('Origin Types')\n",
    "plt.ylabel('Counts')"
   ]
  },
  {
   "cell_type": "code",
   "execution_count": 29,
   "metadata": {
    "colab": {
     "base_uri": "https://localhost:8080/",
     "height": 0
    },
    "id": "gdAnMLJS0TDd",
    "outputId": "52183085-1336-4a08-d360-a48f004c0fb9"
   },
   "outputs": [
    {
     "data": {
      "text/plain": [
       "Text(0, 0.5, 'Counts')"
      ]
     },
     "execution_count": 29,
     "metadata": {},
     "output_type": "execute_result"
    },
    {
     "data": {
      "image/png": "[encoded data removed]",
      "text/plain": [
       "<Figure size 432x288 with 1 Axes>"
      ]
     },
     "metadata": {
      "needs_background": "light"
     },
     "output_type": "display_data"
    }
   ],
   "source": [
    "lookalike['country'].value_counts().plot(kind='bar')\n",
    "plt.xticks(rotation=45)\n",
    "plt.title('Countries')\n",
    "plt.ylabel('Counts')"
   ]
  },
  {
   "cell_type": "markdown",
   "metadata": {
    "id": "V9oZe5e3l3Vb"
   },
   "source": [
    "P1. What are the attributes of custom audience that result in large reach?"
   ]
  },
  {
   "cell_type": "code",
   "execution_count": 30,
   "metadata": {
    "colab": {
     "base_uri": "https://localhost:8080/",
     "height": 0
    },
    "id": "wxBq2V9MChDp",
    "outputId": "2ecc5c7e-acff-4fe8-fc0d-6a43ec26bf10"
   },
   "outputs": [
    {
     "data": {
      "text/html": [
       "<div>\n",
       "<style scoped>\n",
       "    .dataframe tbody tr th:only-of-type {\n",
       "        vertical-align: middle;\n",
       "    }\n",
       "\n",
       "    .dataframe tbody tr th {\n",
       "        vertical-align: top;\n",
       "    }\n",
       "\n",
       "    .dataframe thead th {\n",
       "        text-align: right;\n",
       "    }\n",
       "</style>\n",
       "<table border=\"1\" class=\"dataframe\">\n",
       "  <thead>\n",
       "    <tr style=\"text-align: right;\">\n",
       "      <th></th>\n",
       "      <th>account_id</th>\n",
       "      <th>approximate_count</th>\n",
       "      <th>custom_audience_id</th>\n",
       "      <th>retention_days</th>\n",
       "      <th>is_value_based</th>\n",
       "      <th>ad_id</th>\n",
       "      <th>clicks</th>\n",
       "      <th>cpc</th>\n",
       "      <th>impressions</th>\n",
       "      <th>cpm</th>\n",
       "      <th>ctr</th>\n",
       "      <th>video_views</th>\n",
       "      <th>post_reactions</th>\n",
       "      <th>month</th>\n",
       "      <th>year</th>\n",
       "      <th>day</th>\n",
       "    </tr>\n",
       "  </thead>\n",
       "  <tbody>\n",
       "    <tr>\n",
       "      <th>clicks</th>\n",
       "      <td>-0.036840</td>\n",
       "      <td>-0.030613</td>\n",
       "      <td>-0.109770</td>\n",
       "      <td>-0.077803</td>\n",
       "      <td>NaN</td>\n",
       "      <td>-0.108044</td>\n",
       "      <td>1.000000</td>\n",
       "      <td>-0.042596</td>\n",
       "      <td>0.720548</td>\n",
       "      <td>-0.075547</td>\n",
       "      <td>0.220951</td>\n",
       "      <td>0.771451</td>\n",
       "      <td>0.248492</td>\n",
       "      <td>-0.005397</td>\n",
       "      <td>-0.117431</td>\n",
       "      <td>0.002325</td>\n",
       "    </tr>\n",
       "    <tr>\n",
       "      <th>video_views</th>\n",
       "      <td>-0.040758</td>\n",
       "      <td>-0.028772</td>\n",
       "      <td>-0.101308</td>\n",
       "      <td>-0.057745</td>\n",
       "      <td>NaN</td>\n",
       "      <td>-0.096005</td>\n",
       "      <td>0.771451</td>\n",
       "      <td>-0.009743</td>\n",
       "      <td>0.910128</td>\n",
       "      <td>-0.061703</td>\n",
       "      <td>0.072891</td>\n",
       "      <td>1.000000</td>\n",
       "      <td>0.316062</td>\n",
       "      <td>0.001056</td>\n",
       "      <td>-0.108916</td>\n",
       "      <td>0.004237</td>\n",
       "    </tr>\n",
       "  </tbody>\n",
       "</table>\n",
       "</div>"
      ],
      "text/plain": [
       "             account_id  approximate_count  custom_audience_id  \\\n",
       "clicks        -0.036840          -0.030613           -0.109770   \n",
       "video_views   -0.040758          -0.028772           -0.101308   \n",
       "\n",
       "             retention_days  is_value_based     ad_id    clicks       cpc  \\\n",
       "clicks            -0.077803             NaN -0.108044  1.000000 -0.042596   \n",
       "video_views       -0.057745             NaN -0.096005  0.771451 -0.009743   \n",
       "\n",
       "             impressions       cpm       ctr  video_views  post_reactions  \\\n",
       "clicks          0.720548 -0.075547  0.220951     0.771451        0.248492   \n",
       "video_views     0.910128 -0.061703  0.072891     1.000000        0.316062   \n",
       "\n",
       "                month      year       day  \n",
       "clicks      -0.005397 -0.117431  0.002325  \n",
       "video_views  0.001056 -0.108916  0.004237  "
      ]
     },
     "execution_count": 30,
     "metadata": {},
     "output_type": "execute_result"
    }
   ],
   "source": [
    "# find out all features result in large impression(correlation > 0.5) and low cpm(correlation <0)\n",
    "relevant_featuresP1 = cor[(cor[\"cpm\"]<0) & (cor['impressions'] > 0.5) & (cor['impressions'] < 1)]\n",
    "relevant_featuresP1\n"
   ]
  },
  {
   "cell_type": "code",
   "execution_count": 31,
   "metadata": {
    "colab": {
     "base_uri": "https://localhost:8080/"
    },
    "id": "u-3FDPa2Kf5h",
    "outputId": "bb35f175-ec2c-4af3-c58b-4a63ecc64b03"
   },
   "outputs": [
    {
     "name": "stdout",
     "output_type": "stream",
     "text": [
      "             impressions       cpm\n",
      "clicks          0.720548 -0.075547\n",
      "video_views     0.910128 -0.061703\n"
     ]
    }
   ],
   "source": [
    "#result table for P1\n",
    "p1 = print(relevant_featuresP1[[\"impressions\",'cpm']])"
   ]
  },
  {
   "cell_type": "markdown",
   "metadata": {
    "id": "m1fhgQk6KrWu"
   },
   "source": [
    "P2.What are the attributes of custom audience that result in high engagement?"
   ]
  },
  {
   "cell_type": "code",
   "execution_count": 32,
   "metadata": {
    "colab": {
     "base_uri": "https://localhost:8080/",
     "height": 0
    },
    "id": "DaesOCRlKg6W",
    "outputId": "0afae165-22fb-4448-a6cd-6d97d3ff8e4e",
    "scrolled": true
   },
   "outputs": [
    {
     "data": {
      "text/html": [
       "<div>\n",
       "<style scoped>\n",
       "    .dataframe tbody tr th:only-of-type {\n",
       "        vertical-align: middle;\n",
       "    }\n",
       "\n",
       "    .dataframe tbody tr th {\n",
       "        vertical-align: top;\n",
       "    }\n",
       "\n",
       "    .dataframe thead th {\n",
       "        text-align: right;\n",
       "    }\n",
       "</style>\n",
       "<table border=\"1\" class=\"dataframe\">\n",
       "  <thead>\n",
       "    <tr style=\"text-align: right;\">\n",
       "      <th></th>\n",
       "      <th>account_id</th>\n",
       "      <th>approximate_count</th>\n",
       "      <th>custom_audience_id</th>\n",
       "      <th>retention_days</th>\n",
       "      <th>is_value_based</th>\n",
       "      <th>ad_id</th>\n",
       "      <th>clicks</th>\n",
       "      <th>cpc</th>\n",
       "      <th>impressions</th>\n",
       "      <th>cpm</th>\n",
       "      <th>ctr</th>\n",
       "      <th>video_views</th>\n",
       "      <th>post_reactions</th>\n",
       "      <th>month</th>\n",
       "      <th>year</th>\n",
       "      <th>day</th>\n",
       "    </tr>\n",
       "  </thead>\n",
       "  <tbody>\n",
       "    <tr>\n",
       "      <th>ctr</th>\n",
       "      <td>-0.091720</td>\n",
       "      <td>-0.089301</td>\n",
       "      <td>-0.305780</td>\n",
       "      <td>-0.148353</td>\n",
       "      <td>NaN</td>\n",
       "      <td>-0.317070</td>\n",
       "      <td>0.220951</td>\n",
       "      <td>-0.161713</td>\n",
       "      <td>0.039922</td>\n",
       "      <td>-0.104878</td>\n",
       "      <td>1.000000</td>\n",
       "      <td>0.072891</td>\n",
       "      <td>0.016089</td>\n",
       "      <td>-0.009146</td>\n",
       "      <td>-0.304399</td>\n",
       "      <td>0.007893</td>\n",
       "    </tr>\n",
       "    <tr>\n",
       "      <th>video_views</th>\n",
       "      <td>-0.040758</td>\n",
       "      <td>-0.028772</td>\n",
       "      <td>-0.101308</td>\n",
       "      <td>-0.057745</td>\n",
       "      <td>NaN</td>\n",
       "      <td>-0.096005</td>\n",
       "      <td>0.771451</td>\n",
       "      <td>-0.009743</td>\n",
       "      <td>0.910128</td>\n",
       "      <td>-0.061703</td>\n",
       "      <td>0.072891</td>\n",
       "      <td>1.000000</td>\n",
       "      <td>0.316062</td>\n",
       "      <td>0.001056</td>\n",
       "      <td>-0.108916</td>\n",
       "      <td>0.004237</td>\n",
       "    </tr>\n",
       "    <tr>\n",
       "      <th>day</th>\n",
       "      <td>0.058281</td>\n",
       "      <td>-0.034614</td>\n",
       "      <td>-0.055274</td>\n",
       "      <td>0.039607</td>\n",
       "      <td>NaN</td>\n",
       "      <td>-0.039582</td>\n",
       "      <td>0.002325</td>\n",
       "      <td>-0.011002</td>\n",
       "      <td>0.008391</td>\n",
       "      <td>-0.029503</td>\n",
       "      <td>0.007893</td>\n",
       "      <td>0.004237</td>\n",
       "      <td>0.003819</td>\n",
       "      <td>-0.124627</td>\n",
       "      <td>0.008757</td>\n",
       "      <td>1.000000</td>\n",
       "    </tr>\n",
       "  </tbody>\n",
       "</table>\n",
       "</div>"
      ],
      "text/plain": [
       "             account_id  approximate_count  custom_audience_id  \\\n",
       "ctr           -0.091720          -0.089301           -0.305780   \n",
       "video_views   -0.040758          -0.028772           -0.101308   \n",
       "day            0.058281          -0.034614           -0.055274   \n",
       "\n",
       "             retention_days  is_value_based     ad_id    clicks       cpc  \\\n",
       "ctr               -0.148353             NaN -0.317070  0.220951 -0.161713   \n",
       "video_views       -0.057745             NaN -0.096005  0.771451 -0.009743   \n",
       "day                0.039607             NaN -0.039582  0.002325 -0.011002   \n",
       "\n",
       "             impressions       cpm       ctr  video_views  post_reactions  \\\n",
       "ctr             0.039922 -0.104878  1.000000     0.072891        0.016089   \n",
       "video_views     0.910128 -0.061703  0.072891     1.000000        0.316062   \n",
       "day             0.008391 -0.029503  0.007893     0.004237        0.003819   \n",
       "\n",
       "                month      year       day  \n",
       "ctr         -0.009146 -0.304399  0.007893  \n",
       "video_views  0.001056 -0.108916  0.004237  \n",
       "day         -0.124627  0.008757  1.000000  "
      ]
     },
     "execution_count": 32,
     "metadata": {},
     "output_type": "execute_result"
    }
   ],
   "source": [
    "# find out all features result in large clicks(correlation > 0) and low cpc(correlation <0)\n",
    "relevant_featuresP2 = cor[(cor[\"cpc\"]<0) & (cor['clicks'] > 0) & (cor['clicks'] < 1)]\n",
    "relevant_featuresP2"
   ]
  },
  {
   "cell_type": "code",
   "execution_count": 33,
   "metadata": {
    "colab": {
     "base_uri": "https://localhost:8080/"
    },
    "id": "RTwFFlXfKn-O",
    "outputId": "3ba3b10a-6535-471d-eb7b-72936080e6b9"
   },
   "outputs": [
    {
     "name": "stdout",
     "output_type": "stream",
     "text": [
      "               clicks       cpc\n",
      "ctr          0.220951 -0.161713\n",
      "video_views  0.771451 -0.009743\n",
      "day          0.002325 -0.011002\n"
     ]
    }
   ],
   "source": [
    "#result table for P2\n",
    "p2 = print(relevant_featuresP2[[\"clicks\",'cpc']])"
   ]
  },
  {
   "cell_type": "markdown",
   "metadata": {
    "id": "K5WXl5Z6l3Vc"
   },
   "source": [
    "P3. What are the attributes of custom audience that result in high efficiency for determined by CTR?"
   ]
  },
  {
   "cell_type": "code",
   "execution_count": 34,
   "metadata": {
    "colab": {
     "base_uri": "https://localhost:8080/",
     "height": 0
    },
    "id": "03GQMqZNl3Vc",
    "outputId": "a0c69924-7bd2-4755-a2de-315d4f096b25"
   },
   "outputs": [
    {
     "data": {
      "text/html": [
       "<div>\n",
       "<style scoped>\n",
       "    .dataframe tbody tr th:only-of-type {\n",
       "        vertical-align: middle;\n",
       "    }\n",
       "\n",
       "    .dataframe tbody tr th {\n",
       "        vertical-align: top;\n",
       "    }\n",
       "\n",
       "    .dataframe thead th {\n",
       "        text-align: right;\n",
       "    }\n",
       "</style>\n",
       "<table border=\"1\" class=\"dataframe\">\n",
       "  <thead>\n",
       "    <tr style=\"text-align: right;\">\n",
       "      <th></th>\n",
       "      <th>account_id</th>\n",
       "      <th>approximate_count</th>\n",
       "      <th>custom_audience_id</th>\n",
       "      <th>retention_days</th>\n",
       "      <th>is_value_based</th>\n",
       "      <th>ad_id</th>\n",
       "      <th>clicks</th>\n",
       "      <th>cpc</th>\n",
       "      <th>impressions</th>\n",
       "      <th>cpm</th>\n",
       "      <th>ctr</th>\n",
       "      <th>video_views</th>\n",
       "      <th>post_reactions</th>\n",
       "      <th>month</th>\n",
       "      <th>year</th>\n",
       "      <th>day</th>\n",
       "    </tr>\n",
       "  </thead>\n",
       "  <tbody>\n",
       "    <tr>\n",
       "      <th>clicks</th>\n",
       "      <td>-0.036840</td>\n",
       "      <td>-0.030613</td>\n",
       "      <td>-0.109770</td>\n",
       "      <td>-0.077803</td>\n",
       "      <td>NaN</td>\n",
       "      <td>-0.108044</td>\n",
       "      <td>1.000000</td>\n",
       "      <td>-0.042596</td>\n",
       "      <td>0.720548</td>\n",
       "      <td>-0.075547</td>\n",
       "      <td>0.220951</td>\n",
       "      <td>0.771451</td>\n",
       "      <td>0.248492</td>\n",
       "      <td>-0.005397</td>\n",
       "      <td>-0.117431</td>\n",
       "      <td>0.002325</td>\n",
       "    </tr>\n",
       "    <tr>\n",
       "      <th>video_views</th>\n",
       "      <td>-0.040758</td>\n",
       "      <td>-0.028772</td>\n",
       "      <td>-0.101308</td>\n",
       "      <td>-0.057745</td>\n",
       "      <td>NaN</td>\n",
       "      <td>-0.096005</td>\n",
       "      <td>0.771451</td>\n",
       "      <td>-0.009743</td>\n",
       "      <td>0.910128</td>\n",
       "      <td>-0.061703</td>\n",
       "      <td>0.072891</td>\n",
       "      <td>1.000000</td>\n",
       "      <td>0.316062</td>\n",
       "      <td>0.001056</td>\n",
       "      <td>-0.108916</td>\n",
       "      <td>0.004237</td>\n",
       "    </tr>\n",
       "  </tbody>\n",
       "</table>\n",
       "</div>"
      ],
      "text/plain": [
       "             account_id  approximate_count  custom_audience_id  \\\n",
       "clicks        -0.036840          -0.030613           -0.109770   \n",
       "video_views   -0.040758          -0.028772           -0.101308   \n",
       "\n",
       "             retention_days  is_value_based     ad_id    clicks       cpc  \\\n",
       "clicks            -0.077803             NaN -0.108044  1.000000 -0.042596   \n",
       "video_views       -0.057745             NaN -0.096005  0.771451 -0.009743   \n",
       "\n",
       "             impressions       cpm       ctr  video_views  post_reactions  \\\n",
       "clicks          0.720548 -0.075547  0.220951     0.771451        0.248492   \n",
       "video_views     0.910128 -0.061703  0.072891     1.000000        0.316062   \n",
       "\n",
       "                month      year       day  \n",
       "clicks      -0.005397 -0.117431  0.002325  \n",
       "video_views  0.001056 -0.108916  0.004237  "
      ]
     },
     "execution_count": 34,
     "metadata": {},
     "output_type": "execute_result"
    }
   ],
   "source": [
    "# find out all features result in high ctr(correlation > 0.05) and low cpc(correlation <0)\n",
    "relevant_featuresP3 = cor[(cor[\"cpc\"]<0) & (cor['ctr'] > 0.05) & (cor['ctr'] < 1)]\n",
    "relevant_featuresP3"
   ]
  },
  {
   "cell_type": "code",
   "execution_count": 35,
   "metadata": {
    "colab": {
     "base_uri": "https://localhost:8080/"
    },
    "id": "YUWBETAkl3Vc",
    "outputId": "7675d2c0-39ba-4623-9e00-451c24a841a2"
   },
   "outputs": [
    {
     "name": "stdout",
     "output_type": "stream",
     "text": [
      "                  ctr       cpc\n",
      "clicks       0.220951 -0.042596\n",
      "video_views  0.072891 -0.009743\n"
     ]
    }
   ],
   "source": [
    "# table for the result of P3\n",
    "P3 = print(relevant_featuresP3[[\"ctr\",'cpc']])"
   ]
  },
  {
   "cell_type": "markdown",
   "metadata": {
    "id": "85EUl9fmN1SA"
   },
   "source": [
    "## Model Development - Linear Regression"
   ]
  },
  {
   "cell_type": "markdown",
   "metadata": {},
   "source": [
    "CPM"
   ]
  },
  {
   "cell_type": "code",
   "execution_count": 36,
   "metadata": {
    "id": "2dkftbPSN1SB"
   },
   "outputs": [],
   "source": [
    "X = custom_clean[['approximate_count', 'retention_days','cpc', 'impressions',\n",
    "                  'clicks', 'ctr', 'video_views', 'post_reactions','month','day','year']]\n",
    "y = custom_clean['cpm']"
   ]
  },
  {
   "cell_type": "code",
   "execution_count": 37,
   "metadata": {
    "id": "BGssNQNoN1SB"
   },
   "outputs": [],
   "source": [
    "X_train, X_test, y_train, y_test = train_test_split(X, y, test_size=0.4, random_state=101)"
   ]
  },
  {
   "cell_type": "code",
   "execution_count": 38,
   "metadata": {
    "id": "Gddhj349N1SB"
   },
   "outputs": [],
   "source": [
    "lm = LinearRegression()"
   ]
  },
  {
   "cell_type": "code",
   "execution_count": 39,
   "metadata": {
    "colab": {
     "base_uri": "https://localhost:8080/"
    },
    "id": "YOsWPNBnN1SB",
    "outputId": "3aaaa61b-668d-48c8-b5c0-761973b7c3d3"
   },
   "outputs": [
    {
     "name": "stdout",
     "output_type": "stream",
     "text": [
      "-1885.7322371696257\n"
     ]
    }
   ],
   "source": [
    "lm.fit(X_train,y_train)\n",
    "print(lm.intercept_)"
   ]
  },
  {
   "cell_type": "markdown",
   "metadata": {},
   "source": [
    "CPC"
   ]
  },
  {
   "cell_type": "code",
   "execution_count": 40,
   "metadata": {},
   "outputs": [],
   "source": [
    "X1 = custom_clean[['approximate_count', 'retention_days','cpm', 'impressions',\n",
    "                  'clicks', 'ctr', 'video_views', 'post_reactions','month','day','year']]\n",
    "y1 = custom_clean['cpc']"
   ]
  },
  {
   "cell_type": "code",
   "execution_count": 41,
   "metadata": {},
   "outputs": [],
   "source": [
    "X1_train, X1_test, y1_train, y1_test = train_test_split(X1, y1, test_size=0.4, random_state=101)"
   ]
  },
  {
   "cell_type": "code",
   "execution_count": 42,
   "metadata": {},
   "outputs": [
    {
     "name": "stdout",
     "output_type": "stream",
     "text": [
      "-69.55000582667643\n"
     ]
    }
   ],
   "source": [
    "lm1 = LinearRegression()\n",
    "lm1.fit(X1_train,y1_train)\n",
    "print(lm1.intercept_)"
   ]
  },
  {
   "cell_type": "markdown",
   "metadata": {},
   "source": [
    "CTR"
   ]
  },
  {
   "cell_type": "code",
   "execution_count": 43,
   "metadata": {},
   "outputs": [],
   "source": [
    "X2 = custom_clean[['approximate_count', 'retention_days','cpm', 'impressions',\n",
    "                  'clicks', 'cpc', 'video_views', 'post_reactions','month','day','year']]\n",
    "y2 = custom_clean['ctr']"
   ]
  },
  {
   "cell_type": "code",
   "execution_count": 44,
   "metadata": {},
   "outputs": [],
   "source": [
    "X2_train, X2_test, y2_train, y2_test = train_test_split(X2, y2, test_size=0.4, random_state=101)"
   ]
  },
  {
   "cell_type": "code",
   "execution_count": 45,
   "metadata": {},
   "outputs": [
    {
     "name": "stdout",
     "output_type": "stream",
     "text": [
      "13.447353244496375\n"
     ]
    }
   ],
   "source": [
    "lm2 = LinearRegression()\n",
    "lm2.fit(X2_train,y2_train)\n",
    "print(lm2.intercept_)"
   ]
  },
  {
   "cell_type": "markdown",
   "metadata": {
    "id": "WaRUZxF-N1SB"
   },
   "source": [
    "## Model Evaluation - Linear Regression"
   ]
  },
  {
   "cell_type": "markdown",
   "metadata": {},
   "source": [
    "CPM"
   ]
  },
  {
   "cell_type": "code",
   "execution_count": 46,
   "metadata": {
    "colab": {
     "base_uri": "https://localhost:8080/"
    },
    "id": "BIV97CwMN1SB",
    "outputId": "f891f79b-b55a-4a7e-aa47-76df3f6e849a"
   },
   "outputs": [
    {
     "name": "stdout",
     "output_type": "stream",
     "text": [
      "-1885.7322371696257\n"
     ]
    }
   ],
   "source": [
    "# print the intercept\n",
    "print(lm.intercept_)"
   ]
  },
  {
   "cell_type": "code",
   "execution_count": 47,
   "metadata": {
    "colab": {
     "base_uri": "https://localhost:8080/",
     "height": 0
    },
    "id": "7MeO3rhcN1SB",
    "outputId": "6cdf77f1-6ac4-49bd-a8c4-af566f44729d"
   },
   "outputs": [
    {
     "data": {
      "text/html": [
       "<div>\n",
       "<style scoped>\n",
       "    .dataframe tbody tr th:only-of-type {\n",
       "        vertical-align: middle;\n",
       "    }\n",
       "\n",
       "    .dataframe tbody tr th {\n",
       "        vertical-align: top;\n",
       "    }\n",
       "\n",
       "    .dataframe thead th {\n",
       "        text-align: right;\n",
       "    }\n",
       "</style>\n",
       "<table border=\"1\" class=\"dataframe\">\n",
       "  <thead>\n",
       "    <tr style=\"text-align: right;\">\n",
       "      <th></th>\n",
       "      <th>Coefficient</th>\n",
       "    </tr>\n",
       "  </thead>\n",
       "  <tbody>\n",
       "    <tr>\n",
       "      <th>approximate_count</th>\n",
       "      <td>-1.304745e-08</td>\n",
       "    </tr>\n",
       "    <tr>\n",
       "      <th>retention_days</th>\n",
       "      <td>-1.146995e-03</td>\n",
       "    </tr>\n",
       "    <tr>\n",
       "      <th>cpc</th>\n",
       "      <td>4.813306e-01</td>\n",
       "    </tr>\n",
       "    <tr>\n",
       "      <th>impressions</th>\n",
       "      <td>3.775578e-08</td>\n",
       "    </tr>\n",
       "    <tr>\n",
       "      <th>clicks</th>\n",
       "      <td>-1.591115e-04</td>\n",
       "    </tr>\n",
       "    <tr>\n",
       "      <th>ctr</th>\n",
       "      <td>3.305994e+00</td>\n",
       "    </tr>\n",
       "    <tr>\n",
       "      <th>video_views</th>\n",
       "      <td>-1.712018e-06</td>\n",
       "    </tr>\n",
       "    <tr>\n",
       "      <th>post_reactions</th>\n",
       "      <td>8.906804e-05</td>\n",
       "    </tr>\n",
       "    <tr>\n",
       "      <th>month</th>\n",
       "      <td>7.519293e-02</td>\n",
       "    </tr>\n",
       "    <tr>\n",
       "      <th>day</th>\n",
       "      <td>-1.186791e-02</td>\n",
       "    </tr>\n",
       "    <tr>\n",
       "      <th>year</th>\n",
       "      <td>9.364960e-01</td>\n",
       "    </tr>\n",
       "  </tbody>\n",
       "</table>\n",
       "</div>"
      ],
      "text/plain": [
       "                    Coefficient\n",
       "approximate_count -1.304745e-08\n",
       "retention_days    -1.146995e-03\n",
       "cpc                4.813306e-01\n",
       "impressions        3.775578e-08\n",
       "clicks            -1.591115e-04\n",
       "ctr                3.305994e+00\n",
       "video_views       -1.712018e-06\n",
       "post_reactions     8.906804e-05\n",
       "month              7.519293e-02\n",
       "day               -1.186791e-02\n",
       "year               9.364960e-01"
      ]
     },
     "execution_count": 47,
     "metadata": {},
     "output_type": "execute_result"
    }
   ],
   "source": [
    "coeff_df = pd.DataFrame(lm.coef_,X.columns,columns=['Coefficient'])\n",
    "coeff_df"
   ]
  },
  {
   "cell_type": "code",
   "execution_count": 48,
   "metadata": {
    "id": "FTehtxA4QQrH"
   },
   "outputs": [],
   "source": [
    "predictions = lm.predict(X_test)"
   ]
  },
  {
   "cell_type": "code",
   "execution_count": 49,
   "metadata": {
    "colab": {
     "base_uri": "https://localhost:8080/"
    },
    "id": "Myd8nr4DN1SB",
    "outputId": "67f4f5da-6478-4505-eee9-1f6d9aa00e33"
   },
   "outputs": [
    {
     "name": "stdout",
     "output_type": "stream",
     "text": [
      "MAE: 1.8972842082723296\n",
      "MSE: 17.246899831865736\n",
      "RMSE: 4.152938698303376\n"
     ]
    }
   ],
   "source": [
    "print('MAE:', metrics.mean_absolute_error(y_test, predictions))\n",
    "print('MSE:', metrics.mean_squared_error(y_test, predictions))\n",
    "print('RMSE:', np.sqrt(metrics.mean_squared_error(y_test, predictions)))"
   ]
  },
  {
   "cell_type": "markdown",
   "metadata": {},
   "source": [
    "CPC"
   ]
  },
  {
   "cell_type": "code",
   "execution_count": 50,
   "metadata": {},
   "outputs": [
    {
     "data": {
      "text/html": [
       "<div>\n",
       "<style scoped>\n",
       "    .dataframe tbody tr th:only-of-type {\n",
       "        vertical-align: middle;\n",
       "    }\n",
       "\n",
       "    .dataframe tbody tr th {\n",
       "        vertical-align: top;\n",
       "    }\n",
       "\n",
       "    .dataframe thead th {\n",
       "        text-align: right;\n",
       "    }\n",
       "</style>\n",
       "<table border=\"1\" class=\"dataframe\">\n",
       "  <thead>\n",
       "    <tr style=\"text-align: right;\">\n",
       "      <th></th>\n",
       "      <th>Coefficient</th>\n",
       "    </tr>\n",
       "  </thead>\n",
       "  <tbody>\n",
       "    <tr>\n",
       "      <th>approximate_count</th>\n",
       "      <td>-8.365520e-11</td>\n",
       "    </tr>\n",
       "    <tr>\n",
       "      <th>retention_days</th>\n",
       "      <td>4.177484e-04</td>\n",
       "    </tr>\n",
       "    <tr>\n",
       "      <th>cpm</th>\n",
       "      <td>1.040688e-01</td>\n",
       "    </tr>\n",
       "    <tr>\n",
       "      <th>impressions</th>\n",
       "      <td>3.454328e-06</td>\n",
       "    </tr>\n",
       "    <tr>\n",
       "      <th>clicks</th>\n",
       "      <td>-4.533620e-05</td>\n",
       "    </tr>\n",
       "    <tr>\n",
       "      <th>ctr</th>\n",
       "      <td>-6.697668e+00</td>\n",
       "    </tr>\n",
       "    <tr>\n",
       "      <th>video_views</th>\n",
       "      <td>-5.140289e-06</td>\n",
       "    </tr>\n",
       "    <tr>\n",
       "      <th>post_reactions</th>\n",
       "      <td>4.021578e-06</td>\n",
       "    </tr>\n",
       "    <tr>\n",
       "      <th>month</th>\n",
       "      <td>8.529325e-04</td>\n",
       "    </tr>\n",
       "    <tr>\n",
       "      <th>day</th>\n",
       "      <td>-1.728358e-03</td>\n",
       "    </tr>\n",
       "    <tr>\n",
       "      <th>year</th>\n",
       "      <td>3.463680e-02</td>\n",
       "    </tr>\n",
       "  </tbody>\n",
       "</table>\n",
       "</div>"
      ],
      "text/plain": [
       "                    Coefficient\n",
       "approximate_count -8.365520e-11\n",
       "retention_days     4.177484e-04\n",
       "cpm                1.040688e-01\n",
       "impressions        3.454328e-06\n",
       "clicks            -4.533620e-05\n",
       "ctr               -6.697668e+00\n",
       "video_views       -5.140289e-06\n",
       "post_reactions     4.021578e-06\n",
       "month              8.529325e-04\n",
       "day               -1.728358e-03\n",
       "year               3.463680e-02"
      ]
     },
     "execution_count": 50,
     "metadata": {},
     "output_type": "execute_result"
    }
   ],
   "source": [
    "coeff_df1 = pd.DataFrame(lm1.coef_,X1.columns,columns=['Coefficient'])\n",
    "coeff_df1"
   ]
  },
  {
   "cell_type": "code",
   "execution_count": 51,
   "metadata": {},
   "outputs": [
    {
     "name": "stdout",
     "output_type": "stream",
     "text": [
      "MAE: 0.40638960359323567\n",
      "MSE: 3.45362484005471\n",
      "RMSE: 1.8583930800707125\n"
     ]
    }
   ],
   "source": [
    "# Evalution on testing data\n",
    "predictions1 = lm1.predict(X1_test)\n",
    "print('MAE:', metrics.mean_absolute_error(y1_test, predictions1))\n",
    "print('MSE:', metrics.mean_squared_error(y1_test, predictions1))\n",
    "print('RMSE:', np.sqrt(metrics.mean_squared_error(y1_test, predictions1)))"
   ]
  },
  {
   "cell_type": "markdown",
   "metadata": {},
   "source": [
    "CTR"
   ]
  },
  {
   "cell_type": "code",
   "execution_count": 52,
   "metadata": {},
   "outputs": [
    {
     "data": {
      "text/html": [
       "<div>\n",
       "<style scoped>\n",
       "    .dataframe tbody tr th:only-of-type {\n",
       "        vertical-align: middle;\n",
       "    }\n",
       "\n",
       "    .dataframe tbody tr th {\n",
       "        vertical-align: top;\n",
       "    }\n",
       "\n",
       "    .dataframe thead th {\n",
       "        text-align: right;\n",
       "    }\n",
       "</style>\n",
       "<table border=\"1\" class=\"dataframe\">\n",
       "  <thead>\n",
       "    <tr style=\"text-align: right;\">\n",
       "      <th></th>\n",
       "      <th>Coefficient</th>\n",
       "    </tr>\n",
       "  </thead>\n",
       "  <tbody>\n",
       "    <tr>\n",
       "      <th>approximate_count</th>\n",
       "      <td>3.630924e-12</td>\n",
       "    </tr>\n",
       "    <tr>\n",
       "      <th>retention_days</th>\n",
       "      <td>8.634165e-06</td>\n",
       "    </tr>\n",
       "    <tr>\n",
       "      <th>cpm</th>\n",
       "      <td>1.644010e-04</td>\n",
       "    </tr>\n",
       "    <tr>\n",
       "      <th>impressions</th>\n",
       "      <td>-8.963377e-08</td>\n",
       "    </tr>\n",
       "    <tr>\n",
       "      <th>clicks</th>\n",
       "      <td>7.618874e-06</td>\n",
       "    </tr>\n",
       "    <tr>\n",
       "      <th>cpc</th>\n",
       "      <td>-1.540455e-03</td>\n",
       "    </tr>\n",
       "    <tr>\n",
       "      <th>video_views</th>\n",
       "      <td>-2.681873e-07</td>\n",
       "    </tr>\n",
       "    <tr>\n",
       "      <th>post_reactions</th>\n",
       "      <td>2.733687e-07</td>\n",
       "    </tr>\n",
       "    <tr>\n",
       "      <th>month</th>\n",
       "      <td>-6.502131e-04</td>\n",
       "    </tr>\n",
       "    <tr>\n",
       "      <th>day</th>\n",
       "      <td>-1.600860e-05</td>\n",
       "    </tr>\n",
       "    <tr>\n",
       "      <th>year</th>\n",
       "      <td>-6.649818e-03</td>\n",
       "    </tr>\n",
       "  </tbody>\n",
       "</table>\n",
       "</div>"
      ],
      "text/plain": [
       "                    Coefficient\n",
       "approximate_count  3.630924e-12\n",
       "retention_days     8.634165e-06\n",
       "cpm                1.644010e-04\n",
       "impressions       -8.963377e-08\n",
       "clicks             7.618874e-06\n",
       "cpc               -1.540455e-03\n",
       "video_views       -2.681873e-07\n",
       "post_reactions     2.733687e-07\n",
       "month             -6.502131e-04\n",
       "day               -1.600860e-05\n",
       "year              -6.649818e-03"
      ]
     },
     "execution_count": 52,
     "metadata": {},
     "output_type": "execute_result"
    }
   ],
   "source": [
    "coeff_df2 = pd.DataFrame(lm2.coef_,X2.columns,columns=['Coefficient'])\n",
    "coeff_df2"
   ]
  },
  {
   "cell_type": "code",
   "execution_count": 53,
   "metadata": {},
   "outputs": [
    {
     "name": "stdout",
     "output_type": "stream",
     "text": [
      "MAE: 0.01970483409115883\n",
      "MSE: 0.0008288822708557689\n",
      "RMSE: 0.028790315574091382\n"
     ]
    }
   ],
   "source": [
    "# Evalution on testing data\n",
    "predictions2 = lm2.predict(X2_test)\n",
    "print('MAE:', metrics.mean_absolute_error(y2_test, predictions2))\n",
    "print('MSE:', metrics.mean_squared_error(y2_test, predictions2))\n",
    "print('RMSE:', np.sqrt(metrics.mean_squared_error(y2_test, predictions2)))"
   ]
  },
  {
   "cell_type": "markdown",
   "metadata": {
    "id": "716_2pJll3Vd"
   },
   "source": [
    "## Model Development and Evaluation- Ridge Regression"
   ]
  },
  {
   "cell_type": "markdown",
   "metadata": {},
   "source": [
    "CPM"
   ]
  },
  {
   "cell_type": "code",
   "execution_count": 54,
   "metadata": {
    "id": "SHBPDGGBl3Vd"
   },
   "outputs": [],
   "source": [
    "X = custom_clean[['approximate_count', 'retention_days','cpc', 'impressions',\n",
    "                  'clicks', 'ctr', 'video_views', 'post_reactions','month','day','year']]\n",
    "y = custom_clean['cpm']"
   ]
  },
  {
   "cell_type": "code",
   "execution_count": 55,
   "metadata": {
    "id": "3aeeEtQul3Vd"
   },
   "outputs": [],
   "source": [
    "X_train, X_test, y_train, y_test = train_test_split(X, y, test_size=0.4, random_state=101)"
   ]
  },
  {
   "cell_type": "code",
   "execution_count": 56,
   "metadata": {
    "colab": {
     "base_uri": "https://localhost:8080/"
    },
    "id": "D7r1CGb0l3Vd",
    "outputId": "7746f730-62f7-480e-c131-86e1e9137ce6",
    "scrolled": true
   },
   "outputs": [
    {
     "name": "stdout",
     "output_type": "stream",
     "text": [
      "MAE: 1.8945247317381386\n",
      "MSE: 17.2382997672765\n",
      "RMSE: 4.151903150035716\n"
     ]
    },
    {
     "name": "stderr",
     "output_type": "stream",
     "text": [
      "/opt/anaconda3/lib/python3.7/site-packages/sklearn/linear_model/ridge.py:147: LinAlgWarning: Ill-conditioned matrix (rcond=1.04251e-17): result may not be accurate.\n",
      "  overwrite_a=True).T\n"
     ]
    }
   ],
   "source": [
    "# Train the model and evaluation on the train data\n",
    "model = Ridge(alpha=1.0)\n",
    "model.fit(X_train, y_train)\n",
    "pred_train_model= model.predict(X_train)\n",
    "print('MAE:', metrics.mean_absolute_error(y_train, pred_train_model))\n",
    "print('MSE:', metrics.mean_squared_error(y_train, pred_train_model))\n",
    "print('RMSE:', np.sqrt(metrics.mean_squared_error(y_train, pred_train_model)))"
   ]
  },
  {
   "cell_type": "code",
   "execution_count": 57,
   "metadata": {
    "colab": {
     "base_uri": "https://localhost:8080/"
    },
    "id": "7DSRMlWwl3Vd",
    "outputId": "29cece35-1b99-4b54-f08e-de85cffdc4c2"
   },
   "outputs": [
    {
     "name": "stdout",
     "output_type": "stream",
     "text": [
      "MAE: 1.8972793344803314\n",
      "MSE: 17.246906696107764\n",
      "RMSE: 4.152939524735192\n"
     ]
    }
   ],
   "source": [
    "# Evaluation on the test data\n",
    "pred_test_model= model.predict(X_test)\n",
    "print('MAE:', metrics.mean_absolute_error(y_test, pred_test_model))\n",
    "print('MSE:', metrics.mean_squared_error(y_test, pred_test_model))\n",
    "print('RMSE:', np.sqrt(metrics.mean_squared_error(y_test, pred_test_model)))"
   ]
  },
  {
   "cell_type": "markdown",
   "metadata": {},
   "source": [
    "CPC"
   ]
  },
  {
   "cell_type": "code",
   "execution_count": 58,
   "metadata": {},
   "outputs": [
    {
     "name": "stdout",
     "output_type": "stream",
     "text": [
      "MAE: 0.40966054336777274\n",
      "MSE: 3.72710229005634\n",
      "RMSE: 1.9305704571593185\n"
     ]
    },
    {
     "name": "stderr",
     "output_type": "stream",
     "text": [
      "/opt/anaconda3/lib/python3.7/site-packages/sklearn/linear_model/ridge.py:147: LinAlgWarning: Ill-conditioned matrix (rcond=1.05399e-17): result may not be accurate.\n",
      "  overwrite_a=True).T\n"
     ]
    }
   ],
   "source": [
    "# Train the model and evaluation on the train data\n",
    "model_ridge = Ridge(alpha=1.0)\n",
    "model_ridge.fit(X1_train, y1_train)\n",
    "pred_train_model_ridge= model_ridge.predict(X1_train)\n",
    "print('MAE:', metrics.mean_absolute_error(y1_train, pred_train_model_ridge))\n",
    "print('MSE:', metrics.mean_squared_error(y1_train, pred_train_model_ridge))\n",
    "print('RMSE:', np.sqrt(metrics.mean_squared_error(y1_train, pred_train_model_ridge)))"
   ]
  },
  {
   "cell_type": "code",
   "execution_count": 59,
   "metadata": {},
   "outputs": [
    {
     "name": "stdout",
     "output_type": "stream",
     "text": [
      "MAE: 0.406203834178681\n",
      "MSE: 3.4536293459458935\n",
      "RMSE: 1.8583942923787442\n"
     ]
    }
   ],
   "source": [
    "# Evaluation on the test data\n",
    "pred_test_model_ridge= model_ridge.predict(X1_test)\n",
    "print('MAE:', metrics.mean_absolute_error(y1_test, pred_test_model_ridge))\n",
    "print('MSE:', metrics.mean_squared_error(y1_test, pred_test_model_ridge))\n",
    "print('RMSE:', np.sqrt(metrics.mean_squared_error(y1_test, pred_test_model_ridge)))"
   ]
  },
  {
   "cell_type": "markdown",
   "metadata": {},
   "source": [
    "CTR"
   ]
  },
  {
   "cell_type": "code",
   "execution_count": 60,
   "metadata": {},
   "outputs": [
    {
     "name": "stdout",
     "output_type": "stream",
     "text": [
      "MAE: 0.01977611530975997\n",
      "MSE: 0.0008572287945452185\n",
      "RMSE: 0.029278469812222402\n"
     ]
    }
   ],
   "source": [
    "# Train the model and evaluation on the train data\n",
    "model_ridge1 = Ridge(alpha=1.0)\n",
    "model_ridge1.fit(X2_train, y2_train)\n",
    "pred_train_model_ridge1= model_ridge1.predict(X2_train)\n",
    "print('MAE:', metrics.mean_absolute_error(y2_train, pred_train_model_ridge1))\n",
    "print('MSE:', metrics.mean_squared_error(y2_train, pred_train_model_ridge1))\n",
    "print('RMSE:', np.sqrt(metrics.mean_squared_error(y2_train, pred_train_model_ridge1)))"
   ]
  },
  {
   "cell_type": "code",
   "execution_count": 61,
   "metadata": {},
   "outputs": [
    {
     "name": "stdout",
     "output_type": "stream",
     "text": [
      "MAE: 0.019704835238405764\n",
      "MSE: 0.000828882268945141\n",
      "RMSE: 0.028790315540909602\n"
     ]
    }
   ],
   "source": [
    "# Evaluation on the test data\n",
    "pred_test_model_ridge1= model_ridge1.predict(X2_test)\n",
    "print('MAE:', metrics.mean_absolute_error(y2_test, pred_test_model_ridge1))\n",
    "print('MSE:', metrics.mean_squared_error(y2_test, pred_test_model_ridge1))\n",
    "print('RMSE:', np.sqrt(metrics.mean_squared_error(y2_test, pred_test_model_ridge1)))"
   ]
  },
  {
   "cell_type": "markdown",
   "metadata": {
    "id": "9yfjNA6al3Vd"
   },
   "source": [
    "## Model Development and Evaluation- LASSO Regression"
   ]
  },
  {
   "cell_type": "markdown",
   "metadata": {},
   "source": [
    "CPM"
   ]
  },
  {
   "cell_type": "code",
   "execution_count": 62,
   "metadata": {
    "id": "Qze03yjDl3Vd"
   },
   "outputs": [],
   "source": [
    "X = custom_clean[['approximate_count', 'retention_days','cpc', 'impressions',\n",
    "                  'clicks', 'ctr', 'video_views', 'post_reactions','month','day','year']]\n",
    "y = custom_clean['cpm']"
   ]
  },
  {
   "cell_type": "code",
   "execution_count": 63,
   "metadata": {
    "id": "__melRtHl3Vd"
   },
   "outputs": [],
   "source": [
    "_train, X_test, y_train, y_test = train_test_split(X, y, test_size=0.4, random_state=101)"
   ]
  },
  {
   "cell_type": "code",
   "execution_count": 64,
   "metadata": {
    "colab": {
     "base_uri": "https://localhost:8080/"
    },
    "id": "YlKHQ5Stl3Vd",
    "outputId": "ec658af8-b92e-489d-fe0d-01549e99384e",
    "scrolled": true
   },
   "outputs": [
    {
     "name": "stdout",
     "output_type": "stream",
     "text": [
      "MAE: 2.090256787677263\n",
      "MSE: 18.280958395681306\n",
      "RMSE: 4.275623743464958\n"
     ]
    }
   ],
   "source": [
    "# Using Lasso to train the model and evaluation on the train data\n",
    "model1 = Lasso(alpha=1.0)\n",
    "model1.fit(X_train, y_train)\n",
    "pred_train_model1= model1.predict(X_train)\n",
    "print('MAE:', metrics.mean_absolute_error(y_train, pred_train_model1))\n",
    "print('MSE:', metrics.mean_squared_error(y_train, pred_train_model1))\n",
    "print('RMSE:', np.sqrt(metrics.mean_squared_error(y_train, pred_train_model1)))"
   ]
  },
  {
   "cell_type": "code",
   "execution_count": 65,
   "metadata": {
    "colab": {
     "base_uri": "https://localhost:8080/"
    },
    "id": "ltMEU04pl3Vd",
    "outputId": "2096ae06-74d8-45d3-ee7e-1e60678afcee"
   },
   "outputs": [
    {
     "name": "stdout",
     "output_type": "stream",
     "text": [
      "MAE: 2.095530339115786\n",
      "MSE: 18.365172006950118\n",
      "RMSE: 4.285460536155959\n"
     ]
    }
   ],
   "source": [
    "# Evaluation on the test data\n",
    "pred_test_model1= model1.predict(X_test)\n",
    "print('MAE:', metrics.mean_absolute_error(y_test, pred_test_model1))\n",
    "print('MSE:', metrics.mean_squared_error(y_test, pred_test_model1))\n",
    "print('RMSE:', np.sqrt(metrics.mean_squared_error(y_test, pred_test_model1)))"
   ]
  },
  {
   "cell_type": "markdown",
   "metadata": {},
   "source": [
    "CPC"
   ]
  },
  {
   "cell_type": "code",
   "execution_count": 66,
   "metadata": {},
   "outputs": [
    {
     "name": "stdout",
     "output_type": "stream",
     "text": [
      "MAE: 0.40955031637527256\n",
      "MSE: 3.8238509902896416\n",
      "RMSE: 1.9554669494240096\n"
     ]
    }
   ],
   "source": [
    "# Using Lasso to train the model and evaluation on the train data\n",
    "model_lasso = Lasso(alpha=1.0)\n",
    "model_lasso.fit(X1_train, y1_train)\n",
    "pred_train_model_lasso= model_lasso.predict(X1_train)\n",
    "print('MAE:', metrics.mean_absolute_error(y1_train, pred_train_model_lasso))\n",
    "print('MSE:', metrics.mean_squared_error(y1_train, pred_train_model_lasso))\n",
    "print('RMSE:', np.sqrt(metrics.mean_squared_error(y1_train, pred_train_model_lasso)))"
   ]
  },
  {
   "cell_type": "code",
   "execution_count": 67,
   "metadata": {},
   "outputs": [
    {
     "name": "stdout",
     "output_type": "stream",
     "text": [
      "MAE: 0.4065618117665141\n",
      "MSE: 3.550790087269075\n",
      "RMSE: 1.8843540238684118\n"
     ]
    }
   ],
   "source": [
    "# Evaluation on the test data\n",
    "pred_test_model_lasso= model_lasso.predict(X1_test)\n",
    "print('MAE:', metrics.mean_absolute_error(y1_test, pred_test_model_lasso))\n",
    "print('MSE:', metrics.mean_squared_error(y1_test, pred_test_model_lasso))\n",
    "print('RMSE:', np.sqrt(metrics.mean_squared_error(y1_test, pred_test_model_lasso)))"
   ]
  },
  {
   "cell_type": "markdown",
   "metadata": {},
   "source": [
    "CTR"
   ]
  },
  {
   "cell_type": "code",
   "execution_count": 68,
   "metadata": {},
   "outputs": [
    {
     "name": "stdout",
     "output_type": "stream",
     "text": [
      "MAE: 0.021028152677736372\n",
      "MSE: 0.0009163481600184334\n",
      "RMSE: 0.03027124311980652\n"
     ]
    }
   ],
   "source": [
    "# Using Lasso to train the model and evaluation on the train data\n",
    "model_lasso1 = Lasso(alpha=1.0)\n",
    "model_lasso1.fit(X2_train, y2_train)\n",
    "pred_train_model_lasso1= model_lasso1.predict(X2_train)\n",
    "print('MAE:', metrics.mean_absolute_error(y2_train, pred_train_model_lasso1))\n",
    "print('MSE:', metrics.mean_squared_error(y2_train, pred_train_model_lasso1))\n",
    "print('RMSE:', np.sqrt(metrics.mean_squared_error(y2_train, pred_train_model_lasso1)))"
   ]
  },
  {
   "cell_type": "code",
   "execution_count": 69,
   "metadata": {},
   "outputs": [
    {
     "name": "stdout",
     "output_type": "stream",
     "text": [
      "MAE: 0.020937145805855106\n",
      "MSE: 0.0008882932644920464\n",
      "RMSE: 0.029804249101295043\n"
     ]
    }
   ],
   "source": [
    "# Evaluation on the test data\n",
    "pred_test_model_lasso1= model_lasso1.predict(X2_test)\n",
    "print('MAE:', metrics.mean_absolute_error(y2_test, pred_test_model_lasso1))\n",
    "print('MSE:', metrics.mean_squared_error(y2_test, pred_test_model_lasso1))\n",
    "print('RMSE:', np.sqrt(metrics.mean_squared_error(y2_test, pred_test_model_lasso1)))"
   ]
  },
  {
   "cell_type": "markdown",
   "metadata": {
    "id": "7mnUvzb9b8i6"
   },
   "source": [
    "# p5.What is the difference between lookalike audiences and other audiences?"
   ]
  },
  {
   "cell_type": "code",
   "execution_count": 70,
   "metadata": {
    "colab": {
     "base_uri": "https://localhost:8080/",
     "height": 202
    },
    "id": "sOkgPhmml3Ve",
    "outputId": "a6a9c29e-0040-474e-90ff-7ce89e35ec0d"
   },
   "outputs": [
    {
     "data": {
      "text/html": [
       "<div>\n",
       "<style scoped>\n",
       "    .dataframe tbody tr th:only-of-type {\n",
       "        vertical-align: middle;\n",
       "    }\n",
       "\n",
       "    .dataframe tbody tr th {\n",
       "        vertical-align: top;\n",
       "    }\n",
       "\n",
       "    .dataframe thead th {\n",
       "        text-align: right;\n",
       "    }\n",
       "</style>\n",
       "<table border=\"1\" class=\"dataframe\">\n",
       "  <thead>\n",
       "    <tr style=\"text-align: right;\">\n",
       "      <th></th>\n",
       "      <th>account_id</th>\n",
       "      <th>approximate_count</th>\n",
       "      <th>custom_audience_id</th>\n",
       "      <th>name</th>\n",
       "      <th>retention_days</th>\n",
       "      <th>time_created</th>\n",
       "      <th>customer_file_source</th>\n",
       "      <th>is_value_based</th>\n",
       "      <th>data_source_type</th>\n",
       "      <th>data_source_sub_type</th>\n",
       "      <th>...</th>\n",
       "      <th>clicks</th>\n",
       "      <th>cpc</th>\n",
       "      <th>impressions</th>\n",
       "      <th>cpm</th>\n",
       "      <th>ctr</th>\n",
       "      <th>video_views</th>\n",
       "      <th>post_reactions</th>\n",
       "      <th>month</th>\n",
       "      <th>year</th>\n",
       "      <th>day</th>\n",
       "    </tr>\n",
       "  </thead>\n",
       "  <tbody>\n",
       "    <tr>\n",
       "      <th>2</th>\n",
       "      <td>104657973074389</td>\n",
       "      <td>15000</td>\n",
       "      <td>6083223001402</td>\n",
       "      <td>People who watched at least 3 second of Panten...</td>\n",
       "      <td>365</td>\n",
       "      <td>2017-11-17 17:01:42</td>\n",
       "      <td>NOT_APPLICABLE</td>\n",
       "      <td>False</td>\n",
       "      <td>EVENT_BASED</td>\n",
       "      <td>ENGAGEMENT_EVENTS</td>\n",
       "      <td>...</td>\n",
       "      <td>2.0</td>\n",
       "      <td>0.145</td>\n",
       "      <td>104.0</td>\n",
       "      <td>2.788462</td>\n",
       "      <td>0.0192</td>\n",
       "      <td>23.0</td>\n",
       "      <td>0.0</td>\n",
       "      <td>11</td>\n",
       "      <td>2017</td>\n",
       "      <td>17</td>\n",
       "    </tr>\n",
       "  </tbody>\n",
       "</table>\n",
       "<p>1 rows × 22 columns</p>\n",
       "</div>"
      ],
      "text/plain": [
       "        account_id  approximate_count  custom_audience_id  \\\n",
       "2  104657973074389              15000       6083223001402   \n",
       "\n",
       "                                                name  retention_days  \\\n",
       "2  People who watched at least 3 second of Panten...             365   \n",
       "\n",
       "         time_created customer_file_source  is_value_based data_source_type  \\\n",
       "2 2017-11-17 17:01:42       NOT_APPLICABLE           False      EVENT_BASED   \n",
       "\n",
       "  data_source_sub_type  ... clicks    cpc  impressions       cpm     ctr  \\\n",
       "2    ENGAGEMENT_EVENTS  ...    2.0  0.145        104.0  2.788462  0.0192   \n",
       "\n",
       "   video_views  post_reactions  month  year  day  \n",
       "2         23.0             0.0     11  2017   17  \n",
       "\n",
       "[1 rows x 22 columns]"
      ]
     },
     "execution_count": 70,
     "metadata": {},
     "output_type": "execute_result"
    }
   ],
   "source": [
    "#remove rows contins null valu in cpc and cpm\n",
    "custom_clean = custom.dropna(axis=0, how='any', thresh=None, subset=['cpc','cpm'], inplace=False)\n",
    "custom_clean.shape\n",
    "custom_clean.head(1)"
   ]
  },
  {
   "cell_type": "code",
   "execution_count": 71,
   "metadata": {
    "colab": {
     "base_uri": "https://localhost:8080/"
    },
    "id": "Vccob0O5l3Ve",
    "outputId": "f11d92d6-a18a-4022-94f8-26e1f66dcd43"
   },
   "outputs": [
    {
     "data": {
      "text/plain": [
       "(710404, 22)"
      ]
     },
     "execution_count": 71,
     "metadata": {},
     "output_type": "execute_result"
    }
   ],
   "source": [
    "# Remove from 885931 to 710404 \n",
    "custom_de = custom_clean.drop_duplicates(subset=['custom_audience_id','cpc','cpm'], keep='first', inplace=False, ignore_index=False)\n",
    "custom_de.shape\n"
   ]
  },
  {
   "cell_type": "code",
   "execution_count": 72,
   "metadata": {
    "colab": {
     "base_uri": "https://localhost:8080/"
    },
    "id": "yUntxmLbl3Ve",
    "outputId": "d9a35422-a963-4831-d893-d1190d6340f5"
   },
   "outputs": [
    {
     "data": {
      "text/plain": [
       "(710404, 27)"
      ]
     },
     "execution_count": 72,
     "metadata": {},
     "output_type": "execute_result"
    }
   ],
   "source": [
    "# use custom datasets to left join lookalike datasets\n",
    "custom_looklike = custom_de.merge(looklike_de, how='left',left_on='custom_audience_id', right_on='origin_id')\n",
    "custom_looklike.shape"
   ]
  },
  {
   "cell_type": "code",
   "execution_count": 73,
   "metadata": {
    "colab": {
     "base_uri": "https://localhost:8080/"
    },
    "id": "zVbwL-N3l3Ve",
    "outputId": "cc132d34-c791-4039-da19-afa641e03b2d"
   },
   "outputs": [
    {
     "name": "stdout",
     "output_type": "stream",
     "text": [
      "(666191, 27)\n",
      "(44213, 27)\n"
     ]
    }
   ],
   "source": [
    "#split Lookalike datasets and other audience\n",
    "other_audience = custom_looklike[pd.isnull(custom_looklike['origin_id'])]\n",
    "print(other_audience.shape)\n",
    "lookalike_audience = custom_looklike[pd.notnull(custom_looklike['origin_id'])]\n",
    "print(lookalike_audience.shape)"
   ]
  },
  {
   "cell_type": "code",
   "execution_count": 74,
   "metadata": {
    "colab": {
     "base_uri": "https://localhost:8080/"
    },
    "id": "Jq2mO0Y3l3Ve",
    "outputId": "63a02353-6d2e-47bb-d37a-caa6f5b4b606",
    "scrolled": true
   },
   "outputs": [
    {
     "name": "stdout",
     "output_type": "stream",
     "text": [
      "0.9573080878481104\n",
      "0.3492242430471394\n",
      "2.688180701155537\n",
      "4.738458953670441\n"
     ]
    }
   ],
   "source": [
    "#compare mean and variances between lookalike and other audiences in CPC\n",
    "print(lookalike_audience['cpc'].mean())\n",
    "print(other_audience['cpc'].mean())\n",
    "\n",
    "print(lookalike_audience['cpc'].var())\n",
    "print(other_audience['cpc'].var())\n",
    "\n",
    "\n"
   ]
  },
  {
   "cell_type": "code",
   "execution_count": 75,
   "metadata": {
    "colab": {
     "base_uri": "https://localhost:8080/"
    },
    "id": "VmTRuELbl3Ve",
    "outputId": "d79f6b22-953c-41ea-b5c4-74de8c1a40ae"
   },
   "outputs": [
    {
     "data": {
      "text/plain": [
       "Ttest_indResult(statistic=57.66259650317478, pvalue=0.0)"
      ]
     },
     "execution_count": 75,
     "metadata": {},
     "output_type": "execute_result"
    }
   ],
   "source": [
    "#compare statistic and p-value betwee lookalike and other audiences in CPC\n",
    "ttest_ind(lookalike_audience['cpc'],other_audience['cpc'])"
   ]
  },
  {
   "cell_type": "code",
   "execution_count": 76,
   "metadata": {
    "colab": {
     "base_uri": "https://localhost:8080/"
    },
    "id": "zNVQgTjWl3Ve",
    "outputId": "2e839c1c-9d3e-47df-ec85-2a1e2f911f1c"
   },
   "outputs": [
    {
     "name": "stdout",
     "output_type": "stream",
     "text": [
      "5.4987975604702495\n",
      "2.6059399854513363\n",
      "29.25012543329031\n",
      "20.627400022128892\n"
     ]
    }
   ],
   "source": [
    "#compare mean and variances between lookalike and other audiences in CPM\n",
    "print(lookalike_audience['cpm'].mean())\n",
    "print(other_audience['cpm'].mean())\n",
    "\n",
    "print(lookalike_audience['cpm'].var())\n",
    "print(other_audience['cpm'].var())"
   ]
  },
  {
   "cell_type": "code",
   "execution_count": 77,
   "metadata": {
    "colab": {
     "base_uri": "https://localhost:8080/"
    },
    "id": "3Dm4uRE4l3Ve",
    "outputId": "fe1034e2-091b-4c40-e070-ce24d8ce31ea"
   },
   "outputs": [
    {
     "data": {
      "text/plain": [
       "Ttest_indResult(statistic=128.04112187579761, pvalue=0.0)"
      ]
     },
     "execution_count": 77,
     "metadata": {},
     "output_type": "execute_result"
    }
   ],
   "source": [
    "#compare statistic and p-value betwee lookalike and other audiences in CPM\n",
    "ttest_ind(lookalike_audience['cpm'],other_audience['cpm'])"
   ]
  }
 ],
 "metadata": {
  "colab": {
   "name": "ALY6080_XNproject_Update 2.ipynb",
   "provenance": []
  },
  "kernelspec": {
   "display_name": "Python 3",
   "language": "python",
   "name": "python3"
  },
  "language_info": {
   "codemirror_mode": {
    "name": "ipython",
    "version": 3
   },
   "file_extension": ".py",
   "mimetype": "text/x-python",
   "name": "python",
   "nbconvert_exporter": "python",
   "pygments_lexer": "ipython3",
   "version": "3.7.4"
  }
 },
 "nbformat": 4,
 "nbformat_minor": 1
}
